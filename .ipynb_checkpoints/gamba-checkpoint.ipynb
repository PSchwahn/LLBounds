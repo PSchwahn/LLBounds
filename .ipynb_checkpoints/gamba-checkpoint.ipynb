{
 "cells": [
  {
   "cell_type": "code",
   "execution_count": 14,
   "id": "exempt-conservative",
   "metadata": {},
   "outputs": [
    {
     "data": {
      "text/html": [
       "<html><script type=\"math/tex; mode=display\">\\newcommand{\\Bold}[1]{\\mathbf{#1}}\\left(\\frac{1}{2},\\,-i,\\,\\frac{1}{2},\\,i,\\,1\\right)</script></html>"
      ],
      "text/latex": [
       "\\begin{math}\n",
       "\\newcommand{\\Bold}[1]{\\mathbf{#1}}\\left(\\frac{1}{2},\\,-i,\\,\\frac{1}{2},\\,i,\\,1\\right)\n",
       "\\end{math}"
      ],
      "text/plain": [
       "(1/2, -I, 1/2, I, 1)"
      ]
     },
     "execution_count": 14,
     "metadata": {},
     "output_type": "execute_result"
    }
   ],
   "source": [
    "t=var(\"t\")\n",
    "Y=Matrix([[exp(I*t),t*exp(I*t),exp(-I*t),t*exp(-I*t),-1],[0,exp(I*t),0,exp(-I*t),0],[I*exp(I*t),I*t*exp(I*t),-I*exp(-I*t),-I*t*exp(-I*t),0],[0,I*exp(I*t),0,-I*exp(-I*t),0],[0,2*exp(I*t),0,2*exp(-I*t),1]])\n",
    "Yinv=1/Y\n",
    "c1=vector([0,0,0,2,1])\n",
    "d1=Y(t=0).solve_right(c1)\n",
    "d1"
   ]
  },
  {
   "cell_type": "code",
   "execution_count": 2,
   "id": "isolated-animal",
   "metadata": {},
   "outputs": [
    {
     "data": {
      "text/plain": [
       "(-1/2*t*e^(-I*t)*sin(t) + cos(t)*e^(-I*t) - e^(-I*t)*sin(t), 1/2*e^(-I*t)*sin(t), -1/2*t*e^(I*t)*sin(t) + cos(t)*e^(I*t) - e^(I*t)*sin(t), 1/2*e^(I*t)*sin(t), -2*sin(t))"
      ]
     },
     "execution_count": 2,
     "metadata": {},
     "output_type": "execute_result"
    }
   ],
   "source": [
    "b=vector([2*cos(t),sin(t),0,0,0])\n",
    "d=Y.solve_right(b)\n",
    "d"
   ]
  },
  {
   "cell_type": "code",
   "execution_count": 3,
   "id": "blocked-cinema",
   "metadata": {},
   "outputs": [
    {
     "data": {
      "text/plain": [
       "(1/8*I*t^2 + 1/16*(2*t - I)*cos(2*t) - 1/16*(2*I*t + 1)*sin(2*t) + (1/2*I + 1/2)*t + (1/4*I + 1/4)*e^(-2*I*t), -1/4*I*t - 1/8*e^(-2*I*t), -1/8*I*t^2 + 1/16*(2*t + I)*cos(2*t) + 1/16*(2*I*t - 1)*sin(2*t) - (1/2*I - 1/2)*t - (1/4*I - 1/4)*e^(2*I*t), 1/4*I*t - 1/8*e^(2*I*t), 2*cos(t))"
      ]
     },
     "execution_count": 3,
     "metadata": {},
     "output_type": "execute_result"
    }
   ],
   "source": [
    "from sage.symbolic.integration.integral import indefinite_integral\n",
    "c=vector([indefinite_integral(f,t) for f in d])\n",
    "c"
   ]
  },
  {
   "cell_type": "code",
   "execution_count": 8,
   "id": "smooth-myanmar",
   "metadata": {},
   "outputs": [
    {
     "data": {
      "text/html": [
       "<html><script type=\"math/tex; mode=display\">\\newcommand{\\Bold}[1]{\\mathbf{#1}}\\left(\\frac{1}{4} \\, {\\left(5 \\, t - 8\\right)} \\cos\\left(t\\right) + \\frac{1}{4} \\, {\\left(t^{2} - 4 \\, t + 3\\right)} \\sin\\left(t\\right) + 2,\\,\\frac{1}{2} \\, t \\sin\\left(t\\right),\\,\\frac{1}{4} \\, {\\left(t^{2} - 4 \\, t\\right)} \\cos\\left(t\\right) - \\frac{1}{4} \\, {\\left(5 \\, t - 4\\right)} \\sin\\left(t\\right),\\,\\frac{1}{2} \\, t \\cos\\left(t\\right) - \\frac{1}{2} \\, \\sin\\left(t\\right),\\,t \\sin\\left(t\\right) + 2 \\, \\cos\\left(t\\right) - 2\\right)</script></html>"
      ],
      "text/latex": [
       "\\begin{math}\n",
       "\\newcommand{\\Bold}[1]{\\mathbf{#1}}\\left(\\frac{1}{4} \\, {\\left(5 \\, t - 8\\right)} \\cos\\left(t\\right) + \\frac{1}{4} \\, {\\left(t^{2} - 4 \\, t + 3\\right)} \\sin\\left(t\\right) + 2,\\,\\frac{1}{2} \\, t \\sin\\left(t\\right),\\,\\frac{1}{4} \\, {\\left(t^{2} - 4 \\, t\\right)} \\cos\\left(t\\right) - \\frac{1}{4} \\, {\\left(5 \\, t - 4\\right)} \\sin\\left(t\\right),\\,\\frac{1}{2} \\, t \\cos\\left(t\\right) - \\frac{1}{2} \\, \\sin\\left(t\\right),\\,t \\sin\\left(t\\right) + 2 \\, \\cos\\left(t\\right) - 2\\right)\n",
       "\\end{math}"
      ],
      "text/plain": [
       "(1/4*(5*t - 8)*cos(t) + 1/4*(t^2 - 4*t + 3)*sin(t) + 2, 1/2*t*sin(t), 1/4*(t^2 - 4*t)*cos(t) - 1/4*(5*t - 4)*sin(t), 1/2*t*cos(t) - 1/2*sin(t), t*sin(t) + 2*cos(t) - 2)"
      ]
     },
     "execution_count": 8,
     "metadata": {},
     "output_type": "execute_result"
    }
   ],
   "source": [
    "%display latex\n",
    "y=vector([f.full_simplify() for f in Y*(c-c(t=0))])\n",
    "y"
   ]
  },
  {
   "cell_type": "code",
   "execution_count": 16,
   "id": "through-hours",
   "metadata": {},
   "outputs": [
    {
     "data": {
      "text/html": [
       "<html><script type=\"math/tex; mode=display\">\\newcommand{\\Bold}[1]{\\mathbf{#1}}\\left(\\frac{1}{4} \\, {\\left(5 \\, t - 4\\right)} \\cos\\left(t\\right) + \\frac{1}{4} \\, {\\left(t^{2} + 4 \\, t + 3\\right)} \\sin\\left(t\\right) + 1,\\,\\frac{1}{2} \\, {\\left(t + 4\\right)} \\sin\\left(t\\right),\\,\\frac{1}{4} \\, {\\left(t^{2} + 4 \\, t\\right)} \\cos\\left(t\\right) - \\frac{5}{4} \\, t \\sin\\left(t\\right),\\,\\frac{1}{2} \\, {\\left(t + 4\\right)} \\cos\\left(t\\right) - \\frac{1}{2} \\, \\sin\\left(t\\right),\\,{\\left(t + 4\\right)} \\sin\\left(t\\right) + 2 \\, \\cos\\left(t\\right) - 1\\right)</script></html>"
      ],
      "text/latex": [
       "\\begin{math}\n",
       "\\newcommand{\\Bold}[1]{\\mathbf{#1}}\\left(\\frac{1}{4} \\, {\\left(5 \\, t - 4\\right)} \\cos\\left(t\\right) + \\frac{1}{4} \\, {\\left(t^{2} + 4 \\, t + 3\\right)} \\sin\\left(t\\right) + 1,\\,\\frac{1}{2} \\, {\\left(t + 4\\right)} \\sin\\left(t\\right),\\,\\frac{1}{4} \\, {\\left(t^{2} + 4 \\, t\\right)} \\cos\\left(t\\right) - \\frac{5}{4} \\, t \\sin\\left(t\\right),\\,\\frac{1}{2} \\, {\\left(t + 4\\right)} \\cos\\left(t\\right) - \\frac{1}{2} \\, \\sin\\left(t\\right),\\,{\\left(t + 4\\right)} \\sin\\left(t\\right) + 2 \\, \\cos\\left(t\\right) - 1\\right)\n",
       "\\end{math}"
      ],
      "text/plain": [
       "(1/4*(5*t - 4)*cos(t) + 1/4*(t^2 + 4*t + 3)*sin(t) + 1, 1/2*(t + 4)*sin(t), 1/4*(t^2 + 4*t)*cos(t) - 5/4*t*sin(t), 1/2*(t + 4)*cos(t) - 1/2*sin(t), (t + 4)*sin(t) + 2*cos(t) - 1)"
      ]
     },
     "execution_count": 16,
     "metadata": {},
     "output_type": "execute_result"
    }
   ],
   "source": [
    "y=vector([f.full_simplify() for f in Y*(d1+c-c(t=0))])\n",
    "y"
   ]
  },
  {
   "cell_type": "code",
   "execution_count": null,
   "id": "excess-reach",
   "metadata": {},
   "outputs": [],
   "source": []
  }
 ],
 "metadata": {
  "kernelspec": {
   "display_name": "SageMath 9.2",
   "language": "sage",
   "name": "sagemath"
  },
  "language_info": {
   "codemirror_mode": {
    "name": "ipython",
    "version": 3
   },
   "file_extension": ".py",
   "mimetype": "text/x-python",
   "name": "python",
   "nbconvert_exporter": "python",
   "pygments_lexer": "ipython3",
   "version": "3.9.2"
  }
 },
 "nbformat": 4,
 "nbformat_minor": 5
}
