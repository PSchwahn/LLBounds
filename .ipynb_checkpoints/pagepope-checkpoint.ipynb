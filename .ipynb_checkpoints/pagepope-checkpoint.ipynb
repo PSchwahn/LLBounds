{
 "cells": [
  {
   "cell_type": "code",
   "execution_count": 3,
   "id": "relevant-rachel",
   "metadata": {},
   "outputs": [
    {
     "data": {
      "text/html": [
       "<html><script type=\"math/tex; mode=display\">\\newcommand{\\Bold}[1]{\\mathbf{#1}}-\\sin\\left({\\theta}\\right) \\mathrm{d} {\\theta}\\wedge \\mathrm{d} {\\phi}</script></html>"
      ],
      "text/latex": [
       "\\begin{math}\n",
       "\\newcommand{\\Bold}[1]{\\mathbf{#1}}-\\sin\\left({\\theta}\\right) \\mathrm{d} {\\theta}\\wedge \\mathrm{d} {\\phi}\n",
       "\\end{math}"
      ],
      "text/plain": [
       "-sin(th) dth/\\dph"
      ]
     },
     "execution_count": 3,
     "metadata": {},
     "output_type": "execute_result"
    }
   ],
   "source": [
    "%display latex\n",
    "M=Manifold(4,'M')\n",
    "s = var('s')\n",
    "assume(s>=1)\n",
    "X.<r,tau,th,ph> = M.chart(r\"r:(s,+oo) tau:(-oo,oo):\\tau th:(0,pi):\\theta ph:(0,2*pi):\\phi\")\n",
    "X1=X.coframe()\n",
    "a=cos(th)*X1[3]\n",
    "a.derivative().display()"
   ]
  },
  {
   "cell_type": "code",
   "execution_count": 3,
   "id": "pursuant-stretch",
   "metadata": {},
   "outputs": [
    {
     "data": {
      "text/html": [
       "<html><script type=\"math/tex; mode=display\">\\newcommand{\\Bold}[1]{\\mathbf{#1}}g = \\left( \\frac{r^{2} - 1}{r^{4} + 3 \\, r^{2} {\\left(s - 1\\right)} - {\\left(s^{3} + 3 \\, {\\left(s - 1\\right)} s + 3\\right)} r + 3 \\, s} \\right) \\mathrm{d} r\\otimes \\mathrm{d} r + \\left( \\frac{r^{4} + 3 \\, r^{2} {\\left(s - 1\\right)} - {\\left(s^{3} + 3 \\, {\\left(s - 1\\right)} s + 3\\right)} r + 3 \\, s}{3 \\, {\\left(r^{2} - 1\\right)} {\\left(s + 1\\right)}} \\right) \\mathrm{d} {\\tau}\\otimes \\mathrm{d} {\\tau} + \\frac{2 \\, \\sqrt{\\frac{1}{3}} {\\left(r^{4} + 3 \\, r^{2} {\\left(s - 1\\right)} - {\\left(s^{3} + 3 \\, {\\left(s - 1\\right)} s + 3\\right)} r + 3 \\, s\\right)} \\cos\\left({\\theta}\\right)}{3 \\, {\\left(r^{2} - 1\\right)} {\\left(s + 1\\right)}^{\\frac{3}{2}}} \\mathrm{d} {\\tau}\\otimes \\mathrm{d} {\\phi} + \\left( \\frac{r^{2} - 1}{3 \\, {\\left(s + 1\\right)}} \\right) \\mathrm{d} {\\theta}\\otimes \\mathrm{d} {\\theta} + \\frac{2 \\, \\sqrt{\\frac{1}{3}} {\\left(r^{4} + 3 \\, r^{2} {\\left(s - 1\\right)} - {\\left(s^{3} + 3 \\, {\\left(s - 1\\right)} s + 3\\right)} r + 3 \\, s\\right)} \\cos\\left({\\theta}\\right)}{3 \\, {\\left(r^{2} - 1\\right)} {\\left(s + 1\\right)}^{\\frac{3}{2}}} \\mathrm{d} {\\phi}\\otimes \\mathrm{d} {\\tau} + \\left( \\frac{{\\left(r^{2} - 1\\right)} \\sin\\left({\\theta}\\right)^{2}}{3 \\, {\\left(s + 1\\right)}} + \\frac{4 \\, {\\left(r^{4} + 3 \\, r^{2} {\\left(s - 1\\right)} - {\\left(s^{3} + 3 \\, {\\left(s - 1\\right)} s + 3\\right)} r + 3 \\, s\\right)} \\cos\\left({\\theta}\\right)^{2}}{9 \\, {\\left(r^{2} - 1\\right)} {\\left(s + 1\\right)}^{2}} \\right) \\mathrm{d} {\\phi}\\otimes \\mathrm{d} {\\phi}</script></html>"
      ],
      "text/latex": [
       "\\begin{math}\n",
       "\\newcommand{\\Bold}[1]{\\mathbf{#1}}g = \\left( \\frac{r^{2} - 1}{r^{4} + 3 \\, r^{2} {\\left(s - 1\\right)} - {\\left(s^{3} + 3 \\, {\\left(s - 1\\right)} s + 3\\right)} r + 3 \\, s} \\right) \\mathrm{d} r\\otimes \\mathrm{d} r + \\left( \\frac{r^{4} + 3 \\, r^{2} {\\left(s - 1\\right)} - {\\left(s^{3} + 3 \\, {\\left(s - 1\\right)} s + 3\\right)} r + 3 \\, s}{3 \\, {\\left(r^{2} - 1\\right)} {\\left(s + 1\\right)}} \\right) \\mathrm{d} {\\tau}\\otimes \\mathrm{d} {\\tau} + \\frac{2 \\, \\sqrt{\\frac{1}{3}} {\\left(r^{4} + 3 \\, r^{2} {\\left(s - 1\\right)} - {\\left(s^{3} + 3 \\, {\\left(s - 1\\right)} s + 3\\right)} r + 3 \\, s\\right)} \\cos\\left({\\theta}\\right)}{3 \\, {\\left(r^{2} - 1\\right)} {\\left(s + 1\\right)}^{\\frac{3}{2}}} \\mathrm{d} {\\tau}\\otimes \\mathrm{d} {\\phi} + \\left( \\frac{r^{2} - 1}{3 \\, {\\left(s + 1\\right)}} \\right) \\mathrm{d} {\\theta}\\otimes \\mathrm{d} {\\theta} + \\frac{2 \\, \\sqrt{\\frac{1}{3}} {\\left(r^{4} + 3 \\, r^{2} {\\left(s - 1\\right)} - {\\left(s^{3} + 3 \\, {\\left(s - 1\\right)} s + 3\\right)} r + 3 \\, s\\right)} \\cos\\left({\\theta}\\right)}{3 \\, {\\left(r^{2} - 1\\right)} {\\left(s + 1\\right)}^{\\frac{3}{2}}} \\mathrm{d} {\\phi}\\otimes \\mathrm{d} {\\tau} + \\left( \\frac{{\\left(r^{2} - 1\\right)} \\sin\\left({\\theta}\\right)^{2}}{3 \\, {\\left(s + 1\\right)}} + \\frac{4 \\, {\\left(r^{4} + 3 \\, r^{2} {\\left(s - 1\\right)} - {\\left(s^{3} + 3 \\, {\\left(s - 1\\right)} s + 3\\right)} r + 3 \\, s\\right)} \\cos\\left({\\theta}\\right)^{2}}{9 \\, {\\left(r^{2} - 1\\right)} {\\left(s + 1\\right)}^{2}} \\right) \\mathrm{d} {\\phi}\\otimes \\mathrm{d} {\\phi}\n",
       "\\end{math}"
      ],
      "text/plain": [
       "g = (r^2 - 1)/(r^4 + 3*r^2*(s - 1) - (s^3 + 3*(s - 1)*s + 3)*r + 3*s) dr*dr + 1/3*(r^4 + 3*r^2*(s - 1) - (s^3 + 3*(s - 1)*s + 3)*r + 3*s)/((r^2 - 1)*(s + 1)) dtau*dtau + 2/3*sqrt(1/3)*(r^4 + 3*r^2*(s - 1) - (s^3 + 3*(s - 1)*s + 3)*r + 3*s)*cos(th)/((r^2 - 1)*(s + 1)^(3/2)) dtau*dph + 1/3*(r^2 - 1)/(s + 1) dth*dth + 2/3*sqrt(1/3)*(r^4 + 3*r^2*(s - 1) - (s^3 + 3*(s - 1)*s + 3)*r + 3*s)*cos(th)/((r^2 - 1)*(s + 1)^(3/2)) dph*dtau + (1/3*(r^2 - 1)*sin(th)^2/(s + 1) + 4/9*(r^4 + 3*r^2*(s - 1) - (s^3 + 3*(s - 1)*s + 3)*r + 3*s)*cos(th)^2/((r^2 - 1)*(s + 1)^2)) dph*dph"
      ]
     },
     "execution_count": 3,
     "metadata": {},
     "output_type": "execute_result"
    }
   ],
   "source": [
    "c=2/(3*(s+1))\n",
    "P=r^4+(2/c-6)*r^2+(2/c-3)+(-s^3+(6-2/c)*s+(3-2/c)/s)*r\n",
    "g = M.metric('g')\n",
    "g[0,0] = (r^2-1)/P\n",
    "g[1,1] = P*c/(2*(r^2-1))\n",
    "g[2,2] = c/2*(r^2-1)\n",
    "g[3,3] = P/(r^2-1)*c^2*cos(th)^2+c/2*(r^2-1)*sin(th)^2\n",
    "g[1,3] = P/(r^2-1)*c/2*sqrt(2*c)*cos(th)\n",
    "g[3,1] = g[1,3]\n",
    "g.display()"
   ]
  },
  {
   "cell_type": "code",
   "execution_count": 4,
   "id": "documentary-poker",
   "metadata": {},
   "outputs": [
    {
     "data": {
      "text/html": [
       "<html><script type=\"math/tex; mode=display\">\\newcommand{\\Bold}[1]{\\mathbf{#1}}\\mathrm{Ric}\\left(g\\right) = \\left( -\\frac{3 \\, {\\left(r^{2} - 1\\right)}}{r^{4} - r s^{3} - 3 \\, r s^{2} - 3 \\, r^{2} + 3 \\, {\\left(r^{2} + r + 1\\right)} s - 3 \\, r} \\right) \\mathrm{d} r\\otimes \\mathrm{d} r + \\left( -\\frac{r^{4} - r s^{3} - 3 \\, r s^{2} - 3 \\, r^{2} + 3 \\, {\\left(r^{2} + r + 1\\right)} s - 3 \\, r}{r^{2} + {\\left(r^{2} - 1\\right)} s - 1} \\right) \\mathrm{d} {\\tau}\\otimes \\mathrm{d} {\\tau} + \\left( -\\frac{2 \\, {\\left(r^{4} - r s^{3} - 3 \\, r s^{2} - 3 \\, r^{2} + 3 \\, {\\left(r^{2} + r + 1\\right)} s - 3 \\, r\\right)} \\sqrt{s + 1} \\cos\\left({\\theta}\\right)}{{\\left(\\sqrt{3} r^{2} - \\sqrt{3}\\right)} s^{2} + \\sqrt{3} r^{2} + 2 \\, {\\left(\\sqrt{3} r^{2} - \\sqrt{3}\\right)} s - \\sqrt{3}} \\right) \\mathrm{d} {\\tau}\\otimes \\mathrm{d} {\\phi} + \\left( -\\frac{r^{2} - 1}{s + 1} \\right) \\mathrm{d} {\\theta}\\otimes \\mathrm{d} {\\theta} + \\left( -\\frac{2 \\, {\\left(r^{4} - r s^{3} - 3 \\, r s^{2} - 3 \\, r^{2} + 3 \\, {\\left(r^{2} + r + 1\\right)} s - 3 \\, r\\right)} \\sqrt{s + 1} \\cos\\left({\\theta}\\right)}{{\\left(\\sqrt{3} r^{2} - \\sqrt{3}\\right)} s^{2} + \\sqrt{3} r^{2} + 2 \\, {\\left(\\sqrt{3} r^{2} - \\sqrt{3}\\right)} s - \\sqrt{3}} \\right) \\mathrm{d} {\\phi}\\otimes \\mathrm{d} {\\tau} + \\left( -\\frac{3 \\, r^{4} + {\\left(r^{4} - 4 \\, r s^{3} - 12 \\, r s^{2} - 6 \\, r^{2} - 3 \\, {\\left(r^{4} - 6 \\, r^{2} - 4 \\, r - 3\\right)} s - 12 \\, r - 3\\right)} \\cos\\left({\\theta}\\right)^{2} - 6 \\, r^{2} + 3 \\, {\\left(r^{4} - 2 \\, r^{2} + 1\\right)} s + 3}{3 \\, {\\left({\\left(r^{2} - 1\\right)} s^{2} + r^{2} + 2 \\, {\\left(r^{2} - 1\\right)} s - 1\\right)}} \\right) \\mathrm{d} {\\phi}\\otimes \\mathrm{d} {\\phi}</script></html>"
      ],
      "text/latex": [
       "\\begin{math}\n",
       "\\newcommand{\\Bold}[1]{\\mathbf{#1}}\\mathrm{Ric}\\left(g\\right) = \\left( -\\frac{3 \\, {\\left(r^{2} - 1\\right)}}{r^{4} - r s^{3} - 3 \\, r s^{2} - 3 \\, r^{2} + 3 \\, {\\left(r^{2} + r + 1\\right)} s - 3 \\, r} \\right) \\mathrm{d} r\\otimes \\mathrm{d} r + \\left( -\\frac{r^{4} - r s^{3} - 3 \\, r s^{2} - 3 \\, r^{2} + 3 \\, {\\left(r^{2} + r + 1\\right)} s - 3 \\, r}{r^{2} + {\\left(r^{2} - 1\\right)} s - 1} \\right) \\mathrm{d} {\\tau}\\otimes \\mathrm{d} {\\tau} + \\left( -\\frac{2 \\, {\\left(r^{4} - r s^{3} - 3 \\, r s^{2} - 3 \\, r^{2} + 3 \\, {\\left(r^{2} + r + 1\\right)} s - 3 \\, r\\right)} \\sqrt{s + 1} \\cos\\left({\\theta}\\right)}{{\\left(\\sqrt{3} r^{2} - \\sqrt{3}\\right)} s^{2} + \\sqrt{3} r^{2} + 2 \\, {\\left(\\sqrt{3} r^{2} - \\sqrt{3}\\right)} s - \\sqrt{3}} \\right) \\mathrm{d} {\\tau}\\otimes \\mathrm{d} {\\phi} + \\left( -\\frac{r^{2} - 1}{s + 1} \\right) \\mathrm{d} {\\theta}\\otimes \\mathrm{d} {\\theta} + \\left( -\\frac{2 \\, {\\left(r^{4} - r s^{3} - 3 \\, r s^{2} - 3 \\, r^{2} + 3 \\, {\\left(r^{2} + r + 1\\right)} s - 3 \\, r\\right)} \\sqrt{s + 1} \\cos\\left({\\theta}\\right)}{{\\left(\\sqrt{3} r^{2} - \\sqrt{3}\\right)} s^{2} + \\sqrt{3} r^{2} + 2 \\, {\\left(\\sqrt{3} r^{2} - \\sqrt{3}\\right)} s - \\sqrt{3}} \\right) \\mathrm{d} {\\phi}\\otimes \\mathrm{d} {\\tau} + \\left( -\\frac{3 \\, r^{4} + {\\left(r^{4} - 4 \\, r s^{3} - 12 \\, r s^{2} - 6 \\, r^{2} - 3 \\, {\\left(r^{4} - 6 \\, r^{2} - 4 \\, r - 3\\right)} s - 12 \\, r - 3\\right)} \\cos\\left({\\theta}\\right)^{2} - 6 \\, r^{2} + 3 \\, {\\left(r^{4} - 2 \\, r^{2} + 1\\right)} s + 3}{3 \\, {\\left({\\left(r^{2} - 1\\right)} s^{2} + r^{2} + 2 \\, {\\left(r^{2} - 1\\right)} s - 1\\right)}} \\right) \\mathrm{d} {\\phi}\\otimes \\mathrm{d} {\\phi}\n",
       "\\end{math}"
      ],
      "text/plain": [
       "Ric(g) = -3*(r^2 - 1)/(r^4 - r*s^3 - 3*r*s^2 - 3*r^2 + 3*(r^2 + r + 1)*s - 3*r) dr*dr - (r^4 - r*s^3 - 3*r*s^2 - 3*r^2 + 3*(r^2 + r + 1)*s - 3*r)/(r^2 + (r^2 - 1)*s - 1) dtau*dtau - 2*(r^4 - r*s^3 - 3*r*s^2 - 3*r^2 + 3*(r^2 + r + 1)*s - 3*r)*sqrt(s + 1)*cos(th)/((sqrt(3)*r^2 - sqrt(3))*s^2 + sqrt(3)*r^2 + 2*(sqrt(3)*r^2 - sqrt(3))*s - sqrt(3)) dtau*dph - (r^2 - 1)/(s + 1) dth*dth - 2*(r^4 - r*s^3 - 3*r*s^2 - 3*r^2 + 3*(r^2 + r + 1)*s - 3*r)*sqrt(s + 1)*cos(th)/((sqrt(3)*r^2 - sqrt(3))*s^2 + sqrt(3)*r^2 + 2*(sqrt(3)*r^2 - sqrt(3))*s - sqrt(3)) dph*dtau - 1/3*(3*r^4 + (r^4 - 4*r*s^3 - 12*r*s^2 - 6*r^2 - 3*(r^4 - 6*r^2 - 4*r - 3)*s - 12*r - 3)*cos(th)^2 - 6*r^2 + 3*(r^4 - 2*r^2 + 1)*s + 3)/((r^2 - 1)*s^2 + r^2 + 2*(r^2 - 1)*s - 1) dph*dph"
      ]
     },
     "execution_count": 4,
     "metadata": {},
     "output_type": "execute_result"
    }
   ],
   "source": [
    "Ric=g.ricci()\n",
    "Ric.display()"
   ]
  },
  {
   "cell_type": "code",
   "execution_count": 5,
   "id": "pursuant-pizza",
   "metadata": {},
   "outputs": [
    {
     "data": {
      "text/html": [
       "<html><script type=\"math/tex; mode=display\">\\newcommand{\\Bold}[1]{\\mathbf{#1}}\\mathrm{True}</script></html>"
      ],
      "text/latex": [
       "\\begin{math}\n",
       "\\newcommand{\\Bold}[1]{\\mathbf{#1}}\\mathrm{True}\n",
       "\\end{math}"
      ],
      "text/plain": [
       "True"
      ]
     },
     "execution_count": 5,
     "metadata": {},
     "output_type": "execute_result"
    }
   ],
   "source": [
    "Ric==-3*g"
   ]
  },
  {
   "cell_type": "code",
   "execution_count": 6,
   "id": "partial-amplifier",
   "metadata": {},
   "outputs": [
    {
     "data": {
      "text/html": [
       "<html><script type=\"math/tex; mode=display\">\\newcommand{\\Bold}[1]{\\mathbf{#1}}\\mathrm{True}</script></html>"
      ],
      "text/latex": [
       "\\begin{math}\n",
       "\\newcommand{\\Bold}[1]{\\mathbf{#1}}\\mathrm{True}\n",
       "\\end{math}"
      ],
      "text/plain": [
       "True"
      ]
     },
     "execution_count": 6,
     "metadata": {},
     "output_type": "execute_result"
    }
   ],
   "source": [
    "scal=g.ricci_scalar()\n",
    "Ric-scal/4*g==0"
   ]
  },
  {
   "cell_type": "code",
   "execution_count": 7,
   "id": "missing-ceiling",
   "metadata": {},
   "outputs": [
    {
     "data": {
      "text/html": [
       "<html><script type=\"math/tex; mode=display\">\\newcommand{\\Bold}[1]{\\mathbf{#1}}g = \\left( \\frac{r^{2} - 1}{r^{4} + 3 \\, r^{2} {\\left(s - 1\\right)} - {\\left(s^{3} + 3 \\, {\\left(s - 1\\right)} s + 3\\right)} r + 3 \\, s} \\right) \\mathrm{d} r\\otimes \\mathrm{d} r + \\left( \\frac{r^{4} + 3 \\, r^{2} {\\left(s - 1\\right)} - {\\left(s^{3} + 3 \\, {\\left(s - 1\\right)} s + 3\\right)} r + 3 \\, s}{3 \\, {\\left(r^{2} - 1\\right)} {\\left(s + 1\\right)}} \\right) \\mathrm{d} {\\tau}\\otimes \\mathrm{d} {\\tau} + \\frac{2 \\, \\sqrt{\\frac{1}{3}} {\\left(r^{4} + 3 \\, r^{2} {\\left(s - 1\\right)} - {\\left(s^{3} + 3 \\, {\\left(s - 1\\right)} s + 3\\right)} r + 3 \\, s\\right)} \\cos\\left({\\theta}\\right)}{3 \\, {\\left(r^{2} - 1\\right)} {\\left(s + 1\\right)}^{\\frac{3}{2}}} \\mathrm{d} {\\tau}\\otimes \\mathrm{d} {\\phi} + \\left( \\frac{r^{2} - 1}{3 \\, {\\left(s + 1\\right)}} \\right) \\mathrm{d} {\\theta}\\otimes \\mathrm{d} {\\theta} + \\frac{2 \\, \\sqrt{\\frac{1}{3}} {\\left(r^{4} + 3 \\, r^{2} {\\left(s - 1\\right)} - {\\left(s^{3} + 3 \\, {\\left(s - 1\\right)} s + 3\\right)} r + 3 \\, s\\right)} \\cos\\left({\\theta}\\right)}{3 \\, {\\left(r^{2} - 1\\right)} {\\left(s + 1\\right)}^{\\frac{3}{2}}} \\mathrm{d} {\\phi}\\otimes \\mathrm{d} {\\tau} + \\left( \\frac{{\\left(r^{2} - 1\\right)} \\sin\\left({\\theta}\\right)^{2}}{3 \\, {\\left(s + 1\\right)}} + \\frac{4 \\, {\\left(r^{4} + 3 \\, r^{2} {\\left(s - 1\\right)} - {\\left(s^{3} + 3 \\, {\\left(s - 1\\right)} s + 3\\right)} r + 3 \\, s\\right)} \\cos\\left({\\theta}\\right)^{2}}{9 \\, {\\left(r^{2} - 1\\right)} {\\left(s + 1\\right)}^{2}} \\right) \\mathrm{d} {\\phi}\\otimes \\mathrm{d} {\\phi}</script></html>"
      ],
      "text/latex": [
       "\\begin{math}\n",
       "\\newcommand{\\Bold}[1]{\\mathbf{#1}}g = \\left( \\frac{r^{2} - 1}{r^{4} + 3 \\, r^{2} {\\left(s - 1\\right)} - {\\left(s^{3} + 3 \\, {\\left(s - 1\\right)} s + 3\\right)} r + 3 \\, s} \\right) \\mathrm{d} r\\otimes \\mathrm{d} r + \\left( \\frac{r^{4} + 3 \\, r^{2} {\\left(s - 1\\right)} - {\\left(s^{3} + 3 \\, {\\left(s - 1\\right)} s + 3\\right)} r + 3 \\, s}{3 \\, {\\left(r^{2} - 1\\right)} {\\left(s + 1\\right)}} \\right) \\mathrm{d} {\\tau}\\otimes \\mathrm{d} {\\tau} + \\frac{2 \\, \\sqrt{\\frac{1}{3}} {\\left(r^{4} + 3 \\, r^{2} {\\left(s - 1\\right)} - {\\left(s^{3} + 3 \\, {\\left(s - 1\\right)} s + 3\\right)} r + 3 \\, s\\right)} \\cos\\left({\\theta}\\right)}{3 \\, {\\left(r^{2} - 1\\right)} {\\left(s + 1\\right)}^{\\frac{3}{2}}} \\mathrm{d} {\\tau}\\otimes \\mathrm{d} {\\phi} + \\left( \\frac{r^{2} - 1}{3 \\, {\\left(s + 1\\right)}} \\right) \\mathrm{d} {\\theta}\\otimes \\mathrm{d} {\\theta} + \\frac{2 \\, \\sqrt{\\frac{1}{3}} {\\left(r^{4} + 3 \\, r^{2} {\\left(s - 1\\right)} - {\\left(s^{3} + 3 \\, {\\left(s - 1\\right)} s + 3\\right)} r + 3 \\, s\\right)} \\cos\\left({\\theta}\\right)}{3 \\, {\\left(r^{2} - 1\\right)} {\\left(s + 1\\right)}^{\\frac{3}{2}}} \\mathrm{d} {\\phi}\\otimes \\mathrm{d} {\\tau} + \\left( \\frac{{\\left(r^{2} - 1\\right)} \\sin\\left({\\theta}\\right)^{2}}{3 \\, {\\left(s + 1\\right)}} + \\frac{4 \\, {\\left(r^{4} + 3 \\, r^{2} {\\left(s - 1\\right)} - {\\left(s^{3} + 3 \\, {\\left(s - 1\\right)} s + 3\\right)} r + 3 \\, s\\right)} \\cos\\left({\\theta}\\right)^{2}}{9 \\, {\\left(r^{2} - 1\\right)} {\\left(s + 1\\right)}^{2}} \\right) \\mathrm{d} {\\phi}\\otimes \\mathrm{d} {\\phi}\n",
       "\\end{math}"
      ],
      "text/plain": [
       "g = (r^2 - 1)/(r^4 + 3*r^2*(s - 1) - (s^3 + 3*(s - 1)*s + 3)*r + 3*s) dr*dr + 1/3*(r^4 + 3*r^2*(s - 1) - (s^3 + 3*(s - 1)*s + 3)*r + 3*s)/((r^2 - 1)*(s + 1)) dtau*dtau + 2/3*sqrt(1/3)*(r^4 + 3*r^2*(s - 1) - (s^3 + 3*(s - 1)*s + 3)*r + 3*s)*cos(th)/((r^2 - 1)*(s + 1)^(3/2)) dtau*dph + 1/3*(r^2 - 1)/(s + 1) dth*dth + 2/3*sqrt(1/3)*(r^4 + 3*r^2*(s - 1) - (s^3 + 3*(s - 1)*s + 3)*r + 3*s)*cos(th)/((r^2 - 1)*(s + 1)^(3/2)) dph*dtau + (1/3*(r^2 - 1)*sin(th)^2/(s + 1) + 4/9*(r^4 + 3*r^2*(s - 1) - (s^3 + 3*(s - 1)*s + 3)*r + 3*s)*cos(th)^2/((r^2 - 1)*(s + 1)^2)) dph*dph"
      ]
     },
     "execution_count": 7,
     "metadata": {},
     "output_type": "execute_result"
    }
   ],
   "source": [
    "c1=c.subs(s=1)\n",
    "P1=P.subs(s=1)\n",
    "g1 = M.metric('g')\n",
    "g1[0,0] = (r^2-1)/P\n",
    "g1[1,1] = P*c/(2*(r^2-1))\n",
    "g1[2,2] = c/2*(r^2-1)\n",
    "g1[3,3] = P/(r^2-1)*c^2*cos(th)^2+c/2*(r^2-1)*sin(th)^2\n",
    "g1[1,3] = P/(r^2-1)*c/2*sqrt(2*c)*cos(th)\n",
    "g1[3,1] = g[1,3]\n",
    "g1.display()"
   ]
  },
  {
   "cell_type": "code",
   "execution_count": 8,
   "id": "improved-tutorial",
   "metadata": {},
   "outputs": [
    {
     "data": {
      "text/html": [
       "<html><script type=\"math/tex; mode=display\">\\newcommand{\\Bold}[1]{\\mathbf{#1}}\\mathrm{Ric}\\left(g\\right) = \\left( -\\frac{3 \\, {\\left(r^{2} - 1\\right)}}{r^{4} - r s^{3} - 3 \\, r s^{2} - 3 \\, r^{2} + 3 \\, {\\left(r^{2} + r + 1\\right)} s - 3 \\, r} \\right) \\mathrm{d} r\\otimes \\mathrm{d} r + \\left( -\\frac{r^{4} - r s^{3} - 3 \\, r s^{2} - 3 \\, r^{2} + 3 \\, {\\left(r^{2} + r + 1\\right)} s - 3 \\, r}{r^{2} + {\\left(r^{2} - 1\\right)} s - 1} \\right) \\mathrm{d} {\\tau}\\otimes \\mathrm{d} {\\tau} + \\left( -\\frac{2 \\, {\\left(r^{4} - r s^{3} - 3 \\, r s^{2} - 3 \\, r^{2} + 3 \\, {\\left(r^{2} + r + 1\\right)} s - 3 \\, r\\right)} \\sqrt{s + 1} \\cos\\left({\\theta}\\right)}{{\\left(\\sqrt{3} r^{2} - \\sqrt{3}\\right)} s^{2} + \\sqrt{3} r^{2} + 2 \\, {\\left(\\sqrt{3} r^{2} - \\sqrt{3}\\right)} s - \\sqrt{3}} \\right) \\mathrm{d} {\\tau}\\otimes \\mathrm{d} {\\phi} + \\left( -\\frac{r^{2} - 1}{s + 1} \\right) \\mathrm{d} {\\theta}\\otimes \\mathrm{d} {\\theta} + \\left( -\\frac{2 \\, {\\left(r^{4} - r s^{3} - 3 \\, r s^{2} - 3 \\, r^{2} + 3 \\, {\\left(r^{2} + r + 1\\right)} s - 3 \\, r\\right)} \\sqrt{s + 1} \\cos\\left({\\theta}\\right)}{{\\left(\\sqrt{3} r^{2} - \\sqrt{3}\\right)} s^{2} + \\sqrt{3} r^{2} + 2 \\, {\\left(\\sqrt{3} r^{2} - \\sqrt{3}\\right)} s - \\sqrt{3}} \\right) \\mathrm{d} {\\phi}\\otimes \\mathrm{d} {\\tau} + \\left( -\\frac{3 \\, r^{4} + {\\left(r^{4} - 4 \\, r s^{3} - 12 \\, r s^{2} - 6 \\, r^{2} - 3 \\, {\\left(r^{4} - 6 \\, r^{2} - 4 \\, r - 3\\right)} s - 12 \\, r - 3\\right)} \\cos\\left({\\theta}\\right)^{2} - 6 \\, r^{2} + 3 \\, {\\left(r^{4} - 2 \\, r^{2} + 1\\right)} s + 3}{3 \\, {\\left({\\left(r^{2} - 1\\right)} s^{2} + r^{2} + 2 \\, {\\left(r^{2} - 1\\right)} s - 1\\right)}} \\right) \\mathrm{d} {\\phi}\\otimes \\mathrm{d} {\\phi}</script></html>"
      ],
      "text/latex": [
       "\\begin{math}\n",
       "\\newcommand{\\Bold}[1]{\\mathbf{#1}}\\mathrm{Ric}\\left(g\\right) = \\left( -\\frac{3 \\, {\\left(r^{2} - 1\\right)}}{r^{4} - r s^{3} - 3 \\, r s^{2} - 3 \\, r^{2} + 3 \\, {\\left(r^{2} + r + 1\\right)} s - 3 \\, r} \\right) \\mathrm{d} r\\otimes \\mathrm{d} r + \\left( -\\frac{r^{4} - r s^{3} - 3 \\, r s^{2} - 3 \\, r^{2} + 3 \\, {\\left(r^{2} + r + 1\\right)} s - 3 \\, r}{r^{2} + {\\left(r^{2} - 1\\right)} s - 1} \\right) \\mathrm{d} {\\tau}\\otimes \\mathrm{d} {\\tau} + \\left( -\\frac{2 \\, {\\left(r^{4} - r s^{3} - 3 \\, r s^{2} - 3 \\, r^{2} + 3 \\, {\\left(r^{2} + r + 1\\right)} s - 3 \\, r\\right)} \\sqrt{s + 1} \\cos\\left({\\theta}\\right)}{{\\left(\\sqrt{3} r^{2} - \\sqrt{3}\\right)} s^{2} + \\sqrt{3} r^{2} + 2 \\, {\\left(\\sqrt{3} r^{2} - \\sqrt{3}\\right)} s - \\sqrt{3}} \\right) \\mathrm{d} {\\tau}\\otimes \\mathrm{d} {\\phi} + \\left( -\\frac{r^{2} - 1}{s + 1} \\right) \\mathrm{d} {\\theta}\\otimes \\mathrm{d} {\\theta} + \\left( -\\frac{2 \\, {\\left(r^{4} - r s^{3} - 3 \\, r s^{2} - 3 \\, r^{2} + 3 \\, {\\left(r^{2} + r + 1\\right)} s - 3 \\, r\\right)} \\sqrt{s + 1} \\cos\\left({\\theta}\\right)}{{\\left(\\sqrt{3} r^{2} - \\sqrt{3}\\right)} s^{2} + \\sqrt{3} r^{2} + 2 \\, {\\left(\\sqrt{3} r^{2} - \\sqrt{3}\\right)} s - \\sqrt{3}} \\right) \\mathrm{d} {\\phi}\\otimes \\mathrm{d} {\\tau} + \\left( -\\frac{3 \\, r^{4} + {\\left(r^{4} - 4 \\, r s^{3} - 12 \\, r s^{2} - 6 \\, r^{2} - 3 \\, {\\left(r^{4} - 6 \\, r^{2} - 4 \\, r - 3\\right)} s - 12 \\, r - 3\\right)} \\cos\\left({\\theta}\\right)^{2} - 6 \\, r^{2} + 3 \\, {\\left(r^{4} - 2 \\, r^{2} + 1\\right)} s + 3}{3 \\, {\\left({\\left(r^{2} - 1\\right)} s^{2} + r^{2} + 2 \\, {\\left(r^{2} - 1\\right)} s - 1\\right)}} \\right) \\mathrm{d} {\\phi}\\otimes \\mathrm{d} {\\phi}\n",
       "\\end{math}"
      ],
      "text/plain": [
       "Ric(g) = -3*(r^2 - 1)/(r^4 - r*s^3 - 3*r*s^2 - 3*r^2 + 3*(r^2 + r + 1)*s - 3*r) dr*dr - (r^4 - r*s^3 - 3*r*s^2 - 3*r^2 + 3*(r^2 + r + 1)*s - 3*r)/(r^2 + (r^2 - 1)*s - 1) dtau*dtau - 2*(r^4 - r*s^3 - 3*r*s^2 - 3*r^2 + 3*(r^2 + r + 1)*s - 3*r)*sqrt(s + 1)*cos(th)/((sqrt(3)*r^2 - sqrt(3))*s^2 + sqrt(3)*r^2 + 2*(sqrt(3)*r^2 - sqrt(3))*s - sqrt(3)) dtau*dph - (r^2 - 1)/(s + 1) dth*dth - 2*(r^4 - r*s^3 - 3*r*s^2 - 3*r^2 + 3*(r^2 + r + 1)*s - 3*r)*sqrt(s + 1)*cos(th)/((sqrt(3)*r^2 - sqrt(3))*s^2 + sqrt(3)*r^2 + 2*(sqrt(3)*r^2 - sqrt(3))*s - sqrt(3)) dph*dtau - 1/3*(3*r^4 + (r^4 - 4*r*s^3 - 12*r*s^2 - 6*r^2 - 3*(r^4 - 6*r^2 - 4*r - 3)*s - 12*r - 3)*cos(th)^2 - 6*r^2 + 3*(r^4 - 2*r^2 + 1)*s + 3)/((r^2 - 1)*s^2 + r^2 + 2*(r^2 - 1)*s - 1) dph*dph"
      ]
     },
     "execution_count": 8,
     "metadata": {},
     "output_type": "execute_result"
    }
   ],
   "source": [
    "Ric1=g1.ricci()\n",
    "Ric1.display()"
   ]
  },
  {
   "cell_type": "code",
   "execution_count": 9,
   "id": "thrown-player",
   "metadata": {},
   "outputs": [
    {
     "data": {
      "text/html": [
       "<html><script type=\"math/tex; mode=display\">\\newcommand{\\Bold}[1]{\\mathbf{#1}}\\mathrm{True}</script></html>"
      ],
      "text/latex": [
       "\\begin{math}\n",
       "\\newcommand{\\Bold}[1]{\\mathbf{#1}}\\mathrm{True}\n",
       "\\end{math}"
      ],
      "text/plain": [
       "True"
      ]
     },
     "execution_count": 9,
     "metadata": {},
     "output_type": "execute_result"
    }
   ],
   "source": [
    "scal1=g1.ricci_scalar()\n",
    "Ric1-scal1/4*g1==0"
   ]
  },
  {
   "cell_type": "code",
   "execution_count": 11,
   "id": "decent-offer",
   "metadata": {},
   "outputs": [
    {
     "data": {
      "text/html": [
       "<html><script type=\"math/tex; mode=display\">\\newcommand{\\Bold}[1]{\\mathbf{#1}}g_{S^2} = \\mathrm{d} {\\theta}\\otimes \\mathrm{d} {\\theta} + \\sin\\left({\\theta}\\right)^{2} \\mathrm{d} {\\phi}\\otimes \\mathrm{d} {\\phi}</script></html>"
      ],
      "text/latex": [
       "\\begin{math}\n",
       "\\newcommand{\\Bold}[1]{\\mathbf{#1}}g_{S^2} = \\mathrm{d} {\\theta}\\otimes \\mathrm{d} {\\theta} + \\sin\\left({\\theta}\\right)^{2} \\mathrm{d} {\\phi}\\otimes \\mathrm{d} {\\phi}\n",
       "\\end{math}"
      ],
      "text/plain": [
       "g_{S^2} = dth*dth + sin(th)^2 dph*dph"
      ]
     },
     "execution_count": 11,
     "metadata": {},
     "output_type": "execute_result"
    }
   ],
   "source": [
    "S2=Manifold(2,\"S^2\")\n",
    "Y.<th,ph> = S2.chart(r\"th:(0,pi):\\theta ph:(0,2*pi):\\phi\")\n",
    "gs=S2.metric(\"g_{S^2}\")\n",
    "gs[0,0]=1\n",
    "gs[1,1]=sin(th)^2\n",
    "gs.display()"
   ]
  },
  {
   "cell_type": "code",
   "execution_count": 12,
   "id": "interesting-acoustic",
   "metadata": {},
   "outputs": [
    {
     "data": {
      "text/html": [
       "<html><script type=\"math/tex; mode=display\">\\newcommand{\\Bold}[1]{\\mathbf{#1}}\\epsilon_{g_{S^2}} = \\sin\\left({\\theta}\\right) \\mathrm{d} {\\theta}\\wedge \\mathrm{d} {\\phi}</script></html>"
      ],
      "text/latex": [
       "\\begin{math}\n",
       "\\newcommand{\\Bold}[1]{\\mathbf{#1}}\\epsilon_{g_{S^2}} = \\sin\\left({\\theta}\\right) \\mathrm{d} {\\theta}\\wedge \\mathrm{d} {\\phi}\n",
       "\\end{math}"
      ],
      "text/plain": [
       "eps_g_{S^2} = sin(th) dth/\\dph"
      ]
     },
     "execution_count": 12,
     "metadata": {},
     "output_type": "execute_result"
    }
   ],
   "source": [
    "gs.volume_form().display()"
   ]
  },
  {
   "cell_type": "code",
   "execution_count": 13,
   "id": "super-henry",
   "metadata": {},
   "outputs": [],
   "source": [
    "#c=2/(3*(s+1))\n",
    "#P=r^4+(2/c-6)*r^2+(2/c-3)+(-s^3+(6-2/c)*s+(3-2/c)/s)*r\n",
    "#gpp=M.metric(\"g'\")\n",
    "#gpptensor=(r^2-1)/P*X1[0]*X1[0]+P/(r^2-1)*c^2*(X1[1]-2*a)*(X1[1]-2*a)+(r^2-1)*c*(X1[2]*X1[2]+sin(th)^2*X1[3]*X1[3])\n",
    "#gpp[0,0]=gpptensor[0,0]\n",
    "#gpp[1,1]=gpptensor[1,1]\n",
    "#gpp[2,2]=gpptensor[2,2]\n",
    "#gpp[3,3]=gpptensor[3,3]\n",
    "#gpp[1,3]=gpptensor[1,3]\n",
    "#gpp[3,1]=gpptensor[3,1]\n",
    "#gpp.display()"
   ]
  },
  {
   "cell_type": "code",
   "execution_count": 4,
   "id": "undefined-circumstances",
   "metadata": {},
   "outputs": [],
   "source": [
    "#better parametrization\n",
    "c=2/(3*(s+1))\n",
    "#c=2/3\n",
    "P=r^4+(2/c-6)*r^2+(2/c-3)+(-s^3+(6-2/c)*s+(3-2/c)/s)*r\n",
    "gpp=M.metric(\"g'\")\n",
    "gpptensor=(r^2-1)/P*X1[0]*X1[0]+P/(r^2-1)*c^2*(X1[1]+a)*(X1[1]+a)+(r^2-1)*c/2*(X1[2]*X1[2]+sin(th)^2*X1[3]*X1[3])\n",
    "gpp[:]=gpptensor[:]\n",
    "#Ricpp=gpp.ricci()\n",
    "#scalpp=g.ricci_scalar()\n",
    "#Ricpp-scalpp/4*gpp==0"
   ]
  },
  {
   "cell_type": "code",
   "execution_count": 8,
   "id": "contained-douglas",
   "metadata": {},
   "outputs": [
    {
     "data": {
      "text/html": [
       "<html><script type=\"math/tex; mode=display\">\\newcommand{\\Bold}[1]{\\mathbf{#1}}g' = \\frac{2}{3 \\, {\\left(s + 1\\right)}} \\mathrm{d} {\\tau}\\otimes \\mathrm{d} {\\tau} + \\frac{2 \\, \\cos\\left({\\theta}\\right)}{3 \\, {\\left(s + 1\\right)}} \\mathrm{d} {\\tau}\\otimes \\mathrm{d} {\\phi} + \\frac{1}{2} \\mathrm{d} {\\theta}\\otimes \\mathrm{d} {\\theta} + \\frac{2 \\, \\cos\\left({\\theta}\\right)}{3 \\, {\\left(s + 1\\right)}} \\mathrm{d} {\\phi}\\otimes \\mathrm{d} {\\tau} + \\left( \\frac{{\\left(3 \\, s - 1\\right)} \\sin\\left({\\theta}\\right)^{2} + 4}{6 \\, {\\left(s + 1\\right)}} \\right) \\mathrm{d} {\\phi}\\otimes \\mathrm{d} {\\phi}</script></html>"
      ],
      "text/latex": [
       "\\begin{math}\n",
       "\\newcommand{\\Bold}[1]{\\mathbf{#1}}g' = \\frac{2}{3 \\, {\\left(s + 1\\right)}} \\mathrm{d} {\\tau}\\otimes \\mathrm{d} {\\tau} + \\frac{2 \\, \\cos\\left({\\theta}\\right)}{3 \\, {\\left(s + 1\\right)}} \\mathrm{d} {\\tau}\\otimes \\mathrm{d} {\\phi} + \\frac{1}{2} \\mathrm{d} {\\theta}\\otimes \\mathrm{d} {\\theta} + \\frac{2 \\, \\cos\\left({\\theta}\\right)}{3 \\, {\\left(s + 1\\right)}} \\mathrm{d} {\\phi}\\otimes \\mathrm{d} {\\tau} + \\left( \\frac{{\\left(3 \\, s - 1\\right)} \\sin\\left({\\theta}\\right)^{2} + 4}{6 \\, {\\left(s + 1\\right)}} \\right) \\mathrm{d} {\\phi}\\otimes \\mathrm{d} {\\phi}\n",
       "\\end{math}"
      ],
      "text/plain": [
       "g' = 2/3/(s + 1) dtau*dtau + 2/3*cos(th)/(s + 1) dtau*dph + 1/2 dth*dth + 2/3*cos(th)/(s + 1) dph*dtau + 1/6*((3*s - 1)*sin(th)^2 + 4)/(s + 1) dph*dph"
      ]
     },
     "execution_count": 8,
     "metadata": {},
     "output_type": "execute_result"
    }
   ],
   "source": [
    "#Conformal infinity\n",
    "#c=1/3\n",
    "C=Manifold(3,'C')\n",
    "Y.<tau,th,ph>=C.chart(r\"tau:(-oo,oo):\\tau th:(0,pi):\\theta ph:(0,2*pi):\\phi\")\n",
    "Y1=Y.coframe()\n",
    "theta=Y1[0]+cos(th)*Y1[2]\n",
    "gconf=C.metric(\"g'\")\n",
    "gconftensor=c*theta*theta+1/2*(Y1[1]*Y1[1]+sin(th)^2*Y1[2]*Y1[2])\n",
    "gconf[:]=gconftensor[:]\n",
    "gconf.display()"
   ]
  },
  {
   "cell_type": "code",
   "execution_count": 5,
   "id": "individual-circuit",
   "metadata": {},
   "outputs": [],
   "source": [
    "Weyl=gpp.weyl()\n",
    "Weylup=Weyl.up(gpp,2)\n",
    "Riem=gpp.riemann()\n",
    "Riemup=Riem.up(gpp,2)"
   ]
  },
  {
   "cell_type": "code",
   "execution_count": 6,
   "id": "together-ridge",
   "metadata": {},
   "outputs": [],
   "source": [
    "L2plus3=[X1[0].wedge(X1[i+1])+X1[0].wedge(X1[i+1]).hodge_dual(gpp) for i in range(0,3)]\n",
    "L2minus3=[X1[0].wedge(X1[i+1])-X1[0].wedge(X1[i+1]).hodge_dual(gpp) for i in range(0,3)]\n",
    "WL2plus3=[Weylup.contract(0,1,x,0,1) for x in L2plus3]\n",
    "WL2minus3=[Weylup.contract(0,1,x,0,1) for x in L2minus3]\n",
    "RL2plus3=[Riemup.contract(0,1,x,0,1) for x in L2plus3]\n",
    "RL2minus3=[Riemup.contract(0,1,x,0,1) for x in L2minus3]\n",
    "Rplus3list=[]\n",
    "for x in RL2plus3:\n",
    "    xcolumn=[]\n",
    "    for i in range(0,3):\n",
    "        xcolumn+=[x[0,i+1]]\n",
    "    Rplus3list+=[xcolumn]\n",
    "Rminus3list=[]\n",
    "for x in RL2minus3:\n",
    "    xcolumn=[]\n",
    "    for i in range(0,3):\n",
    "        xcolumn+=[x[0,i+1]]\n",
    "    Rminus3list+=[xcolumn]\n",
    "Wplus3list=[]\n",
    "for x in WL2plus3:\n",
    "    xcolumn=[]\n",
    "    for i in range(0,3):\n",
    "        xcolumn+=[x[0,i+1]]\n",
    "    Wplus3list+=[xcolumn]\n",
    "Wminus3list=[]\n",
    "for x in WL2minus3:\n",
    "    xcolumn=[]\n",
    "    for i in range(0,3):\n",
    "        xcolumn+=[x[0,i+1]]\n",
    "    Wminus3list+=[xcolumn]\n",
    "Wplus3matrix=matrix(Wplus3list).transpose()\n",
    "Wminus3matrix=matrix(Wminus3list).transpose()\n",
    "Rplus3matrix=matrix(Rplus3list).transpose()\n",
    "Rminus3matrix=matrix(Rminus3list).transpose()"
   ]
  },
  {
   "cell_type": "code",
   "execution_count": 19,
   "id": "southwest-workplace",
   "metadata": {},
   "outputs": [],
   "source": [
    "s=1\n",
    "c=2/(3*(s+1))\n",
    "P=r^4+(2/c-6)*r^2+(2/c-3)+(-s^3+(6-2/c)*s+(3-2/c)/s)*r\n",
    "glim=M.metric(\"g_0\")\n",
    "glimtensor=(r^2-1)/P*X1[0]*X1[0]+P/(r^2-1)*c^2*(X1[1]+a)*(X1[1]+a)+(r^2-1)*c/2*(X1[2]*X1[2]+sin(th)^2*X1[3]*X1[3])\n",
    "glim[:]=glimtensor[:]\n",
    "Weyllim=glim.weyl()\n",
    "Weyllimup=Weyllim.up(glim,2)"
   ]
  },
  {
   "cell_type": "code",
   "execution_count": 11,
   "id": "intensive-cardiff",
   "metadata": {},
   "outputs": [
    {
     "data": {
      "text/html": [
       "<html><script type=\"math/tex; mode=display\">\\newcommand{\\Bold}[1]{\\mathbf{#1}}0</script></html>"
      ],
      "text/latex": [
       "\\begin{math}\n",
       "\\newcommand{\\Bold}[1]{\\mathbf{#1}}0\n",
       "\\end{math}"
      ],
      "text/plain": [
       "0"
      ]
     },
     "execution_count": 11,
     "metadata": {},
     "output_type": "execute_result"
    }
   ],
   "source": [
    "Weyllimup.contract(0,1,alphaplusl,0,1).display()\n",
    "#(anti-)self-dual, just as Pedersen metric"
   ]
  },
  {
   "cell_type": "code",
   "execution_count": 15,
   "id": "exterior-parish",
   "metadata": {},
   "outputs": [],
   "source": [
    "#for limit metric\n",
    "L2plus3=[X1[0].wedge(X1[i+1])+X1[0].wedge(X1[i+1]).hodge_dual(glim) for i in range(0,3)]\n",
    "L2minus3=[X1[0].wedge(X1[i+1])-X1[0].wedge(X1[i+1]).hodge_dual(glim) for i in range(0,3)]\n",
    "WL2plus3=[Weyllimup.contract(0,1,x,0,1) for x in L2plus3]\n",
    "WL2minus3=[Weyllimup.contract(0,1,x,0,1) for x in L2minus3]\n",
    "RL2plus3=[Riemlimup.contract(0,1,x,0,1) for x in L2plus3]\n",
    "RL2minus3=[Riemlimup.contract(0,1,x,0,1) for x in L2minus3]\n",
    "Rplus3list=[]\n",
    "for x in RL2plus3:\n",
    "    xcolumn=[]\n",
    "    for i in range(0,3):\n",
    "        xcolumn+=[x[0,i+1]]\n",
    "    Rplus3list+=[xcolumn]\n",
    "Rminus3list=[]\n",
    "for x in RL2minus3:\n",
    "    xcolumn=[]\n",
    "    for i in range(0,3):\n",
    "        xcolumn+=[x[0,i+1]]\n",
    "    Rminus3list+=[xcolumn]\n",
    "Wplus3list=[]\n",
    "for x in WL2plus3:\n",
    "    xcolumn=[]\n",
    "    for i in range(0,3):\n",
    "        xcolumn+=[x[0,i+1]]\n",
    "    Wplus3list+=[xcolumn]\n",
    "Wminus3list=[]\n",
    "for x in WL2minus3:\n",
    "    xcolumn=[]\n",
    "    for i in range(0,3):\n",
    "        xcolumn+=[x[0,i+1]]\n",
    "    Wminus3list+=[xcolumn]\n",
    "Wplus3matrix=matrix(Wplus3list).transpose()\n",
    "Wminus3matrix=matrix(Wminus3list).transpose()\n",
    "Rplus3matrix=matrix(Rplus3list).transpose()\n",
    "Rminus3matrix=matrix(Rminus3list).transpose()"
   ]
  },
  {
   "cell_type": "code",
   "execution_count": 11,
   "id": "headed-processing",
   "metadata": {},
   "outputs": [
    {
     "data": {
      "text/html": [
       "<html><script type=\"math/tex; mode=display\">\\newcommand{\\Bold}[1]{\\mathbf{#1}}-\\frac{4 \\, r^{9} - s^{9} + 36 \\, r^{8} - 9 \\, s^{8} + 144 \\, r^{7} - 3 \\, {\\left(r^{3} + 3 \\, r^{2} + 3 \\, r + 29\\right)} s^{6} - 36 \\, s^{7} + 336 \\, r^{6} - 18 \\, {\\left(r^{3} + 3 \\, r^{2} + 3 \\, r + 8\\right)} s^{5} + 504 \\, r^{5} - 9 \\, {\\left(5 \\, r^{3} + 15 \\, r^{2} + 15 \\, r + 19\\right)} s^{4} + 504 \\, r^{4} - 12 \\, {\\left(5 \\, r^{3} + 15 \\, r^{2} + 15 \\, r + 12\\right)} s^{3} + 333 \\, r^{3} - 9 \\, {\\left(5 \\, r^{3} + 15 \\, r^{2} + 15 \\, r + 9\\right)} s^{2} + 135 \\, r^{2} - 9 \\, {\\left(2 \\, r^{3} + 6 \\, r^{2} + 6 \\, r + 3\\right)} s + 27 \\, r}{4 \\, {\\left(r^{9} + 9 \\, r^{8} + 36 \\, r^{7} + 84 \\, r^{6} + 126 \\, r^{5} + 126 \\, r^{4} + 84 \\, r^{3} + 36 \\, r^{2} + 9 \\, r + 1\\right)}}</script></html>"
      ],
      "text/latex": [
       "\\begin{math}\n",
       "\\newcommand{\\Bold}[1]{\\mathbf{#1}}-\\frac{4 \\, r^{9} - s^{9} + 36 \\, r^{8} - 9 \\, s^{8} + 144 \\, r^{7} - 3 \\, {\\left(r^{3} + 3 \\, r^{2} + 3 \\, r + 29\\right)} s^{6} - 36 \\, s^{7} + 336 \\, r^{6} - 18 \\, {\\left(r^{3} + 3 \\, r^{2} + 3 \\, r + 8\\right)} s^{5} + 504 \\, r^{5} - 9 \\, {\\left(5 \\, r^{3} + 15 \\, r^{2} + 15 \\, r + 19\\right)} s^{4} + 504 \\, r^{4} - 12 \\, {\\left(5 \\, r^{3} + 15 \\, r^{2} + 15 \\, r + 12\\right)} s^{3} + 333 \\, r^{3} - 9 \\, {\\left(5 \\, r^{3} + 15 \\, r^{2} + 15 \\, r + 9\\right)} s^{2} + 135 \\, r^{2} - 9 \\, {\\left(2 \\, r^{3} + 6 \\, r^{2} + 6 \\, r + 3\\right)} s + 27 \\, r}{4 \\, {\\left(r^{9} + 9 \\, r^{8} + 36 \\, r^{7} + 84 \\, r^{6} + 126 \\, r^{5} + 126 \\, r^{4} + 84 \\, r^{3} + 36 \\, r^{2} + 9 \\, r + 1\\right)}}\n",
       "\\end{math}"
      ],
      "text/plain": [
       "-1/4*(4*r^9 - s^9 + 36*r^8 - 9*s^8 + 144*r^7 - 3*(r^3 + 3*r^2 + 3*r + 29)*s^6 - 36*s^7 + 336*r^6 - 18*(r^3 + 3*r^2 + 3*r + 8)*s^5 + 504*r^5 - 9*(5*r^3 + 15*r^2 + 15*r + 19)*s^4 + 504*r^4 - 12*(5*r^3 + 15*r^2 + 15*r + 12)*s^3 + 333*r^3 - 9*(5*r^3 + 15*r^2 + 15*r + 9)*s^2 + 135*r^2 - 9*(2*r^3 + 6*r^2 + 6*r + 3)*s + 27*r)/(r^9 + 9*r^8 + 36*r^7 + 84*r^6 + 126*r^5 + 126*r^4 + 84*r^3 + 36*r^2 + 9*r + 1)"
      ]
     },
     "execution_count": 11,
     "metadata": {},
     "output_type": "execute_result"
    }
   ],
   "source": [
    "det=Rminus3matrix.det()\n",
    "det"
   ]
  },
  {
   "cell_type": "code",
   "execution_count": 18,
   "id": "traditional-there",
   "metadata": {},
   "outputs": [
    {
     "data": {
      "text/html": [
       "<html><script type=\"math/tex; mode=display\">\\newcommand{\\Bold}[1]{\\mathbf{#1}}-1.88699324589053 \\times 10^{-17}</script></html>"
      ],
      "text/latex": [
       "\\begin{math}\n",
       "\\newcommand{\\Bold}[1]{\\mathbf{#1}}-1.88699324589053 \\times 10^{-17}\n",
       "\\end{math}"
      ],
      "text/plain": [
       "-1.88699324589053e-17"
      ]
     },
     "execution_count": 18,
     "metadata": {},
     "output_type": "execute_result"
    }
   ],
   "source": [
    "det.expr().substitute(r=s).substitute(s=1)"
   ]
  },
  {
   "cell_type": "code",
   "execution_count": 10,
   "id": "vertical-genesis",
   "metadata": {},
   "outputs": [
    {
     "data": {
      "text/html": [
       "<html><script type=\"math/tex; mode=display\">\\newcommand{\\Bold}[1]{\\mathbf{#1}}\\left(\\begin{array}{rrr}\n",
       "0 & 0 & 0 \\\\\n",
       "0 & 0 & 0 \\\\\n",
       "0 & 0 & 0\n",
       "\\end{array}\\right)</script></html>"
      ],
      "text/latex": [
       "\\begin{math}\n",
       "\\newcommand{\\Bold}[1]{\\mathbf{#1}}\\left(\\begin{array}{rrr}\n",
       "0 & 0 & 0 \\\\\n",
       "0 & 0 & 0 \\\\\n",
       "0 & 0 & 0\n",
       "\\end{array}\\right)\n",
       "\\end{math}"
      ],
      "text/plain": [
       "[0 0 0]\n",
       "[0 0 0]\n",
       "[0 0 0]"
      ]
     },
     "execution_count": 10,
     "metadata": {},
     "output_type": "execute_result"
    }
   ],
   "source": [
    "matrix([[x.expr() for x in y] for y in Wplus3list]).transpose().substitute(s=1)"
   ]
  },
  {
   "cell_type": "code",
   "execution_count": 8,
   "id": "attempted-intro",
   "metadata": {},
   "outputs": [
    {
     "data": {
      "text/html": [
       "<html><script type=\"math/tex; mode=display\">\\newcommand{\\Bold}[1]{\\mathbf{#1}}\\left(\\begin{array}{rrr}\n",
       "\\frac{s^{3} + 3 \\, s^{2} - 9 \\, s + 5}{r^{3} - 3 \\, r^{2} + 3 \\, r - 1} & 0 & 0 \\\\\n",
       "0 & -\\frac{s^{3} + 3 \\, s^{2} - 9 \\, s + 5}{2 \\, {\\left(r^{3} - 3 \\, r^{2} + 3 \\, r - 1\\right)}} & 0 \\\\\n",
       "\\frac{3 \\, {\\left(s^{3} + 3 \\, s^{2} - 9 \\, s + 5\\right)} \\cos\\left({\\theta}\\right)}{2 \\, {\\left(r^{3} - 3 \\, r^{2} + 3 \\, r - 1\\right)}} & 0 & -\\frac{s^{3} - {\\left(s^{3} + 3 \\, s^{2} - 9 \\, s + 5\\right)} \\cos\\left({\\theta}\\right)^{2} + 3 \\, s^{2} - 9 \\, s + 5}{2 \\, {\\left(r^{3} - 3 \\, r^{2} + 3 \\, r - 1\\right)} \\sin\\left({\\theta}\\right)^{2}}\n",
       "\\end{array}\\right)</script></html>"
      ],
      "text/latex": [
       "\\begin{math}\n",
       "\\newcommand{\\Bold}[1]{\\mathbf{#1}}\\left(\\begin{array}{rrr}\n",
       "\\frac{s^{3} + 3 \\, s^{2} - 9 \\, s + 5}{r^{3} - 3 \\, r^{2} + 3 \\, r - 1} & 0 & 0 \\\\\n",
       "0 & -\\frac{s^{3} + 3 \\, s^{2} - 9 \\, s + 5}{2 \\, {\\left(r^{3} - 3 \\, r^{2} + 3 \\, r - 1\\right)}} & 0 \\\\\n",
       "\\frac{3 \\, {\\left(s^{3} + 3 \\, s^{2} - 9 \\, s + 5\\right)} \\cos\\left({\\theta}\\right)}{2 \\, {\\left(r^{3} - 3 \\, r^{2} + 3 \\, r - 1\\right)}} & 0 & -\\frac{s^{3} - {\\left(s^{3} + 3 \\, s^{2} - 9 \\, s + 5\\right)} \\cos\\left({\\theta}\\right)^{2} + 3 \\, s^{2} - 9 \\, s + 5}{2 \\, {\\left(r^{3} - 3 \\, r^{2} + 3 \\, r - 1\\right)} \\sin\\left({\\theta}\\right)^{2}}\n",
       "\\end{array}\\right)\n",
       "\\end{math}"
      ],
      "text/plain": [
       "[                                                     (s^3 + 3*s^2 - 9*s + 5)/(r^3 - 3*r^2 + 3*r - 1)                                                                                                    0                                                                                                    0]\n",
       "[                                                                                                   0                                                 -1/2*(s^3 + 3*s^2 - 9*s + 5)/(r^3 - 3*r^2 + 3*r - 1)                                                                                                    0]\n",
       "[                                         3/2*(s^3 + 3*s^2 - 9*s + 5)*cos(th)/(r^3 - 3*r^2 + 3*r - 1)                                                                                                    0 -1/2*(s^3 - (s^3 + 3*s^2 - 9*s + 5)*cos(th)^2 + 3*s^2 - 9*s + 5)/((r^3 - 3*r^2 + 3*r - 1)*sin(th)^2)]"
      ]
     },
     "execution_count": 8,
     "metadata": {},
     "output_type": "execute_result"
    }
   ],
   "source": [
    "Wplus3matrix"
   ]
  },
  {
   "cell_type": "code",
   "execution_count": 20,
   "id": "useful-experiment",
   "metadata": {},
   "outputs": [
    {
     "data": {
      "text/html": [
       "<html><script type=\"math/tex; mode=display\">\\newcommand{\\Bold}[1]{\\mathbf{#1}}\\mathrm{True}</script></html>"
      ],
      "text/latex": [
       "\\begin{math}\n",
       "\\newcommand{\\Bold}[1]{\\mathbf{#1}}\\mathrm{True}\n",
       "\\end{math}"
      ],
      "text/plain": [
       "True"
      ]
     },
     "execution_count": 20,
     "metadata": {},
     "output_type": "execute_result"
    }
   ],
   "source": [
    "Riclim=glim.ricci()\n",
    "scallim=glim.ricci_scalar()\n",
    "Riclim-scallim/4*glim==0"
   ]
  },
  {
   "cell_type": "code",
   "execution_count": 21,
   "id": "higher-recipe",
   "metadata": {},
   "outputs": [
    {
     "data": {
      "text/html": [
       "<html><script type=\"math/tex; mode=display\">\\newcommand{\\Bold}[1]{\\mathbf{#1}}g_0 = \\left( \\frac{r^{2} - 1}{r^{4} - 4 \\, r + 3} \\right) \\mathrm{d} r\\otimes \\mathrm{d} r + \\left( \\frac{r^{4} - 4 \\, r + 3}{9 \\, {\\left(r^{2} - 1\\right)}} \\right) \\mathrm{d} {\\tau}\\otimes \\mathrm{d} {\\tau} + \\frac{{\\left(r^{3} + r^{2} + r - 3\\right)} \\cos\\left({\\theta}\\right)}{9 \\, {\\left(r + 1\\right)}} \\mathrm{d} {\\tau}\\otimes \\mathrm{d} {\\phi} + \\left( \\frac{1}{6} \\, r^{2} - \\frac{1}{6} \\right) \\mathrm{d} {\\theta}\\otimes \\mathrm{d} {\\theta} + \\frac{{\\left(r^{3} + r^{2} + r - 3\\right)} \\cos\\left({\\theta}\\right)}{9 \\, {\\left(r + 1\\right)}} \\mathrm{d} {\\phi}\\otimes \\mathrm{d} {\\tau} + \\left( \\frac{3 \\, r^{3} - {\\left(r^{3} + r^{2} - 5 \\, r + 3\\right)} \\cos\\left({\\theta}\\right)^{2} + 3 \\, r^{2} - 3 \\, r - 3}{18 \\, {\\left(r + 1\\right)}} \\right) \\mathrm{d} {\\phi}\\otimes \\mathrm{d} {\\phi}</script></html>"
      ],
      "text/latex": [
       "\\begin{math}\n",
       "\\newcommand{\\Bold}[1]{\\mathbf{#1}}g_0 = \\left( \\frac{r^{2} - 1}{r^{4} - 4 \\, r + 3} \\right) \\mathrm{d} r\\otimes \\mathrm{d} r + \\left( \\frac{r^{4} - 4 \\, r + 3}{9 \\, {\\left(r^{2} - 1\\right)}} \\right) \\mathrm{d} {\\tau}\\otimes \\mathrm{d} {\\tau} + \\frac{{\\left(r^{3} + r^{2} + r - 3\\right)} \\cos\\left({\\theta}\\right)}{9 \\, {\\left(r + 1\\right)}} \\mathrm{d} {\\tau}\\otimes \\mathrm{d} {\\phi} + \\left( \\frac{1}{6} \\, r^{2} - \\frac{1}{6} \\right) \\mathrm{d} {\\theta}\\otimes \\mathrm{d} {\\theta} + \\frac{{\\left(r^{3} + r^{2} + r - 3\\right)} \\cos\\left({\\theta}\\right)}{9 \\, {\\left(r + 1\\right)}} \\mathrm{d} {\\phi}\\otimes \\mathrm{d} {\\tau} + \\left( \\frac{3 \\, r^{3} - {\\left(r^{3} + r^{2} - 5 \\, r + 3\\right)} \\cos\\left({\\theta}\\right)^{2} + 3 \\, r^{2} - 3 \\, r - 3}{18 \\, {\\left(r + 1\\right)}} \\right) \\mathrm{d} {\\phi}\\otimes \\mathrm{d} {\\phi}\n",
       "\\end{math}"
      ],
      "text/plain": [
       "g_0 = (r^2 - 1)/(r^4 - 4*r + 3) dr*dr + 1/9*(r^4 - 4*r + 3)/(r^2 - 1) dtau*dtau + 1/9*(r^3 + r^2 + r - 3)*cos(th)/(r + 1) dtau*dph + (1/6*r^2 - 1/6) dth*dth + 1/9*(r^3 + r^2 + r - 3)*cos(th)/(r + 1) dph*dtau + 1/18*(3*r^3 - (r^3 + r^2 - 5*r + 3)*cos(th)^2 + 3*r^2 - 3*r - 3)/(r + 1) dph*dph"
      ]
     },
     "execution_count": 21,
     "metadata": {},
     "output_type": "execute_result"
    }
   ],
   "source": [
    "glim.display()"
   ]
  },
  {
   "cell_type": "code",
   "execution_count": 23,
   "id": "friendly-latitude",
   "metadata": {},
   "outputs": [
    {
     "data": {
      "text/html": [
       "<html><script type=\"math/tex; mode=display\">\\newcommand{\\Bold}[1]{\\mathbf{#1}}\\frac{2 \\, {\\left(r^{2} + 2 \\, r + 3\\right)}}{3 \\, {\\left(r^{2} + 2 \\, r + 1\\right)}}</script></html>"
      ],
      "text/latex": [
       "\\begin{math}\n",
       "\\newcommand{\\Bold}[1]{\\mathbf{#1}}\\frac{2 \\, {\\left(r^{2} + 2 \\, r + 3\\right)}}{3 \\, {\\left(r^{2} + 2 \\, r + 1\\right)}}\n",
       "\\end{math}"
      ],
      "text/plain": [
       "2/3*(r^2 + 2*r + 3)/(r^2 + 2*r + 1)"
      ]
     },
     "execution_count": 23,
     "metadata": {},
     "output_type": "execute_result"
    }
   ],
   "source": [
    "#squishing factor\n",
    "sq=glim[1,1]/glim[2,2]\n",
    "sq"
   ]
  },
  {
   "cell_type": "code",
   "execution_count": 24,
   "id": "mechanical-memphis",
   "metadata": {},
   "outputs": [
    {
     "data": {
      "text/html": [
       "<html><script type=\"math/tex; mode=display\">\\newcommand{\\Bold}[1]{\\mathbf{#1}}1</script></html>"
      ],
      "text/latex": [
       "\\begin{math}\n",
       "\\newcommand{\\Bold}[1]{\\mathbf{#1}}1\n",
       "\\end{math}"
      ],
      "text/plain": [
       "1"
      ]
     },
     "execution_count": 24,
     "metadata": {},
     "output_type": "execute_result"
    }
   ],
   "source": [
    "limit(sq.expr(),r=1)"
   ]
  },
  {
   "cell_type": "code",
   "execution_count": 25,
   "id": "knowing-recommendation",
   "metadata": {},
   "outputs": [
    {
     "data": {
      "text/html": [
       "<html><script type=\"math/tex; mode=display\">\\newcommand{\\Bold}[1]{\\mathbf{#1}}\\frac{2}{3}</script></html>"
      ],
      "text/latex": [
       "\\begin{math}\n",
       "\\newcommand{\\Bold}[1]{\\mathbf{#1}}\\frac{2}{3}\n",
       "\\end{math}"
      ],
      "text/plain": [
       "2/3"
      ]
     },
     "execution_count": 25,
     "metadata": {},
     "output_type": "execute_result"
    }
   ],
   "source": [
    "limit(sq.expr(),r=oo)"
   ]
  },
  {
   "cell_type": "code",
   "execution_count": 44,
   "id": "instant-inclusion",
   "metadata": {},
   "outputs": [
    {
     "data": {
      "image/png": "[encoded data removed]",
      "text/plain": [
       "Graphics object consisting of 2 graphics primitives"
      ]
     },
     "execution_count": 44,
     "metadata": {},
     "output_type": "execute_result"
    }
   ],
   "source": [
    "F(r)=glim[0,0].expr().sqrt()\n",
    "Sq(r)=sq.expr()\n",
    "def numI(x):\n",
    "    return numerical_integral(F,1,x,algorithm='qags')[0]\n",
    "plotlist1=[]\n",
    "plotlist2=[]\n",
    "for x in range(10,1000):\n",
    "    plotlist1+=[[x/10,numI(x/10)]]\n",
    "    plotlist2+=[[x/10,Sq(x/10)]]\n",
    "radius=scatter_plot(plotlist1,marker=\".\",facecolor='red',edgecolor='red',markersize=5)\n",
    "squishing=scatter_plot(plotlist2,marker=\".\",facecolor='blue',edgecolor='blue',markersize=5)\n",
    "radius+squishing"
   ]
  },
  {
   "cell_type": "code",
   "execution_count": null,
   "id": "hawaiian-display",
   "metadata": {},
   "outputs": [],
   "source": []
  }
 ],
 "metadata": {
  "kernelspec": {
   "display_name": "SageMath 9.2",
   "language": "sage",
   "name": "sagemath"
  },
  "language_info": {
   "codemirror_mode": {
    "name": "ipython",
    "version": 3
   },
   "file_extension": ".py",
   "mimetype": "text/x-python",
   "name": "python",
   "nbconvert_exporter": "python",
   "pygments_lexer": "ipython3",
   "version": "3.9.2"
  }
 },
 "nbformat": 4,
 "nbformat_minor": 5
}
