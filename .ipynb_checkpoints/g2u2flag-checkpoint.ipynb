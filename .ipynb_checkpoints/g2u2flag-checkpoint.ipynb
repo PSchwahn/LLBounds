{
 "cells": [
  {
   "cell_type": "code",
   "execution_count": 31,
   "id": "italic-completion",
   "metadata": {},
   "outputs": [],
   "source": [
    "#Chevalley basis and structure constants\n",
    "#Conversion between conventions:\n",
    "##flip E_alpha -> -E_alpha if alpha is negative (here: [E_alpha,E_{-alpha}]=H_alpha)\n",
    "##switch alpha1 and alpha2 (here: alpha2 is the long root)\n",
    "##normalize E_alpha vectors (here: B(E_alpha,E_{-alpha})=some random number)\n",
    "K.<I> = NumberField(x^2 + 1)\n",
    "g2=LieAlgebra(K, cartan_type=['G',2])\n",
    "b=basis(g2)\n",
    "struct=g2.structure_coefficients()\n",
    "R=RootSystem(['G',2]).root_space()\n",
    "posroots=list(R.positive_roots())\n",
    "alpha      = R.simple_roots()\n",
    "alphacheck = R.simple_coroots()\n",
    "r=3*alpha[1]+2*alpha[2]\n",
    "Phi1=[alpha[2],alpha[1]+alpha[2],2*alpha[1]+alpha[2],3*alpha[1]+alpha[2]]\n",
    "Phi2=[r]\n",
    "Phi12=Phi1+Phi2\n",
    "def projm2(vector):\n",
    "    coefplus=vector.coefficient(r)\n",
    "    coefminus=vector.coefficient(-r)\n",
    "    return coefplus*b[r]+coefminus*b[-r]\n",
    "def projh(vector):\n",
    "    c1=vector.coefficient(alphacheck[1])\n",
    "    c2=vector.coefficient(alphacheck[2])\n",
    "    return c1*b[alphacheck[1]]+c2*b[alphacheck[2]]\n",
    "def projm1(vector):\n",
    "    return vector-projm2(vector)-projh(vector)\n",
    "def projm(vector):\n",
    "    return vector-projh(vector)\n",
    "#the basis vectors have different lengths\n",
    "#account for Kähler metric when dualizing\n",
    "def curv111(x,y,z):\n",
    "    return 1/2*x.bracket(projm2(y.bracket(z)))-1/2*y.bracket(projm2(x.bracket(z)))+z.bracket(projh(x.bracket(y)))\n",
    "def curv112(x,y,u):\n",
    "    return 1/2*projm2(x.bracket(y.bracket(u)))-1/2*projm2(y.bracket(x.bracket(u)))+u.bracket(projh(x.bracket(y)))\n",
    "def curv121(x,u,y):\n",
    "    return projm2(y.bracket(x.bracket(u)))\n",
    "def curv122(x,u,v):\n",
    "    return v.bracket(x.bracket(u))\n",
    "def curv221(u,v,x):\n",
    "    return x.bracket(u.bracket(v))\n",
    "def curv222(u,v,w):\n",
    "    return w.bracket(u.bracket(v))\n",
    "def curv(a,b,c):\n",
    "    a1=projm1(a)\n",
    "    a2=projm2(a)\n",
    "    b1=projm1(b)\n",
    "    b2=projm2(b)\n",
    "    c1=projm1(c)\n",
    "    c2=projm2(c)\n",
    "    return curv111(a1,b1,c1)+curv112(a1,b1,c2)+curv121(a1,b2,c1)+curv122(a1,b2,c2)\\\n",
    "-curv121(b1,a2,c1)-curv122(b1,a2,c2)+curv221(a2,b2,c1)+curv222(a2,b2,c2)\n",
    "def basisA(root):\n",
    "    return b[root]-b[-root]\n",
    "def basisB(root):\n",
    "    return I*(b[root]+b[-root])\n",
    "#dict instead of function would probably save computation time\n",
    "#because of different convention, we have to flip E_alpha -> -E_alpha if alpha is negative\n",
    "#this basis is orthogonal, but not orthonormal. Normalize with killing form, then scale on m2 part.\n",
    "def metric(x,y):\n",
    "    return -g2.killing_form(projm1(x),projm1(y))-2*g2.killing_form(projm2(x),projm2(y))\n",
    "L=2*len(Phi12)\n",
    "ABbasis = [0 for n in range(0,L)]\n",
    "ABbasis[::2] = [basisA(root) for root in Phi12]\n",
    "ABbasis[1::2] = [basisB(root) for root in Phi12]\n",
    "ABmetric=[metric(ABbasis[n],ABbasis[n]) for n in range(0,L)]"
   ]
  },
  {
   "cell_type": "code",
   "execution_count": 30,
   "id": "coordinate-kenya",
   "metadata": {},
   "outputs": [
    {
     "data": {
      "text/plain": [
       "E[alpha[2]] + E[alpha[1]] + h1 + h2 + E[-alpha[2]] + E[-alpha[1]]"
      ]
     },
     "execution_count": 30,
     "metadata": {},
     "output_type": "execute_result"
    }
   ],
   "source": [
    "E10=b[alpha[1]]\n",
    "Em10=b[-alpha[1]]\n",
    "E01=b[alpha[2]]\n",
    "Em01=b[-alpha[2]]\n",
    "H1=b[alphacheck[1]]\n",
    "H2=b[alphacheck[2]]\n",
    "v=g2.an_element()\n",
    "v"
   ]
  },
  {
   "cell_type": "code",
   "execution_count": 4,
   "id": "orange-nicaragua",
   "metadata": {},
   "outputs": [
    {
     "data": {
      "text/plain": [
       "E[alpha[2]] + E[alpha[1]] + E[-alpha[2]] + E[-alpha[1]]"
      ]
     },
     "execution_count": 4,
     "metadata": {},
     "output_type": "execute_result"
    }
   ],
   "source": [
    "projm1(v)"
   ]
  },
  {
   "cell_type": "code",
   "execution_count": 34,
   "id": "gross-thing",
   "metadata": {},
   "outputs": [
    {
     "data": {
      "text/plain": [
       "-4*I*E[alpha[2]] - 4*I*E[-alpha[2]]"
      ]
     },
     "execution_count": 34,
     "metadata": {},
     "output_type": "execute_result"
    }
   ],
   "source": [
    "curv111(basisA(alpha[2]),basisB(alpha[2]),basisA(alpha[2]))"
   ]
  },
  {
   "cell_type": "code",
   "execution_count": 32,
   "id": "acute-groove",
   "metadata": {},
   "outputs": [],
   "source": [
    "def nomizu(a,b):\n",
    "    a1=projm1(a)\n",
    "    b1=projm1(b)\n",
    "    b2=projm2(b)\n",
    "    return 1/2*projm2(a1.bracket(b1))+a1.bracket(b2)\n",
    "def Ncurv(a,b,c):\n",
    "    #curvature via Nomizu map. Might need more computation time.\n",
    "    return nomizu(a,nomizu(b,c))-nomizu(b,nomizu(a,c))-nomizu(projm(a.bracket(b)),c)-projh(a.bracket(b)).bracket(c)"
   ]
  },
  {
   "cell_type": "code",
   "execution_count": 35,
   "id": "severe-angola",
   "metadata": {},
   "outputs": [
    {
     "data": {
      "text/plain": [
       "-4*I*E[alpha[2]] - 4*I*E[-alpha[2]]"
      ]
     },
     "execution_count": 35,
     "metadata": {},
     "output_type": "execute_result"
    }
   ],
   "source": [
    "Ncurv(basisA(alpha[2]),basisB(alpha[2]),basisA(alpha[2]))"
   ]
  },
  {
   "cell_type": "code",
   "execution_count": 8,
   "id": "formed-times",
   "metadata": {},
   "outputs": [
    {
     "data": {
      "text/plain": [
       "[3/8, 17/48, 1/16, 1/16, 1/16, 1/16, 1/16, 1/16, 1/8, 1/8, 1/8, 1/8, 1/8, 1/8, 1/8, 1/8, -1/16, -1/16, -1/16, -1/16, -1/16, -1/16, -1/16, -1/16, -1/16, 0, 0, 0, 0, 0, 0, 0, 0, 0, 0, 0, 0, 0, 0, 0, 0, 0, 0, 0, 0]"
      ]
     },
     "execution_count": 8,
     "metadata": {},
     "output_type": "execute_result"
    }
   ],
   "source": [
    "R=matrix(QQ,L*(L-1)/2)\n",
    "for i in range(0,L):\n",
    "    for j in range(i+1,L):\n",
    "        ijindex=(L-1)*i-i*(i+1)/2+j-1\n",
    "        for k in range(0,L):\n",
    "            for l in range(k+1,L):\n",
    "                klindex=(L-1)*k-k*(k+1)/2+l-1\n",
    "                #dualization with respect to the Kähler metric\n",
    "                if l<8:\n",
    "                    metricRprod=g2.killing_form(curv(ABbasis[i],ABbasis[j],ABbasis[k]),ABbasis[l])\n",
    "                else:\n",
    "                    metricRprod=2*g2.killing_form(curv(ABbasis[i],ABbasis[j],ABbasis[k]),ABbasis[l])\n",
    "                if k<8 and l<8:\n",
    "                    #the basis elements are orthogonal\n",
    "                    wedgenormsq=g2.killing_form(ABbasis[k],ABbasis[k])*g2.killing_form(ABbasis[l],ABbasis[l])\n",
    "                elif k>=8 and l>=8:\n",
    "                    wedgenormsq=4*g2.killing_form(ABbasis[k],ABbasis[k])*g2.killing_form(ABbasis[l],ABbasis[l])\n",
    "                else:\n",
    "                    wedgenormsq=2*g2.killing_form(ABbasis[k],ABbasis[k])*g2.killing_form(ABbasis[l],ABbasis[l])\n",
    "                R[ijindex,klindex]=metricRprod/wedgenormsq\n",
    "                #this representing matrix Lambda²->Lambda² is not symmetric because basis is not orthonormal\n",
    "                #R[ijindex,klindex]=metricRprod is symmetric: pairwise interchange symmetry of g(R(X,Y)Z,W)\n",
    "Rsparse=R.sparse_matrix()\n",
    "save(Rsparse,\"Rsparse\")\n",
    "Rsparse.dict()"
   ]
  },
  {
   "cell_type": "code",
   "execution_count": 36,
   "id": "numerical-socket",
   "metadata": {},
   "outputs": [
    {
     "data": {
      "text/plain": [
       "{(0, 0): 1/4,\n",
       " (0, 17): 1/24,\n",
       " (0, 39): -1/16,\n",
       " (0, 44): 1/32,\n",
       " (1, 31): -1/32,\n",
       " (1, 36): -1/32,\n",
       " (2, 32): -1/32,\n",
       " (2, 35): 1/32,\n",
       " (3, 20): 1/32,\n",
       " (3, 27): 1/32,\n",
       " (4, 21): 1/32,\n",
       " (4, 26): -1/32,\n",
       " (5, 5): -1/32,\n",
       " (5, 14): -1/32,\n",
       " (6, 6): -1/32,\n",
       " (6, 13): 1/32,\n",
       " (7, 7): 1/32,\n",
       " (7, 16): 1/32,\n",
       " (8, 8): 1/32,\n",
       " (8, 15): -1/32,\n",
       " (9, 32): 1/32,\n",
       " (9, 35): -1/32,\n",
       " (10, 31): -1/32,\n",
       " (10, 36): -1/32,\n",
       " (11, 21): -1/32,\n",
       " (11, 26): 1/32,\n",
       " (12, 20): 1/32,\n",
       " (12, 27): 1/32,\n",
       " (13, 6): 1/32,\n",
       " (13, 13): -1/32,\n",
       " (14, 5): -1/32,\n",
       " (14, 14): -1/32,\n",
       " (15, 8): -1/32,\n",
       " (15, 15): 1/32,\n",
       " (16, 7): 1/32,\n",
       " (16, 16): 1/32,\n",
       " (17, 0): 3/8,\n",
       " (17, 17): 1/12,\n",
       " (17, 30): 5/48,\n",
       " (17, 44): 3/32,\n",
       " (18, 18): -1/32,\n",
       " (18, 25): -1/32,\n",
       " (19, 19): -1/32,\n",
       " (19, 24): 1/32,\n",
       " (20, 3): 1/32,\n",
       " (20, 12): 1/32,\n",
       " (21, 4): 1/32,\n",
       " (21, 11): -1/32,\n",
       " (22, 22): 1/32,\n",
       " (22, 29): 1/32,\n",
       " (23, 23): 1/32,\n",
       " (23, 28): -1/32,\n",
       " (24, 19): 1/32,\n",
       " (24, 24): -1/32,\n",
       " (25, 18): -1/32,\n",
       " (25, 25): -1/32,\n",
       " (26, 4): -1/32,\n",
       " (26, 11): 1/32,\n",
       " (27, 3): 1/32,\n",
       " (27, 12): 1/32,\n",
       " (28, 23): -1/32,\n",
       " (28, 28): 1/32,\n",
       " (29, 22): 1/32,\n",
       " (29, 29): 1/32,\n",
       " (30, 17): 5/48,\n",
       " (30, 30): 1/12,\n",
       " (30, 39): 3/8,\n",
       " (30, 44): 3/32,\n",
       " (31, 1): -1/32,\n",
       " (31, 10): -1/32,\n",
       " (32, 2): -1/32,\n",
       " (32, 9): 1/32,\n",
       " (33, 33): 1/32,\n",
       " (33, 38): 1/32,\n",
       " (34, 34): 1/32,\n",
       " (34, 37): -1/32,\n",
       " (35, 2): 1/32,\n",
       " (35, 9): -1/32,\n",
       " (36, 1): -1/32,\n",
       " (36, 10): -1/32,\n",
       " (37, 34): -1/32,\n",
       " (37, 37): 1/32,\n",
       " (38, 33): 1/32,\n",
       " (38, 38): 1/32,\n",
       " (39, 0): -1/16,\n",
       " (39, 30): 1/24,\n",
       " (39, 39): 1/4,\n",
       " (39, 44): 1/32,\n",
       " (40, 40): 1/32,\n",
       " (40, 43): 1/32,\n",
       " (41, 41): 1/32,\n",
       " (41, 42): -1/32,\n",
       " (42, 41): -1/32,\n",
       " (42, 42): 1/32,\n",
       " (43, 40): 1/32,\n",
       " (43, 43): 1/32,\n",
       " (44, 0): 1/8,\n",
       " (44, 17): 1/24,\n",
       " (44, 30): 1/24,\n",
       " (44, 39): 1/8,\n",
       " (44, 44): 1/8}"
      ]
     },
     "execution_count": 36,
     "metadata": {},
     "output_type": "execute_result"
    }
   ],
   "source": [
    "R2=matrix(QQ,L*(L-1)/2)\n",
    "for i in range(0,L):\n",
    "    for j in range(i+1,L):\n",
    "        ijindex=(L-1)*i-i*(i+1)/2+j-1\n",
    "        for k in range(0,L):\n",
    "            for l in range(k+1,L):\n",
    "                klindex=(L-1)*k-k*(k+1)/2+l-1\n",
    "                #dualization with respect to the Kähler metric\n",
    "                metricRprod=-metric(Ncurv(ABbasis[i],ABbasis[j],ABbasis[k]),ABbasis[l])\n",
    "                wedgenormsq=ABmetric[k]*ABmetric[l]\n",
    "                R2[ijindex,klindex]=metricRprod/wedgenormsq\n",
    "                #this representing matrix Lambda²->Lambda² is not symmetric because basis is not orthonormal\n",
    "                #R[ijindex,klindex]=metricRprod is symmetric: pairwise interchange symmetry of g(R(X,Y)Z,W)\n",
    "R2sparse=R2.sparse_matrix()\n",
    "R2sparse.dict()"
   ]
  },
  {
   "cell_type": "code",
   "execution_count": 37,
   "id": "closing-indiana",
   "metadata": {},
   "outputs": [
    {
     "data": {
      "text/plain": [
       "[3/8, 17/48, -1/16, -1/16, -1/16, -1/16, -1/16, -1/16, -1/16, -1/16, -1/16, 1/16, 1/16, 1/16, 1/16, 1/16, 1/16, 1/16, 1/16, 1/16, 1/16, 1/16, 1/16, 1/16, 1/16, 0, 0, 0, 0, 0, 0, 0, 0, 0, 0, 0, 0, 0, 0, 0, 0, 0, 0, 0, 0]"
      ]
     },
     "execution_count": 37,
     "metadata": {},
     "output_type": "execute_result"
    }
   ],
   "source": [
    "R2sparse.eigenvalues()"
   ]
  },
  {
   "cell_type": "code",
   "execution_count": 28,
   "id": "medium-glory",
   "metadata": {},
   "outputs": [
    {
     "data": {
      "text/plain": [
       "37/24"
      ]
     },
     "execution_count": 28,
     "metadata": {},
     "output_type": "execute_result"
    }
   ],
   "source": [
    "R2sparse.trace()"
   ]
  },
  {
   "cell_type": "code",
   "execution_count": 14,
   "id": "owned-lobby",
   "metadata": {},
   "outputs": [
    {
     "data": {
      "text/plain": [
       "{0: 1, 17: 3, 30: 3, 39: 1, 44: 2}"
      ]
     },
     "execution_count": 14,
     "metadata": {},
     "output_type": "execute_result"
    }
   ],
   "source": [
    "eig1=Rsparse.eigenvectors_right()[0][1][0]\n",
    "eig1.dict()\n",
    "#is this the Kähler form? does it have opposite coefficients?\n",
    "#wrong dualization somewhere"
   ]
  },
  {
   "cell_type": "code",
   "execution_count": 15,
   "id": "dynamic-elder",
   "metadata": {},
   "outputs": [
    {
     "data": {
      "text/plain": [
       "{0: 1/16, 17: 1/48, 30: 1/48, 39: 1/16, 44: 1/32}"
      ]
     },
     "execution_count": 15,
     "metadata": {},
     "output_type": "execute_result"
    }
   ],
   "source": [
    "e0=matrix.identity(45)[0]\n",
    "e17=matrix.identity(45)[17]\n",
    "e30=matrix.identity(45)[30]\n",
    "e39=matrix.identity(45)[39]\n",
    "e44=matrix.identity(45)[44]\n",
    "omega=1/16*e0+1/48*e17+1/48*e30+1/16*e39+1/32*e44\n",
    "omega.dict()"
   ]
  },
  {
   "cell_type": "code",
   "execution_count": 39,
   "id": "oriented-happening",
   "metadata": {},
   "outputs": [
    {
     "data": {
      "text/plain": [
       "[16  0  0  0  0  0  0  0  0  0]\n",
       "[ 0 16  0  0  0  0  0  0  0  0]\n",
       "[ 0  0 48  0  0  0  0  0  0  0]\n",
       "[ 0  0  0 48  0  0  0  0  0  0]\n",
       "[ 0  0  0  0 48  0  0  0  0  0]\n",
       "[ 0  0  0  0  0 48  0  0  0  0]\n",
       "[ 0  0  0  0  0  0 16  0  0  0]\n",
       "[ 0  0  0  0  0  0  0 16  0  0]\n",
       "[ 0  0  0  0  0  0  0  0 32  0]\n",
       "[ 0  0  0  0  0  0  0  0  0 32]"
      ]
     },
     "execution_count": 39,
     "metadata": {},
     "output_type": "execute_result"
    }
   ],
   "source": [
    "g=diagonal_matrix(K,ABmetric)\n",
    "save(g,\"g\")\n",
    "g"
   ]
  },
  {
   "cell_type": "code",
   "execution_count": null,
   "id": "afraid-gateway",
   "metadata": {},
   "outputs": [],
   "source": []
  }
 ],
 "metadata": {
  "kernelspec": {
   "display_name": "SageMath 9.2",
   "language": "sage",
   "name": "sagemath"
  },
  "language_info": {
   "codemirror_mode": {
    "name": "ipython",
    "version": 3
   },
   "file_extension": ".py",
   "mimetype": "text/x-python",
   "name": "python",
   "nbconvert_exporter": "python",
   "pygments_lexer": "ipython3",
   "version": "3.9.2"
  }
 },
 "nbformat": 4,
 "nbformat_minor": 5
}
