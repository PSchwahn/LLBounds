{
 "cells": [
  {
   "cell_type": "code",
   "execution_count": 8,
   "id": "hawaiian-tobacco",
   "metadata": {},
   "outputs": [],
   "source": [
    "%display latex\n",
    "M=Manifold(4,'M')\n",
    "X.<rho,th,ph,ps> = M.chart(r\"rho:(0,+oo):\\rho th:(0,pi):\\theta ph:(0,2*pi):\\phi ps:(0,4*pi):\\psi\")\n",
    "dX=X.coframe()\n",
    "s1=1/2*(sin(ps)*dX[1]-sin(th)*cos(ps)*dX[2])\n",
    "s2=1/2*(-cos(ps)*dX[1]-sin(th)*sin(ps)*dX[2])\n",
    "s3=1/2*(dX[3]+cos(th)*dX[2])\n",
    "#Right value is 1/2\n",
    "eps=1/2\n",
    "gtensor=(1-rho^2)^(-2)*((1+eps*rho^2)/(1+eps*rho^4)*dX[0]*dX[0]+rho^2*(1+eps*rho^2)*(s1*s1+s2*s2)+rho^2*(1+eps*rho^4)/(1+eps*rho^2)*s3*s3)\n",
    "g=M.metric('g')\n",
    "g[:]=gtensor[:]\n",
    "Weyl=g.weyl()\n",
    "Weylup=Weyl.up(g,2)\n",
    "Riem=g.riemann()\n",
    "Riemup=Riem.up(g,2)\n",
    "L2basis=[]\n",
    "for i in range(0,4):\n",
    "    for j in range(i+1,4):\n",
    "        L2basis+=[dX[i].wedge(dX[j])]\n",
    "L2basis\n",
    "L2plus=[x+x.hodge_dual(g) for x in L2basis]\n",
    "L2minus=[x-x.hodge_dual(g) for x in L2basis]\n",
    "#it suffices to take a basis of the form pr_{+-}(drho ^ dx)\n",
    "L2plus3=L2plus[0:3]\n",
    "L2minus3=L2minus[0:3]\n",
    "WL2plus3=[Weylup.contract(0,1,x,0,1) for x in L2plus3]\n",
    "WL2minus3=[Weylup.contract(0,1,x,0,1) for x in L2minus3]\n",
    "RL2plus3=[Riemup.contract(0,1,x,0,1) for x in L2plus3]\n",
    "RL2minus3=[Riemup.contract(0,1,x,0,1) for x in L2minus3]\n",
    "Rplus3list=[]\n",
    "for x in RL2plus3:\n",
    "    xcolumn=[]\n",
    "    for i in range(0,3):\n",
    "        xcolumn+=[x[0,i+1]]\n",
    "    Rplus3list+=[xcolumn]\n",
    "Rminus3list=[]\n",
    "for x in RL2minus3:\n",
    "    xcolumn=[]\n",
    "    for i in range(0,3):\n",
    "        xcolumn+=[x[0,i+1]]\n",
    "    Rminus3list+=[xcolumn]\n",
    "Wplus3list=[]\n",
    "for x in WL2plus3:\n",
    "    xcolumn=[]\n",
    "    for i in range(0,3):\n",
    "        xcolumn+=[x[0,i+1]]\n",
    "    Wplus3list+=[xcolumn]\n",
    "Wminus3list=[]\n",
    "for x in WL2minus3:\n",
    "    xcolumn=[]\n",
    "    for i in range(0,3):\n",
    "        xcolumn+=[x[0,i+1]]\n",
    "    Wminus3list+=[xcolumn]\n",
    "Wplus3matrix=matrix(Wplus3list).transpose()\n",
    "Wminus3matrix=matrix(Wminus3list).transpose()\n",
    "Rplus3matrix=matrix(Rplus3list).transpose()\n",
    "Rminus3matrix=matrix(Rminus3list).transpose()\n",
    "det=Rminus3matrix.det()"
   ]
  },
  {
   "cell_type": "code",
   "execution_count": 9,
   "id": "strange-gender",
   "metadata": {},
   "outputs": [
    {
     "data": {
      "text/html": [
       "<html><script type=\"math/tex; mode=display\">\\newcommand{\\Bold}[1]{\\mathbf{#1}}\\mathrm{True}</script></html>"
      ],
      "text/latex": [
       "\\begin{math}\n",
       "\\newcommand{\\Bold}[1]{\\mathbf{#1}}\\mathrm{True}\n",
       "\\end{math}"
      ],
      "text/plain": [
       "True"
      ]
     },
     "execution_count": 9,
     "metadata": {},
     "output_type": "execute_result"
    }
   ],
   "source": [
    "Ric=g.ricci()\n",
    "scal=g.ricci_scalar()\n",
    "Ric-scal/4*g==0"
   ]
  },
  {
   "cell_type": "code",
   "execution_count": 10,
   "id": "integrated-fluid",
   "metadata": {},
   "outputs": [
    {
     "data": {
      "text/html": [
       "<html><script type=\"math/tex; mode=display\">\\newcommand{\\Bold}[1]{\\mathbf{#1}}g_{S^3} = \\frac{1}{4} \\mathrm{d} {\\theta}\\otimes \\mathrm{d} {\\theta} + \\left( \\frac{1}{12} \\, \\sin\\left({\\theta}\\right)^{2} + \\frac{1}{6} \\right) \\mathrm{d} {\\phi}\\otimes \\mathrm{d} {\\phi} + \\frac{1}{6} \\, \\cos\\left({\\theta}\\right) \\mathrm{d} {\\phi}\\otimes \\mathrm{d} {\\psi} + \\frac{1}{6} \\, \\cos\\left({\\theta}\\right) \\mathrm{d} {\\psi}\\otimes \\mathrm{d} {\\phi} + \\frac{1}{6} \\mathrm{d} {\\psi}\\otimes \\mathrm{d} {\\psi}</script></html>"
      ],
      "text/latex": [
       "\\begin{math}\n",
       "\\newcommand{\\Bold}[1]{\\mathbf{#1}}g_{S^3} = \\frac{1}{4} \\mathrm{d} {\\theta}\\otimes \\mathrm{d} {\\theta} + \\left( \\frac{1}{12} \\, \\sin\\left({\\theta}\\right)^{2} + \\frac{1}{6} \\right) \\mathrm{d} {\\phi}\\otimes \\mathrm{d} {\\phi} + \\frac{1}{6} \\, \\cos\\left({\\theta}\\right) \\mathrm{d} {\\phi}\\otimes \\mathrm{d} {\\psi} + \\frac{1}{6} \\, \\cos\\left({\\theta}\\right) \\mathrm{d} {\\psi}\\otimes \\mathrm{d} {\\phi} + \\frac{1}{6} \\mathrm{d} {\\psi}\\otimes \\mathrm{d} {\\psi}\n",
       "\\end{math}"
      ],
      "text/plain": [
       "g_{S^3} = 1/4 dth*dth + (1/12*sin(th)^2 + 1/6) dph*dph + 1/6*cos(th) dph*dps + 1/6*cos(th) dps*dph + 1/6 dps*dps"
      ]
     },
     "execution_count": 10,
     "metadata": {},
     "output_type": "execute_result"
    }
   ],
   "source": [
    "#Berger sphere\n",
    "S3=Manifold(3,'S^3')\n",
    "Y.<th,ph,ps>=S3.chart(r\"th:(0,pi):\\theta ph:(0,2*pi):\\phi ps:(0,4*pi):\\psi\")\n",
    "dY=Y.coframe()\n",
    "Ss1=1/2*(sin(ps)*dY[0]-sin(th)*cos(ps)*dY[1])\n",
    "Ss2=1/2*(-cos(ps)*dY[0]-sin(th)*sin(ps)*dY[1])\n",
    "Ss3=1/2*(dY[2]+cos(th)*dY[1])\n",
    "gS=S3.metric('g_{S^3}')\n",
    "gStensor=Ss1*Ss1+Ss2*Ss2+1/(1+eps)*Ss3*Ss3\n",
    "gS[:]=gStensor[:]\n",
    "gS.display()"
   ]
  },
  {
   "cell_type": "code",
   "execution_count": 11,
   "id": "laughing-salmon",
   "metadata": {},
   "outputs": [
    {
     "data": {
      "text/html": [
       "<html><script type=\"math/tex; mode=display\">\\newcommand{\\Bold}[1]{\\mathbf{#1}}-\\frac{5184 \\, {\\left({\\rho}^{18} - 14 \\, {\\rho}^{16} + 64 \\, {\\rho}^{14} - 128 \\, {\\rho}^{12} + 208 \\, {\\rho}^{10} - 128 \\, {\\rho}^{8} + 208 \\, {\\rho}^{6} - 32 \\, {\\rho}^{4} + 64 \\, {\\rho}^{2}\\right)}}{{\\rho}^{18} + 18 \\, {\\rho}^{16} + 144 \\, {\\rho}^{14} + 672 \\, {\\rho}^{12} + 2016 \\, {\\rho}^{10} + 4032 \\, {\\rho}^{8} + 5376 \\, {\\rho}^{6} + 4608 \\, {\\rho}^{4} + 2304 \\, {\\rho}^{2} + 512}</script></html>"
      ],
      "text/latex": [
       "\\begin{math}\n",
       "\\newcommand{\\Bold}[1]{\\mathbf{#1}}-\\frac{5184 \\, {\\left({\\rho}^{18} - 14 \\, {\\rho}^{16} + 64 \\, {\\rho}^{14} - 128 \\, {\\rho}^{12} + 208 \\, {\\rho}^{10} - 128 \\, {\\rho}^{8} + 208 \\, {\\rho}^{6} - 32 \\, {\\rho}^{4} + 64 \\, {\\rho}^{2}\\right)}}{{\\rho}^{18} + 18 \\, {\\rho}^{16} + 144 \\, {\\rho}^{14} + 672 \\, {\\rho}^{12} + 2016 \\, {\\rho}^{10} + 4032 \\, {\\rho}^{8} + 5376 \\, {\\rho}^{6} + 4608 \\, {\\rho}^{4} + 2304 \\, {\\rho}^{2} + 512}\n",
       "\\end{math}"
      ],
      "text/plain": [
       "-5184*(rho^18 - 14*rho^16 + 64*rho^14 - 128*rho^12 + 208*rho^10 - 128*rho^8 + 208*rho^6 - 32*rho^4 + 64*rho^2)/(rho^18 + 18*rho^16 + 144*rho^14 + 672*rho^12 + 2016*rho^10 + 4032*rho^8 + 5376*rho^6 + 4608*rho^4 + 2304*rho^2 + 512)"
      ]
     },
     "execution_count": 11,
     "metadata": {},
     "output_type": "execute_result"
    }
   ],
   "source": [
    "det"
   ]
  },
  {
   "cell_type": "code",
   "execution_count": 13,
   "id": "political-manor",
   "metadata": {},
   "outputs": [],
   "source": [
    "def tensto2form(tensor):\n",
    "    result=M.diff_form(2)\n",
    "    result[:]=tensor[:]\n",
    "    return result\n",
    "RL2plus3A=[tensto2form(x) for x in RL2plus3]\n",
    "WL2plus3A=[tensto2form(x) for x in WL2plus3]\n",
    "RL2minus3A=[tensto2form(x) for x in RL2minus3]\n",
    "WL2minus3A=[tensto2form(x) for x in WL2minus3]"
   ]
  },
  {
   "cell_type": "code",
   "execution_count": 14,
   "id": "express-activity",
   "metadata": {},
   "outputs": [
    {
     "data": {
      "text/html": [
       "<html><script type=\"math/tex; mode=display\">\\newcommand{\\Bold}[1]{\\mathbf{#1}}0</script></html>"
      ],
      "text/latex": [
       "\\begin{math}\n",
       "\\newcommand{\\Bold}[1]{\\mathbf{#1}}0\n",
       "\\end{math}"
      ],
      "text/plain": [
       "0"
      ]
     },
     "execution_count": 14,
     "metadata": {},
     "output_type": "execute_result"
    }
   ],
   "source": [
    "#should go to zero only if eps=1/2\n",
    "limit(det.expr(),rho=0)"
   ]
  },
  {
   "cell_type": "code",
   "execution_count": 15,
   "id": "affecting-paradise",
   "metadata": {},
   "outputs": [
    {
     "data": {
      "text/html": [
       "<html><script type=\"math/tex; mode=display\">\\newcommand{\\Bold}[1]{\\mathbf{#1}}\\left(\\begin{array}{rrr}\n",
       "0 & 0 & 0 \\\\\n",
       "0 & 0 & 0 \\\\\n",
       "0 & 0 & 0\n",
       "\\end{array}\\right)</script></html>"
      ],
      "text/latex": [
       "\\begin{math}\n",
       "\\newcommand{\\Bold}[1]{\\mathbf{#1}}\\left(\\begin{array}{rrr}\n",
       "0 & 0 & 0 \\\\\n",
       "0 & 0 & 0 \\\\\n",
       "0 & 0 & 0\n",
       "\\end{array}\\right)\n",
       "\\end{math}"
      ],
      "text/plain": [
       "[0 0 0]\n",
       "[0 0 0]\n",
       "[0 0 0]"
      ]
     },
     "execution_count": 15,
     "metadata": {},
     "output_type": "execute_result"
    }
   ],
   "source": [
    "Wplus3matrix"
   ]
  },
  {
   "cell_type": "code",
   "execution_count": 16,
   "id": "smaller-toddler",
   "metadata": {},
   "outputs": [
    {
     "data": {
      "text/html": [
       "<html><script type=\"math/tex; mode=display\">\\newcommand{\\Bold}[1]{\\mathbf{#1}}g = \\left( \\frac{{\\rho}^{2} + 2}{{\\rho}^{8} - 2 \\, {\\rho}^{6} + 3 \\, {\\rho}^{4} - 4 \\, {\\rho}^{2} + 2} \\right) \\mathrm{d} {\\rho}\\otimes \\mathrm{d} {\\rho} + \\left( \\frac{{\\rho}^{4} + 2 \\, {\\rho}^{2}}{8 \\, {\\left({\\rho}^{4} - 2 \\, {\\rho}^{2} + 1\\right)}} \\right) \\mathrm{d} {\\theta}\\otimes \\mathrm{d} {\\theta} + \\left( \\frac{2 \\, {\\rho}^{6} - {\\left({\\rho}^{6} - 4 \\, {\\rho}^{4}\\right)} \\sin\\left({\\theta}\\right)^{2} + 4 \\, {\\rho}^{2}}{8 \\, {\\left({\\rho}^{6} - 3 \\, {\\rho}^{2} + 2\\right)}} \\right) \\mathrm{d} {\\phi}\\otimes \\mathrm{d} {\\phi} + \\frac{{\\left({\\rho}^{6} + 2 \\, {\\rho}^{2}\\right)} \\cos\\left({\\theta}\\right)}{4 \\, {\\left({\\rho}^{6} - 3 \\, {\\rho}^{2} + 2\\right)}} \\mathrm{d} {\\phi}\\otimes \\mathrm{d} {\\psi} + \\frac{{\\left({\\rho}^{6} + 2 \\, {\\rho}^{2}\\right)} \\cos\\left({\\theta}\\right)}{4 \\, {\\left({\\rho}^{6} - 3 \\, {\\rho}^{2} + 2\\right)}} \\mathrm{d} {\\psi}\\otimes \\mathrm{d} {\\phi} + \\left( \\frac{{\\rho}^{6} + 2 \\, {\\rho}^{2}}{4 \\, {\\left({\\rho}^{6} - 3 \\, {\\rho}^{2} + 2\\right)}} \\right) \\mathrm{d} {\\psi}\\otimes \\mathrm{d} {\\psi}</script></html>"
      ],
      "text/latex": [
       "\\begin{math}\n",
       "\\newcommand{\\Bold}[1]{\\mathbf{#1}}g = \\left( \\frac{{\\rho}^{2} + 2}{{\\rho}^{8} - 2 \\, {\\rho}^{6} + 3 \\, {\\rho}^{4} - 4 \\, {\\rho}^{2} + 2} \\right) \\mathrm{d} {\\rho}\\otimes \\mathrm{d} {\\rho} + \\left( \\frac{{\\rho}^{4} + 2 \\, {\\rho}^{2}}{8 \\, {\\left({\\rho}^{4} - 2 \\, {\\rho}^{2} + 1\\right)}} \\right) \\mathrm{d} {\\theta}\\otimes \\mathrm{d} {\\theta} + \\left( \\frac{2 \\, {\\rho}^{6} - {\\left({\\rho}^{6} - 4 \\, {\\rho}^{4}\\right)} \\sin\\left({\\theta}\\right)^{2} + 4 \\, {\\rho}^{2}}{8 \\, {\\left({\\rho}^{6} - 3 \\, {\\rho}^{2} + 2\\right)}} \\right) \\mathrm{d} {\\phi}\\otimes \\mathrm{d} {\\phi} + \\frac{{\\left({\\rho}^{6} + 2 \\, {\\rho}^{2}\\right)} \\cos\\left({\\theta}\\right)}{4 \\, {\\left({\\rho}^{6} - 3 \\, {\\rho}^{2} + 2\\right)}} \\mathrm{d} {\\phi}\\otimes \\mathrm{d} {\\psi} + \\frac{{\\left({\\rho}^{6} + 2 \\, {\\rho}^{2}\\right)} \\cos\\left({\\theta}\\right)}{4 \\, {\\left({\\rho}^{6} - 3 \\, {\\rho}^{2} + 2\\right)}} \\mathrm{d} {\\psi}\\otimes \\mathrm{d} {\\phi} + \\left( \\frac{{\\rho}^{6} + 2 \\, {\\rho}^{2}}{4 \\, {\\left({\\rho}^{6} - 3 \\, {\\rho}^{2} + 2\\right)}} \\right) \\mathrm{d} {\\psi}\\otimes \\mathrm{d} {\\psi}\n",
       "\\end{math}"
      ],
      "text/plain": [
       "g = (rho^2 + 2)/(rho^8 - 2*rho^6 + 3*rho^4 - 4*rho^2 + 2) drho*drho + 1/8*(rho^4 + 2*rho^2)/(rho^4 - 2*rho^2 + 1) dth*dth + 1/8*(2*rho^6 - (rho^6 - 4*rho^4)*sin(th)^2 + 4*rho^2)/(rho^6 - 3*rho^2 + 2) dph*dph + 1/4*(rho^6 + 2*rho^2)*cos(th)/(rho^6 - 3*rho^2 + 2) dph*dps + 1/4*(rho^6 + 2*rho^2)*cos(th)/(rho^6 - 3*rho^2 + 2) dps*dph + 1/4*(rho^6 + 2*rho^2)/(rho^6 - 3*rho^2 + 2) dps*dps"
      ]
     },
     "execution_count": 16,
     "metadata": {},
     "output_type": "execute_result"
    }
   ],
   "source": [
    "g.display()"
   ]
  },
  {
   "cell_type": "code",
   "execution_count": 46,
   "id": "failing-theta",
   "metadata": {},
   "outputs": [
    {
     "data": {
      "text/html": [
       "<html><script type=\"math/tex; mode=display\">\\newcommand{\\Bold}[1]{\\mathbf{#1}}\\frac{2 \\, {\\left({\\rho}^{4} + 2\\right)}}{{\\rho}^{4} + 4 \\, {\\rho}^{2} + 4}</script></html>"
      ],
      "text/latex": [
       "\\begin{math}\n",
       "\\newcommand{\\Bold}[1]{\\mathbf{#1}}\\frac{2 \\, {\\left({\\rho}^{4} + 2\\right)}}{{\\rho}^{4} + 4 \\, {\\rho}^{2} + 4}\n",
       "\\end{math}"
      ],
      "text/plain": [
       "2*(rho^4 + 2)/(rho^4 + 4*rho^2 + 4)"
      ]
     },
     "execution_count": 46,
     "metadata": {},
     "output_type": "execute_result"
    }
   ],
   "source": [
    "#squishing factor\n",
    "sq=g[3,3]/g[1,1]\n",
    "sq"
   ]
  },
  {
   "cell_type": "code",
   "execution_count": 21,
   "id": "transparent-campbell",
   "metadata": {},
   "outputs": [
    {
     "data": {
      "text/html": [
       "<html><script type=\"math/tex; mode=display\">\\newcommand{\\Bold}[1]{\\mathbf{#1}}1</script></html>"
      ],
      "text/latex": [
       "\\begin{math}\n",
       "\\newcommand{\\Bold}[1]{\\mathbf{#1}}1\n",
       "\\end{math}"
      ],
      "text/plain": [
       "1"
      ]
     },
     "execution_count": 21,
     "metadata": {},
     "output_type": "execute_result"
    }
   ],
   "source": [
    "limit(sq.expr(),rho=0)"
   ]
  },
  {
   "cell_type": "code",
   "execution_count": 22,
   "id": "relevant-probability",
   "metadata": {},
   "outputs": [
    {
     "data": {
      "text/html": [
       "<html><script type=\"math/tex; mode=display\">\\newcommand{\\Bold}[1]{\\mathbf{#1}}\\frac{2}{3}</script></html>"
      ],
      "text/latex": [
       "\\begin{math}\n",
       "\\newcommand{\\Bold}[1]{\\mathbf{#1}}\\frac{2}{3}\n",
       "\\end{math}"
      ],
      "text/plain": [
       "2/3"
      ]
     },
     "execution_count": 22,
     "metadata": {},
     "output_type": "execute_result"
    }
   ],
   "source": [
    "limit(sq.expr(),rho=1)"
   ]
  },
  {
   "cell_type": "code",
   "execution_count": 76,
   "id": "ecological-composition",
   "metadata": {},
   "outputs": [
    {
     "data": {
      "image/png": "[encoded data removed]",
      "text/plain": [
       "Graphics object consisting of 2 graphics primitives"
      ]
     },
     "execution_count": 76,
     "metadata": {},
     "output_type": "execute_result"
    }
   ],
   "source": [
    "F(rho)=g[0,0].expr().sqrt()\n",
    "Sq(rho)=sq.expr()\n",
    "def numI(x):\n",
    "    return numerical_integral(F,0,x)[0]\n",
    "plotlist1=[]\n",
    "plotlist2=[]\n",
    "for x in range(0,1000):\n",
    "    plotlist1+=[[x/1000,numI(x/1000)]]\n",
    "    plotlist2+=[[x/1000,Sq(x/1000)]]\n",
    "radius=scatter_plot(plotlist1,marker=\".\",facecolor='red',edgecolor='red',markersize=5)\n",
    "squishing=scatter_plot(plotlist2,marker=\".\",facecolor='blue',edgecolor='blue',markersize=5)\n",
    "radius+squishing"
   ]
  },
  {
   "cell_type": "code",
   "execution_count": null,
   "id": "radical-container",
   "metadata": {},
   "outputs": [],
   "source": []
  }
 ],
 "metadata": {
  "kernelspec": {
   "display_name": "SageMath 9.2",
   "language": "sage",
   "name": "sagemath"
  },
  "language_info": {
   "codemirror_mode": {
    "name": "ipython",
    "version": 3
   },
   "file_extension": ".py",
   "mimetype": "text/x-python",
   "name": "python",
   "nbconvert_exporter": "python",
   "pygments_lexer": "ipython3",
   "version": "3.9.2"
  }
 },
 "nbformat": 4,
 "nbformat_minor": 5
}
