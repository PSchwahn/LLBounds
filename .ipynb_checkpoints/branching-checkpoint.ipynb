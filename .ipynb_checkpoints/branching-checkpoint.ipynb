{
 "cells": [
  {
   "cell_type": "code",
   "execution_count": 10,
   "metadata": {},
   "outputs": [
    {
     "data": {
      "text/plain": [
       "E7(1,0,0,0,0,0,1) + E7(0,0,0,0,0,0,1) + E7(0,0,0,0,0,0,3)"
      ]
     },
     "execution_count": 10,
     "metadata": {},
     "output_type": "execute_result"
    }
   ],
   "source": [
    "#Branching with Sage\n",
    "C28=WeylCharacterRing(\"C28\",style=\"coroots\")\n",
    "E7=WeylCharacterRing(\"E7\",style=\"coroots\")\n",
    "b=branching_rule(\"C28\",\"E7(0,0,0,0,0,0,1)\",rule=\"plethysm\")\n",
    "v=C28(3,0,0,0,0,0,0,0,0,0,0,0,0,0,0,0,0,0,0,0,0,0,0,0,0,0,0,0)\n",
    "v.branch(E7,rule=b)"
   ]
  },
  {
   "cell_type": "code",
   "execution_count": 1,
   "metadata": {},
   "outputs": [
    {
     "name": "stdout",
     "output_type": "stream",
     "text": [
      "\n",
      "O=>=O---O---O---O---O---O=<=O\n",
      "0   1   2   3   4   5   6   7   \n",
      "C7~\n",
      "root restrictions C7 => C3:\n",
      "\n",
      "O---O=<=O\n",
      "1   2   3   \n",
      "C3\n",
      "\n",
      "0 => weight (-2, -2, -2)\n",
      "1 => 3\n",
      "2 => 2\n",
      "3 => 2\n",
      "4 => 3\n",
      "5 => weight (1, -2, -1)\n",
      "6 => 2\n",
      "7 => 3\n",
      "\n",
      "fundamental weight restrictions C7 => C3:\n",
      "1 => (0, 0, 1)\n",
      "2 => (0, 2, 0)\n",
      "3 => (1, 2, 0)\n",
      "4 => (3, 0, 1)\n",
      "5 => (5, 0, 0)\n",
      "6 => (4, 1, 0)\n",
      "7 => (4, 0, 1)\n"
     ]
    }
   ],
   "source": [
    "#How to get a restriction matrix\n",
    "b=branching_rule(\"C7\",\"C3(0,0,1)\",rule=\"plethysm\")\n",
    "b.describe(verbose=True)"
   ]
  },
  {
   "cell_type": "code",
   "execution_count": 3,
   "metadata": {},
   "outputs": [],
   "source": [
    "D26=WeylCharacterRing(\"D26\",style=\"coroots\")\n",
    "F4=WeylCharacterRing(\"F4\",style=\"coroots\")\n",
    "b=branching_rule(\"D26\",\"F4(1,0,0,0)\",rule=\"plethysm\")"
   ]
  },
  {
   "cell_type": "code",
   "execution_count": 5,
   "metadata": {},
   "outputs": [
    {
     "name": "stdout",
     "output_type": "stream",
     "text": [
      "\n",
      "  0 O                                                                                       O 26\n",
      "    |                                                                                       |\n",
      "    |                                                                                       |\n",
      "O---O---O---O---O---O---O---O---O---O---O---O---O---O---O---O---O---O---O---O---O---O---O---O---O\n",
      "1   2   3   4   5   6   7   8   9   10  11  12  13  14  15  16  17  18  19  20  21  22  23  24  25  \n",
      "D26~\n",
      "root restrictions D26 => F4:\n",
      "\n",
      "O---O=>=O---O\n",
      "1   2   3   4   \n",
      "F4\n",
      "\n",
      "0 => weight (-2, -1, -1, 0)\n",
      "1 => 1\n",
      "2 => 2\n",
      "3 => 3\n",
      "4 => 4\n",
      "5 => weight (-1/2, 1/2, 1/2, 3/2)\n",
      "6 => 4\n",
      "7 => 4\n",
      "8 => weight (-1, 1, 2, 0)\n",
      "9 => 4\n",
      "10 => 4\n",
      "11 => weight (-1, 2, 0, 1)\n",
      "12 => 4\n",
      "13 => 4\n",
      "14 => weight (-1/2, -1/2, 3/2, 3/2)\n",
      "15 => 4\n",
      "16 => weight (-1/2, 3/2, -1/2, 1/2)\n",
      "17 => 4\n",
      "18 => weight (-1/2, 1/2, 3/2, -1/2)\n",
      "19 => 4\n",
      "20 => weight (-1/2, 1/2, 1/2, 3/2)\n",
      "21 => 4\n",
      "22 => (zero)\n",
      "23 => root (0, -1, 0, 1)\n",
      "24 => 2\n",
      "25 => weight (0, 1, -2, 1)\n",
      "26 => root (0, 1, 0, -1)\n",
      "\n",
      "fundamental weight restrictions D26 => F4:\n",
      "1 => (1, 0, 0, 0)\n",
      "2 => (0, 1, 0, 0)\n",
      "3 => (0, 0, 2, 0)\n",
      "4 => (0, 0, 2, 1)\n",
      "5 => (0, 0, 3, 0)\n",
      "6 => (0, 1, 1, 2)\n",
      "7 => (0, 2, 0, 2)\n",
      "8 => (0, 3, 0, 0)\n",
      "9 => (1, 2, 0, 2)\n",
      "10 => (2, 1, 1, 2)\n",
      "11 => (3, 0, 3, 0)\n",
      "12 => (2, 0, 3, 2)\n",
      "13 => (1, 0, 4, 2)\n",
      "14 => (0, 0, 6, 0)\n",
      "15 => (1, 0, 5, 1)\n",
      "16 => (2, 0, 5, 0)\n",
      "17 => (1, 1, 4, 1)\n",
      "18 => (0, 2, 4, 0)\n",
      "19 => (0, 1, 5, 1)\n",
      "20 => (0, 0, 7, 0)\n",
      "21 => (0, 0, 6, 2)\n",
      "22 => (0, 0, 6, 2)\n",
      "23 => (0, 0, 6, 2)\n",
      "24 => (1, 1, 4, 2)\n",
      "25 => (2, -1, 3, 1)\n",
      "26 => (1, 1, 1, 1)\n"
     ]
    }
   ],
   "source": [
    "b.describe(verbose=True)"
   ]
  },
  {
   "cell_type": "code",
   "execution_count": 9,
   "metadata": {},
   "outputs": [],
   "source": [
    "fw=D26.fundamental_weights()\n",
    "f4=WeightRing(F4)\n",
    "#convert to coroot style notation by list\n",
    "resmatrix=[[int(x) for x in str(f4(list(b(fw[i])))).split(\"(\")[1].removesuffix(\")\").split(\",\")] for i in range(1,27)]\n",
    "Ad=D26.adjoint_representation()\n",
    "LiEG=lie(\"D26\")\n",
    "LiEGRep=lie(\"adjoint(D26)\")\n",
    "LiEH=lie(\"F4\")\n",
    "LiErm=lie(str(resmatrix))"
   ]
  },
  {
   "cell_type": "code",
   "execution_count": 28,
   "metadata": {},
   "outputs": [
    {
     "data": {
      "text/plain": [
       "5 loops, best of 3: 245 ms per loop"
      ]
     },
     "execution_count": 28,
     "metadata": {},
     "output_type": "execute_result"
    }
   ],
   "source": [
    "timeit(\"b.branch(Ad)\")"
   ]
  },
  {
   "cell_type": "code",
   "execution_count": 29,
   "metadata": {},
   "outputs": [
    {
     "data": {
      "text/plain": [
       "625 loops, best of 3: 1.36 ms per loop"
      ]
     },
     "execution_count": 29,
     "metadata": {},
     "output_type": "execute_result"
    }
   ],
   "source": [
    "timeit(\"lie.branch(LiEGRep,LiEH,LiErm,LiEG)\")"
   ]
  },
  {
   "cell_type": "code",
   "execution_count": 30,
   "metadata": {},
   "outputs": [
    {
     "data": {
      "text/plain": [
       "125 loops, best of 3: 2.29 ms per loop"
      ]
     },
     "execution_count": 30,
     "metadata": {},
     "output_type": "execute_result"
    }
   ],
   "source": [
    "timeit(\"lie.eval('branch(adjoint(D26),F4,'+str(resmatrix)+',D26)')\")"
   ]
  },
  {
   "cell_type": "code",
   "execution_count": 112,
   "metadata": {},
   "outputs": [],
   "source": [
    "def reptolist(rep):\n",
    "    return [int(x) for x in str(rep).split(\"(\")[1].removesuffix(\")\").split(\",\")]\n",
    "def LiEgroupfromWCR(G):\n",
    "    if G.space().root_system.is_irreducible():\n",
    "        ct=G.cartan_type()\n",
    "        ctstring=ct[0]+str(ct[1])\n",
    "    else:\n",
    "        ct=G.cartan_type()\n",
    "        ctstring=\"\"\n",
    "        for x in ct.component_types():\n",
    "            ctstring+=x[0]+str(x[1])\n",
    "    return lie(ctstring)\n",
    "#G simple, H semisimple\n",
    "def resmatrix(G,H,b):\n",
    "    rkG=G.rank()\n",
    "    fw=G.fundamental_weights()\n",
    "    HWR=WeightRing(H)\n",
    "    return [[int(x) for x in str(HWR(list(b(fw[i])))).split(\"(\")[1].removesuffix(\")\").split(\",\")]\\\n",
    "               for i in range(1,rkG+1)]\n",
    "def fastLiEbranch(Grep,G,H,rm):\n",
    "    LiEG=LiEgroupfromWCR(G)\n",
    "    LiEH=LiEgroupfromWCR(H)\n",
    "    LiErm=lie(str(rm))\n",
    "    LiEGrep=lie(str(reptolist(Grep)))\n",
    "    return lie.branch(LiEGRep,LiEH,LiErm,LiEG)"
   ]
  },
  {
   "cell_type": "code",
   "execution_count": 114,
   "metadata": {},
   "outputs": [
    {
     "data": {
      "text/plain": [
       "125 loops, best of 3: 4.08 ms per loop"
      ]
     },
     "execution_count": 114,
     "metadata": {},
     "output_type": "execute_result"
    }
   ],
   "source": [
    "rm=resmatrix(D26,F4,b)\n",
    "timeit(\"fastLiEbranch(Ad,D26,F4,rm)\")"
   ]
  },
  {
   "cell_type": "code",
   "execution_count": null,
   "metadata": {},
   "outputs": [],
   "source": []
  }
 ],
 "metadata": {
  "kernelspec": {
   "display_name": "SageMath 9.2",
   "language": "sage",
   "name": "sagemath"
  },
  "language_info": {
   "codemirror_mode": {
    "name": "ipython",
    "version": 3
   },
   "file_extension": ".py",
   "mimetype": "text/x-python",
   "name": "python",
   "nbconvert_exporter": "python",
   "pygments_lexer": "ipython3",
   "version": "3.9.2"
  }
 },
 "nbformat": 4,
 "nbformat_minor": 2
}
