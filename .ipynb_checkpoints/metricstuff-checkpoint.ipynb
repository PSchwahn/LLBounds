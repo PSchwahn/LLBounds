{
 "cells": [
  {
   "cell_type": "code",
   "execution_count": 32,
   "id": "destroyed-bangladesh",
   "metadata": {},
   "outputs": [],
   "source": [
    "%display latex\n",
    "M=Manifold(4,'M')"
   ]
  },
  {
   "cell_type": "code",
   "execution_count": 33,
   "id": "broad-soldier",
   "metadata": {},
   "outputs": [
    {
     "data": {
      "text/html": [
       "<html><script type=\"math/tex; mode=display\">\\newcommand{\\Bold}[1]{\\mathbf{#1}}\\left(M,(r, {\\tau}, {\\theta}, {\\phi})\\right)</script></html>"
      ],
      "text/latex": [
       "\\begin{math}\n",
       "\\newcommand{\\Bold}[1]{\\mathbf{#1}}\\left(M,(r, {\\tau}, {\\theta}, {\\phi})\\right)\n",
       "\\end{math}"
      ],
      "text/plain": [
       "Chart (M, (r, tau, th, ph))"
      ]
     },
     "execution_count": 33,
     "metadata": {},
     "output_type": "execute_result"
    }
   ],
   "source": [
    "s = var('s')\n",
    "assume(s>=1)\n",
    "X.<r,tau,th,ph> = M.chart(r\"r:(s,+oo) tau:(-oo,oo):\\tau th:(0,pi):\\theta ph:(0,2*pi):\\phi\")\n",
    "X"
   ]
  },
  {
   "cell_type": "code",
   "execution_count": 142,
   "id": "awful-ethiopia",
   "metadata": {},
   "outputs": [
    {
     "data": {
      "text/html": [
       "<html><script type=\"math/tex; mode=display\">\\newcommand{\\Bold}[1]{\\mathbf{#1}}g = \\left( \\frac{r^{2} - 1}{r^{4} + 3 \\, r^{2} {\\left(s - 1\\right)} - {\\left(s^{3} + 3 \\, {\\left(s - 1\\right)} s + 3\\right)} r + 3 \\, s} \\right) \\mathrm{d} r\\otimes \\mathrm{d} r + \\left( \\frac{r^{4} + 3 \\, r^{2} {\\left(s - 1\\right)} - {\\left(s^{3} + 3 \\, {\\left(s - 1\\right)} s + 3\\right)} r + 3 \\, s}{3 \\, {\\left(r^{2} - 1\\right)} {\\left(s + 1\\right)}} \\right) \\mathrm{d} {\\tau}\\otimes \\mathrm{d} {\\tau} + \\frac{2 \\, \\sqrt{\\frac{1}{3}} {\\left(r^{4} + 3 \\, r^{2} {\\left(s - 1\\right)} - {\\left(s^{3} + 3 \\, {\\left(s - 1\\right)} s + 3\\right)} r + 3 \\, s\\right)} \\cos\\left({\\theta}\\right)}{3 \\, {\\left(r^{2} - 1\\right)} {\\left(s + 1\\right)}^{\\frac{3}{2}}} \\mathrm{d} {\\tau}\\otimes \\mathrm{d} {\\phi} + \\left( \\frac{r^{2} - 1}{3 \\, {\\left(s + 1\\right)}} \\right) \\mathrm{d} {\\theta}\\otimes \\mathrm{d} {\\theta} + \\frac{2 \\, \\sqrt{\\frac{1}{3}} {\\left(r^{4} + 3 \\, r^{2} {\\left(s - 1\\right)} - {\\left(s^{3} + 3 \\, {\\left(s - 1\\right)} s + 3\\right)} r + 3 \\, s\\right)} \\cos\\left({\\theta}\\right)}{3 \\, {\\left(r^{2} - 1\\right)} {\\left(s + 1\\right)}^{\\frac{3}{2}}} \\mathrm{d} {\\phi}\\otimes \\mathrm{d} {\\tau} + \\left( \\frac{{\\left(r^{2} - 1\\right)} \\sin\\left({\\theta}\\right)^{2}}{3 \\, {\\left(s + 1\\right)}} + \\frac{4 \\, {\\left(r^{4} + 3 \\, r^{2} {\\left(s - 1\\right)} - {\\left(s^{3} + 3 \\, {\\left(s - 1\\right)} s + 3\\right)} r + 3 \\, s\\right)} \\cos\\left({\\theta}\\right)^{2}}{9 \\, {\\left(r^{2} - 1\\right)} {\\left(s + 1\\right)}^{2}} \\right) \\mathrm{d} {\\phi}\\otimes \\mathrm{d} {\\phi}</script></html>"
      ],
      "text/latex": [
       "\\begin{math}\n",
       "\\newcommand{\\Bold}[1]{\\mathbf{#1}}g = \\left( \\frac{r^{2} - 1}{r^{4} + 3 \\, r^{2} {\\left(s - 1\\right)} - {\\left(s^{3} + 3 \\, {\\left(s - 1\\right)} s + 3\\right)} r + 3 \\, s} \\right) \\mathrm{d} r\\otimes \\mathrm{d} r + \\left( \\frac{r^{4} + 3 \\, r^{2} {\\left(s - 1\\right)} - {\\left(s^{3} + 3 \\, {\\left(s - 1\\right)} s + 3\\right)} r + 3 \\, s}{3 \\, {\\left(r^{2} - 1\\right)} {\\left(s + 1\\right)}} \\right) \\mathrm{d} {\\tau}\\otimes \\mathrm{d} {\\tau} + \\frac{2 \\, \\sqrt{\\frac{1}{3}} {\\left(r^{4} + 3 \\, r^{2} {\\left(s - 1\\right)} - {\\left(s^{3} + 3 \\, {\\left(s - 1\\right)} s + 3\\right)} r + 3 \\, s\\right)} \\cos\\left({\\theta}\\right)}{3 \\, {\\left(r^{2} - 1\\right)} {\\left(s + 1\\right)}^{\\frac{3}{2}}} \\mathrm{d} {\\tau}\\otimes \\mathrm{d} {\\phi} + \\left( \\frac{r^{2} - 1}{3 \\, {\\left(s + 1\\right)}} \\right) \\mathrm{d} {\\theta}\\otimes \\mathrm{d} {\\theta} + \\frac{2 \\, \\sqrt{\\frac{1}{3}} {\\left(r^{4} + 3 \\, r^{2} {\\left(s - 1\\right)} - {\\left(s^{3} + 3 \\, {\\left(s - 1\\right)} s + 3\\right)} r + 3 \\, s\\right)} \\cos\\left({\\theta}\\right)}{3 \\, {\\left(r^{2} - 1\\right)} {\\left(s + 1\\right)}^{\\frac{3}{2}}} \\mathrm{d} {\\phi}\\otimes \\mathrm{d} {\\tau} + \\left( \\frac{{\\left(r^{2} - 1\\right)} \\sin\\left({\\theta}\\right)^{2}}{3 \\, {\\left(s + 1\\right)}} + \\frac{4 \\, {\\left(r^{4} + 3 \\, r^{2} {\\left(s - 1\\right)} - {\\left(s^{3} + 3 \\, {\\left(s - 1\\right)} s + 3\\right)} r + 3 \\, s\\right)} \\cos\\left({\\theta}\\right)^{2}}{9 \\, {\\left(r^{2} - 1\\right)} {\\left(s + 1\\right)}^{2}} \\right) \\mathrm{d} {\\phi}\\otimes \\mathrm{d} {\\phi}\n",
       "\\end{math}"
      ],
      "text/plain": [
       "g = (r^2 - 1)/(r^4 + 3*r^2*(s - 1) - (s^3 + 3*(s - 1)*s + 3)*r + 3*s) dr*dr + 1/3*(r^4 + 3*r^2*(s - 1) - (s^3 + 3*(s - 1)*s + 3)*r + 3*s)/((r^2 - 1)*(s + 1)) dtau*dtau + 2/3*sqrt(1/3)*(r^4 + 3*r^2*(s - 1) - (s^3 + 3*(s - 1)*s + 3)*r + 3*s)*cos(th)/((r^2 - 1)*(s + 1)^(3/2)) dtau*dph + 1/3*(r^2 - 1)/(s + 1) dth*dth + 2/3*sqrt(1/3)*(r^4 + 3*r^2*(s - 1) - (s^3 + 3*(s - 1)*s + 3)*r + 3*s)*cos(th)/((r^2 - 1)*(s + 1)^(3/2)) dph*dtau + (1/3*(r^2 - 1)*sin(th)^2/(s + 1) + 4/9*(r^4 + 3*r^2*(s - 1) - (s^3 + 3*(s - 1)*s + 3)*r + 3*s)*cos(th)^2/((r^2 - 1)*(s + 1)^2)) dph*dph"
      ]
     },
     "execution_count": 142,
     "metadata": {},
     "output_type": "execute_result"
    }
   ],
   "source": [
    "c=2/(3*(s+1))\n",
    "P=r^4+(2/c-6)*r^2+(2/c-3)+(-s^3+(6-2/c)*s+(3-2/c)/s)*r\n",
    "g = M.metric('g')\n",
    "g[0,0] = (r^2-1)/P\n",
    "g[1,1] = P*c/(2*(r^2-1))\n",
    "g[2,2] = c/2*(r^2-1)\n",
    "g[3,3] = P/(r^2-1)*c^2*cos(th)^2+c/2*(r^2-1)*sin(th)^2\n",
    "g[1,3] = P/(r^2-1)*c/2*sqrt(2*c)*cos(th)\n",
    "g[3,1] = g[1,3]\n",
    "g.display()"
   ]
  },
  {
   "cell_type": "code",
   "execution_count": 143,
   "id": "commercial-abraham",
   "metadata": {},
   "outputs": [
    {
     "data": {
      "text/html": [
       "<html><script type=\"math/tex; mode=display\">\\newcommand{\\Bold}[1]{\\mathbf{#1}}\\mathrm{Ric}\\left(g\\right) = \\left( -\\frac{3 \\, {\\left(r^{2} - 1\\right)}}{r^{4} - r s^{3} - 3 \\, r s^{2} - 3 \\, r^{2} + 3 \\, {\\left(r^{2} + r + 1\\right)} s - 3 \\, r} \\right) \\mathrm{d} r\\otimes \\mathrm{d} r + \\left( -\\frac{r^{4} - r s^{3} - 3 \\, r s^{2} - 3 \\, r^{2} + 3 \\, {\\left(r^{2} + r + 1\\right)} s - 3 \\, r}{r^{2} + {\\left(r^{2} - 1\\right)} s - 1} \\right) \\mathrm{d} {\\tau}\\otimes \\mathrm{d} {\\tau} + \\left( -\\frac{2 \\, {\\left(r^{4} - r s^{3} - 3 \\, r s^{2} - 3 \\, r^{2} + 3 \\, {\\left(r^{2} + r + 1\\right)} s - 3 \\, r\\right)} \\sqrt{s + 1} \\cos\\left({\\theta}\\right)}{{\\left(\\sqrt{3} r^{2} - \\sqrt{3}\\right)} s^{2} + \\sqrt{3} r^{2} + 2 \\, {\\left(\\sqrt{3} r^{2} - \\sqrt{3}\\right)} s - \\sqrt{3}} \\right) \\mathrm{d} {\\tau}\\otimes \\mathrm{d} {\\phi} + \\left( -\\frac{r^{2} - 1}{s + 1} \\right) \\mathrm{d} {\\theta}\\otimes \\mathrm{d} {\\theta} + \\left( -\\frac{2 \\, {\\left(r^{4} - r s^{3} - 3 \\, r s^{2} - 3 \\, r^{2} + 3 \\, {\\left(r^{2} + r + 1\\right)} s - 3 \\, r\\right)} \\sqrt{s + 1} \\cos\\left({\\theta}\\right)}{{\\left(\\sqrt{3} r^{2} - \\sqrt{3}\\right)} s^{2} + \\sqrt{3} r^{2} + 2 \\, {\\left(\\sqrt{3} r^{2} - \\sqrt{3}\\right)} s - \\sqrt{3}} \\right) \\mathrm{d} {\\phi}\\otimes \\mathrm{d} {\\tau} + \\left( -\\frac{3 \\, r^{4} + {\\left(r^{4} - 4 \\, r s^{3} - 12 \\, r s^{2} - 6 \\, r^{2} - 3 \\, {\\left(r^{4} - 6 \\, r^{2} - 4 \\, r - 3\\right)} s - 12 \\, r - 3\\right)} \\cos\\left({\\theta}\\right)^{2} - 6 \\, r^{2} + 3 \\, {\\left(r^{4} - 2 \\, r^{2} + 1\\right)} s + 3}{3 \\, {\\left({\\left(r^{2} - 1\\right)} s^{2} + r^{2} + 2 \\, {\\left(r^{2} - 1\\right)} s - 1\\right)}} \\right) \\mathrm{d} {\\phi}\\otimes \\mathrm{d} {\\phi}</script></html>"
      ],
      "text/latex": [
       "\\begin{math}\n",
       "\\newcommand{\\Bold}[1]{\\mathbf{#1}}\\mathrm{Ric}\\left(g\\right) = \\left( -\\frac{3 \\, {\\left(r^{2} - 1\\right)}}{r^{4} - r s^{3} - 3 \\, r s^{2} - 3 \\, r^{2} + 3 \\, {\\left(r^{2} + r + 1\\right)} s - 3 \\, r} \\right) \\mathrm{d} r\\otimes \\mathrm{d} r + \\left( -\\frac{r^{4} - r s^{3} - 3 \\, r s^{2} - 3 \\, r^{2} + 3 \\, {\\left(r^{2} + r + 1\\right)} s - 3 \\, r}{r^{2} + {\\left(r^{2} - 1\\right)} s - 1} \\right) \\mathrm{d} {\\tau}\\otimes \\mathrm{d} {\\tau} + \\left( -\\frac{2 \\, {\\left(r^{4} - r s^{3} - 3 \\, r s^{2} - 3 \\, r^{2} + 3 \\, {\\left(r^{2} + r + 1\\right)} s - 3 \\, r\\right)} \\sqrt{s + 1} \\cos\\left({\\theta}\\right)}{{\\left(\\sqrt{3} r^{2} - \\sqrt{3}\\right)} s^{2} + \\sqrt{3} r^{2} + 2 \\, {\\left(\\sqrt{3} r^{2} - \\sqrt{3}\\right)} s - \\sqrt{3}} \\right) \\mathrm{d} {\\tau}\\otimes \\mathrm{d} {\\phi} + \\left( -\\frac{r^{2} - 1}{s + 1} \\right) \\mathrm{d} {\\theta}\\otimes \\mathrm{d} {\\theta} + \\left( -\\frac{2 \\, {\\left(r^{4} - r s^{3} - 3 \\, r s^{2} - 3 \\, r^{2} + 3 \\, {\\left(r^{2} + r + 1\\right)} s - 3 \\, r\\right)} \\sqrt{s + 1} \\cos\\left({\\theta}\\right)}{{\\left(\\sqrt{3} r^{2} - \\sqrt{3}\\right)} s^{2} + \\sqrt{3} r^{2} + 2 \\, {\\left(\\sqrt{3} r^{2} - \\sqrt{3}\\right)} s - \\sqrt{3}} \\right) \\mathrm{d} {\\phi}\\otimes \\mathrm{d} {\\tau} + \\left( -\\frac{3 \\, r^{4} + {\\left(r^{4} - 4 \\, r s^{3} - 12 \\, r s^{2} - 6 \\, r^{2} - 3 \\, {\\left(r^{4} - 6 \\, r^{2} - 4 \\, r - 3\\right)} s - 12 \\, r - 3\\right)} \\cos\\left({\\theta}\\right)^{2} - 6 \\, r^{2} + 3 \\, {\\left(r^{4} - 2 \\, r^{2} + 1\\right)} s + 3}{3 \\, {\\left({\\left(r^{2} - 1\\right)} s^{2} + r^{2} + 2 \\, {\\left(r^{2} - 1\\right)} s - 1\\right)}} \\right) \\mathrm{d} {\\phi}\\otimes \\mathrm{d} {\\phi}\n",
       "\\end{math}"
      ],
      "text/plain": [
       "Ric(g) = -3*(r^2 - 1)/(r^4 - r*s^3 - 3*r*s^2 - 3*r^2 + 3*(r^2 + r + 1)*s - 3*r) dr*dr - (r^4 - r*s^3 - 3*r*s^2 - 3*r^2 + 3*(r^2 + r + 1)*s - 3*r)/(r^2 + (r^2 - 1)*s - 1) dtau*dtau - 2*(r^4 - r*s^3 - 3*r*s^2 - 3*r^2 + 3*(r^2 + r + 1)*s - 3*r)*sqrt(s + 1)*cos(th)/((sqrt(3)*r^2 - sqrt(3))*s^2 + sqrt(3)*r^2 + 2*(sqrt(3)*r^2 - sqrt(3))*s - sqrt(3)) dtau*dph - (r^2 - 1)/(s + 1) dth*dth - 2*(r^4 - r*s^3 - 3*r*s^2 - 3*r^2 + 3*(r^2 + r + 1)*s - 3*r)*sqrt(s + 1)*cos(th)/((sqrt(3)*r^2 - sqrt(3))*s^2 + sqrt(3)*r^2 + 2*(sqrt(3)*r^2 - sqrt(3))*s - sqrt(3)) dph*dtau - 1/3*(3*r^4 + (r^4 - 4*r*s^3 - 12*r*s^2 - 6*r^2 - 3*(r^4 - 6*r^2 - 4*r - 3)*s - 12*r - 3)*cos(th)^2 - 6*r^2 + 3*(r^4 - 2*r^2 + 1)*s + 3)/((r^2 - 1)*s^2 + r^2 + 2*(r^2 - 1)*s - 1) dph*dph"
      ]
     },
     "execution_count": 143,
     "metadata": {},
     "output_type": "execute_result"
    }
   ],
   "source": [
    "Ric=g.ricci()\n",
    "Ric.display()"
   ]
  },
  {
   "cell_type": "code",
   "execution_count": 41,
   "id": "iraqi-seminar",
   "metadata": {},
   "outputs": [
    {
     "data": {
      "text/html": [
       "<html><script type=\"math/tex; mode=display\">\\newcommand{\\Bold}[1]{\\mathbf{#1}}\\mathrm{True}</script></html>"
      ],
      "text/latex": [
       "\\begin{math}\n",
       "\\newcommand{\\Bold}[1]{\\mathbf{#1}}\\mathrm{True}\n",
       "\\end{math}"
      ],
      "text/plain": [
       "True"
      ]
     },
     "execution_count": 41,
     "metadata": {},
     "output_type": "execute_result"
    }
   ],
   "source": [
    "Ric==-3*g"
   ]
  },
  {
   "cell_type": "code",
   "execution_count": 49,
   "id": "legal-northern",
   "metadata": {},
   "outputs": [
    {
     "data": {
      "text/html": [
       "<html><script type=\"math/tex; mode=display\">\\newcommand{\\Bold}[1]{\\mathbf{#1}}\\mathrm{True}</script></html>"
      ],
      "text/latex": [
       "\\begin{math}\n",
       "\\newcommand{\\Bold}[1]{\\mathbf{#1}}\\mathrm{True}\n",
       "\\end{math}"
      ],
      "text/plain": [
       "True"
      ]
     },
     "execution_count": 49,
     "metadata": {},
     "output_type": "execute_result"
    }
   ],
   "source": [
    "scal=g.ricci_scalar()\n",
    "Ric-scal/4*g==0"
   ]
  },
  {
   "cell_type": "code",
   "execution_count": 71,
   "id": "lonely-silence",
   "metadata": {},
   "outputs": [
    {
     "data": {
      "text/html": [
       "<html><script type=\"math/tex; mode=display\">\\newcommand{\\Bold}[1]{\\mathbf{#1}}g = \\left( \\frac{r^{2} - 1}{r^{4} - 4 \\, r + 3} \\right) \\mathrm{d} r\\otimes \\mathrm{d} r + \\left( \\frac{r^{4} - 4 \\, r + 3}{6 \\, {\\left(r^{2} - 1\\right)}} \\right) \\mathrm{d} {\\tau}\\otimes \\mathrm{d} {\\tau} + \\frac{\\sqrt{\\frac{2}{3}} {\\left(r^{4} - 4 \\, r + 3\\right)} \\cos\\left({\\theta}\\right)}{6 \\, {\\left(r^{2} - 1\\right)}} \\mathrm{d} {\\tau}\\otimes \\mathrm{d} {\\phi} + \\left( \\frac{1}{6} \\, r^{2} - \\frac{1}{6} \\right) \\mathrm{d} {\\theta}\\otimes \\mathrm{d} {\\theta} + \\frac{\\sqrt{\\frac{2}{3}} {\\left(r^{4} - 4 \\, r + 3\\right)} \\cos\\left({\\theta}\\right)}{6 \\, {\\left(r^{2} - 1\\right)}} \\mathrm{d} {\\phi}\\otimes \\mathrm{d} {\\tau} + \\left( \\frac{1}{6} \\, {\\left(r^{2} - 1\\right)} \\sin\\left({\\theta}\\right)^{2} + \\frac{{\\left(r^{4} - 4 \\, r + 3\\right)} \\cos\\left({\\theta}\\right)^{2}}{9 \\, {\\left(r^{2} - 1\\right)}} \\right) \\mathrm{d} {\\phi}\\otimes \\mathrm{d} {\\phi}</script></html>"
      ],
      "text/latex": [
       "\\begin{math}\n",
       "\\newcommand{\\Bold}[1]{\\mathbf{#1}}g = \\left( \\frac{r^{2} - 1}{r^{4} - 4 \\, r + 3} \\right) \\mathrm{d} r\\otimes \\mathrm{d} r + \\left( \\frac{r^{4} - 4 \\, r + 3}{6 \\, {\\left(r^{2} - 1\\right)}} \\right) \\mathrm{d} {\\tau}\\otimes \\mathrm{d} {\\tau} + \\frac{\\sqrt{\\frac{2}{3}} {\\left(r^{4} - 4 \\, r + 3\\right)} \\cos\\left({\\theta}\\right)}{6 \\, {\\left(r^{2} - 1\\right)}} \\mathrm{d} {\\tau}\\otimes \\mathrm{d} {\\phi} + \\left( \\frac{1}{6} \\, r^{2} - \\frac{1}{6} \\right) \\mathrm{d} {\\theta}\\otimes \\mathrm{d} {\\theta} + \\frac{\\sqrt{\\frac{2}{3}} {\\left(r^{4} - 4 \\, r + 3\\right)} \\cos\\left({\\theta}\\right)}{6 \\, {\\left(r^{2} - 1\\right)}} \\mathrm{d} {\\phi}\\otimes \\mathrm{d} {\\tau} + \\left( \\frac{1}{6} \\, {\\left(r^{2} - 1\\right)} \\sin\\left({\\theta}\\right)^{2} + \\frac{{\\left(r^{4} - 4 \\, r + 3\\right)} \\cos\\left({\\theta}\\right)^{2}}{9 \\, {\\left(r^{2} - 1\\right)}} \\right) \\mathrm{d} {\\phi}\\otimes \\mathrm{d} {\\phi}\n",
       "\\end{math}"
      ],
      "text/plain": [
       "g = (r^2 - 1)/(r^4 - 4*r + 3) dr*dr + 1/6*(r^4 - 4*r + 3)/(r^2 - 1) dtau*dtau + 1/6*sqrt(2/3)*(r^4 - 4*r + 3)*cos(th)/(r^2 - 1) dtau*dph + (1/6*r^2 - 1/6) dth*dth + 1/6*sqrt(2/3)*(r^4 - 4*r + 3)*cos(th)/(r^2 - 1) dph*dtau + (1/6*(r^2 - 1)*sin(th)^2 + 1/9*(r^4 - 4*r + 3)*cos(th)^2/(r^2 - 1)) dph*dph"
      ]
     },
     "execution_count": 71,
     "metadata": {},
     "output_type": "execute_result"
    }
   ],
   "source": [
    "c1=c.subs(s=1)\n",
    "P1=P.subs(s=1)\n",
    "g1 = M.metric('g')\n",
    "g1[0,0] = (r^2-1)/P\n",
    "g1[1,1] = P*c/(2*(r^2-1))\n",
    "g1[2,2] = c/2*(r^2-1)\n",
    "g1[3,3] = P/(r^2-1)*c^2*cos(th)^2+c/2*(r^2-1)*sin(th)^2\n",
    "g1[1,3] = P/(r^2-1)*c/2*sqrt(2*c)*cos(th)\n",
    "g1[3,1] = g[1,3]\n",
    "g1.display()"
   ]
  },
  {
   "cell_type": "code",
   "execution_count": 73,
   "id": "supposed-crystal",
   "metadata": {},
   "outputs": [
    {
     "data": {
      "text/html": [
       "<html><script type=\"math/tex; mode=display\">\\newcommand{\\Bold}[1]{\\mathbf{#1}}\\mathrm{Ric}\\left(g\\right) = \\left( -\\frac{3 \\, {\\left(r + 1\\right)}}{r^{3} + r^{2} + r - 3} \\right) \\mathrm{d} r\\otimes \\mathrm{d} r + \\left( -\\frac{r^{3} + r^{2} + r - 3}{2 \\, {\\left(r + 1\\right)}} \\right) \\mathrm{d} {\\tau}\\otimes \\mathrm{d} {\\tau} -\\frac{{\\left(\\sqrt{2} r^{3} + \\sqrt{2} r^{2} + \\sqrt{2} r - 3 \\, \\sqrt{2}\\right)} \\cos\\left({\\theta}\\right)}{2 \\, {\\left(\\sqrt{3} r + \\sqrt{3}\\right)}} \\mathrm{d} {\\tau}\\otimes \\mathrm{d} {\\phi} + \\left( -\\frac{1}{2} \\, r^{2} + \\frac{1}{2} \\right) \\mathrm{d} {\\theta}\\otimes \\mathrm{d} {\\theta} -\\frac{{\\left(\\sqrt{2} r^{3} + \\sqrt{2} r^{2} + \\sqrt{2} r - 3 \\, \\sqrt{2}\\right)} \\cos\\left({\\theta}\\right)}{2 \\, {\\left(\\sqrt{3} r + \\sqrt{3}\\right)}} \\mathrm{d} {\\phi}\\otimes \\mathrm{d} {\\tau} + \\left( -\\frac{3 \\, r^{3} - {\\left(r^{3} + r^{2} - 5 \\, r + 3\\right)} \\cos\\left({\\theta}\\right)^{2} + 3 \\, r^{2} - 3 \\, r - 3}{6 \\, {\\left(r + 1\\right)}} \\right) \\mathrm{d} {\\phi}\\otimes \\mathrm{d} {\\phi}</script></html>"
      ],
      "text/latex": [
       "\\begin{math}\n",
       "\\newcommand{\\Bold}[1]{\\mathbf{#1}}\\mathrm{Ric}\\left(g\\right) = \\left( -\\frac{3 \\, {\\left(r + 1\\right)}}{r^{3} + r^{2} + r - 3} \\right) \\mathrm{d} r\\otimes \\mathrm{d} r + \\left( -\\frac{r^{3} + r^{2} + r - 3}{2 \\, {\\left(r + 1\\right)}} \\right) \\mathrm{d} {\\tau}\\otimes \\mathrm{d} {\\tau} -\\frac{{\\left(\\sqrt{2} r^{3} + \\sqrt{2} r^{2} + \\sqrt{2} r - 3 \\, \\sqrt{2}\\right)} \\cos\\left({\\theta}\\right)}{2 \\, {\\left(\\sqrt{3} r + \\sqrt{3}\\right)}} \\mathrm{d} {\\tau}\\otimes \\mathrm{d} {\\phi} + \\left( -\\frac{1}{2} \\, r^{2} + \\frac{1}{2} \\right) \\mathrm{d} {\\theta}\\otimes \\mathrm{d} {\\theta} -\\frac{{\\left(\\sqrt{2} r^{3} + \\sqrt{2} r^{2} + \\sqrt{2} r - 3 \\, \\sqrt{2}\\right)} \\cos\\left({\\theta}\\right)}{2 \\, {\\left(\\sqrt{3} r + \\sqrt{3}\\right)}} \\mathrm{d} {\\phi}\\otimes \\mathrm{d} {\\tau} + \\left( -\\frac{3 \\, r^{3} - {\\left(r^{3} + r^{2} - 5 \\, r + 3\\right)} \\cos\\left({\\theta}\\right)^{2} + 3 \\, r^{2} - 3 \\, r - 3}{6 \\, {\\left(r + 1\\right)}} \\right) \\mathrm{d} {\\phi}\\otimes \\mathrm{d} {\\phi}\n",
       "\\end{math}"
      ],
      "text/plain": [
       "Ric(g) = -3*(r + 1)/(r^3 + r^2 + r - 3) dr*dr - 1/2*(r^3 + r^2 + r - 3)/(r + 1) dtau*dtau - 1/2*(sqrt(2)*r^3 + sqrt(2)*r^2 + sqrt(2)*r - 3*sqrt(2))*cos(th)/(sqrt(3)*r + sqrt(3)) dtau*dph + (-1/2*r^2 + 1/2) dth*dth - 1/2*(sqrt(2)*r^3 + sqrt(2)*r^2 + sqrt(2)*r - 3*sqrt(2))*cos(th)/(sqrt(3)*r + sqrt(3)) dph*dtau - 1/6*(3*r^3 - (r^3 + r^2 - 5*r + 3)*cos(th)^2 + 3*r^2 - 3*r - 3)/(r + 1) dph*dph"
      ]
     },
     "execution_count": 73,
     "metadata": {},
     "output_type": "execute_result"
    }
   ],
   "source": [
    "Ric1=g1.ricci()\n",
    "Ric1.display()"
   ]
  },
  {
   "cell_type": "code",
   "execution_count": 74,
   "id": "determined-provincial",
   "metadata": {},
   "outputs": [
    {
     "data": {
      "text/html": [
       "<html><script type=\"math/tex; mode=display\">\\newcommand{\\Bold}[1]{\\mathbf{#1}}\\mathrm{True}</script></html>"
      ],
      "text/latex": [
       "\\begin{math}\n",
       "\\newcommand{\\Bold}[1]{\\mathbf{#1}}\\mathrm{True}\n",
       "\\end{math}"
      ],
      "text/plain": [
       "True"
      ]
     },
     "execution_count": 74,
     "metadata": {},
     "output_type": "execute_result"
    }
   ],
   "source": [
    "scal1=g1.ricci_scalar()\n",
    "Ric1-scal1/4*g1==0"
   ]
  },
  {
   "cell_type": "code",
   "execution_count": 102,
   "id": "requested-filing",
   "metadata": {},
   "outputs": [
    {
     "data": {
      "text/html": [
       "<html><script type=\"math/tex; mode=display\">\\newcommand{\\Bold}[1]{\\mathbf{#1}}-\\sin\\left({\\theta}\\right) \\mathrm{d} {\\theta}\\wedge \\mathrm{d} {\\phi}</script></html>"
      ],
      "text/latex": [
       "\\begin{math}\n",
       "\\newcommand{\\Bold}[1]{\\mathbf{#1}}-\\sin\\left({\\theta}\\right) \\mathrm{d} {\\theta}\\wedge \\mathrm{d} {\\phi}\n",
       "\\end{math}"
      ],
      "text/plain": [
       "-sin(th) dth/\\dph"
      ]
     },
     "execution_count": 102,
     "metadata": {},
     "output_type": "execute_result"
    }
   ],
   "source": [
    "X1=X.coframe()\n",
    "a=cos(th)*X1[3]\n",
    "a.derivative().display()"
   ]
  },
  {
   "cell_type": "code",
   "execution_count": 111,
   "id": "weekly-honey",
   "metadata": {},
   "outputs": [
    {
     "data": {
      "text/html": [
       "<html><script type=\"math/tex; mode=display\">\\newcommand{\\Bold}[1]{\\mathbf{#1}}g_{S^2} = \\mathrm{d} {\\theta}\\otimes \\mathrm{d} {\\theta} + \\sin\\left({\\theta}\\right)^{2} \\mathrm{d} {\\phi}\\otimes \\mathrm{d} {\\phi}</script></html>"
      ],
      "text/latex": [
       "\\begin{math}\n",
       "\\newcommand{\\Bold}[1]{\\mathbf{#1}}g_{S^2} = \\mathrm{d} {\\theta}\\otimes \\mathrm{d} {\\theta} + \\sin\\left({\\theta}\\right)^{2} \\mathrm{d} {\\phi}\\otimes \\mathrm{d} {\\phi}\n",
       "\\end{math}"
      ],
      "text/plain": [
       "g_{S^2} = dth*dth + sin(th)^2 dph*dph"
      ]
     },
     "execution_count": 111,
     "metadata": {},
     "output_type": "execute_result"
    }
   ],
   "source": [
    "S2=Manifold(2,\"S^2\")\n",
    "Y.<th,ph> = S2.chart(r\"th:(0,pi):\\theta ph:(0,2*pi):\\phi\")\n",
    "gs=S2.metric(\"g_{S^2}\")\n",
    "gs[0,0]=1\n",
    "gs[1,1]=sin(th)^2\n",
    "gs.display()"
   ]
  },
  {
   "cell_type": "code",
   "execution_count": 113,
   "id": "governmental-decision",
   "metadata": {},
   "outputs": [
    {
     "data": {
      "text/html": [
       "<html><script type=\"math/tex; mode=display\">\\newcommand{\\Bold}[1]{\\mathbf{#1}}\\epsilon_{g_{S^2}} = \\sin\\left({\\theta}\\right) \\mathrm{d} {\\theta}\\wedge \\mathrm{d} {\\phi}</script></html>"
      ],
      "text/latex": [
       "\\begin{math}\n",
       "\\newcommand{\\Bold}[1]{\\mathbf{#1}}\\epsilon_{g_{S^2}} = \\sin\\left({\\theta}\\right) \\mathrm{d} {\\theta}\\wedge \\mathrm{d} {\\phi}\n",
       "\\end{math}"
      ],
      "text/plain": [
       "eps_g_{S^2} = sin(th) dth/\\dph"
      ]
     },
     "execution_count": 113,
     "metadata": {},
     "output_type": "execute_result"
    }
   ],
   "source": [
    "gs.volume_form().display()"
   ]
  },
  {
   "cell_type": "code",
   "execution_count": 126,
   "id": "immediate-elephant",
   "metadata": {},
   "outputs": [
    {
     "data": {
      "text/html": [
       "<html><script type=\"math/tex; mode=display\">\\newcommand{\\Bold}[1]{\\mathbf{#1}}g' = \\left( \\frac{r^{2} - 1}{r^{4} + 3 \\, r^{2} {\\left(s - 1\\right)} - {\\left(s^{3} + 3 \\, {\\left(s - 1\\right)} s + 3\\right)} r + 3 \\, s} \\right) \\mathrm{d} r\\otimes \\mathrm{d} r + \\frac{4 \\, {\\left(r^{4} + 3 \\, r^{2} {\\left(s - 1\\right)} - {\\left(s^{3} + 3 \\, {\\left(s - 1\\right)} s + 3\\right)} r + 3 \\, s\\right)}}{9 \\, {\\left(r^{2} - 1\\right)} {\\left(s + 1\\right)}^{2}} \\mathrm{d} {\\tau}\\otimes \\mathrm{d} {\\tau} -\\frac{8 \\, {\\left(r^{4} - r s^{3} - 3 \\, r s^{2} - 3 \\, r^{2} + 3 \\, {\\left(r^{2} + r + 1\\right)} s - 3 \\, r\\right)} \\cos\\left({\\theta}\\right)}{9 \\, {\\left({\\left(r^{2} - 1\\right)} s^{2} + r^{2} + 2 \\, {\\left(r^{2} - 1\\right)} s - 1\\right)}} \\mathrm{d} {\\tau}\\otimes \\mathrm{d} {\\phi} + \\frac{2 \\, {\\left(r^{2} - 1\\right)}}{3 \\, {\\left(s + 1\\right)}} \\mathrm{d} {\\theta}\\otimes \\mathrm{d} {\\theta} -\\frac{8 \\, {\\left(r^{4} - r s^{3} - 3 \\, r s^{2} - 3 \\, r^{2} + 3 \\, {\\left(r^{2} + r + 1\\right)} s - 3 \\, r\\right)} \\cos\\left({\\theta}\\right)}{9 \\, {\\left({\\left(r^{2} - 1\\right)} s^{2} + r^{2} + 2 \\, {\\left(r^{2} - 1\\right)} s - 1\\right)}} \\mathrm{d} {\\phi}\\otimes \\mathrm{d} {\\tau} + \\frac{2 \\, {\\left(8 \\, {\\left(r^{4} - r s^{3} - 3 \\, r s^{2} - 3 \\, r^{2} + 3 \\, {\\left(r^{2} + r + 1\\right)} s - 3 \\, r\\right)} \\cos\\left({\\theta}\\right)^{2} + 3 \\, {\\left(r^{4} - 2 \\, r^{2} + {\\left(r^{4} - 2 \\, r^{2} + 1\\right)} s + 1\\right)} \\sin\\left({\\theta}\\right)^{2}\\right)}}{9 \\, {\\left({\\left(r^{2} - 1\\right)} s^{2} + r^{2} + 2 \\, {\\left(r^{2} - 1\\right)} s - 1\\right)}} \\mathrm{d} {\\phi}\\otimes \\mathrm{d} {\\phi}</script></html>"
      ],
      "text/latex": [
       "\\begin{math}\n",
       "\\newcommand{\\Bold}[1]{\\mathbf{#1}}g' = \\left( \\frac{r^{2} - 1}{r^{4} + 3 \\, r^{2} {\\left(s - 1\\right)} - {\\left(s^{3} + 3 \\, {\\left(s - 1\\right)} s + 3\\right)} r + 3 \\, s} \\right) \\mathrm{d} r\\otimes \\mathrm{d} r + \\frac{4 \\, {\\left(r^{4} + 3 \\, r^{2} {\\left(s - 1\\right)} - {\\left(s^{3} + 3 \\, {\\left(s - 1\\right)} s + 3\\right)} r + 3 \\, s\\right)}}{9 \\, {\\left(r^{2} - 1\\right)} {\\left(s + 1\\right)}^{2}} \\mathrm{d} {\\tau}\\otimes \\mathrm{d} {\\tau} -\\frac{8 \\, {\\left(r^{4} - r s^{3} - 3 \\, r s^{2} - 3 \\, r^{2} + 3 \\, {\\left(r^{2} + r + 1\\right)} s - 3 \\, r\\right)} \\cos\\left({\\theta}\\right)}{9 \\, {\\left({\\left(r^{2} - 1\\right)} s^{2} + r^{2} + 2 \\, {\\left(r^{2} - 1\\right)} s - 1\\right)}} \\mathrm{d} {\\tau}\\otimes \\mathrm{d} {\\phi} + \\frac{2 \\, {\\left(r^{2} - 1\\right)}}{3 \\, {\\left(s + 1\\right)}} \\mathrm{d} {\\theta}\\otimes \\mathrm{d} {\\theta} -\\frac{8 \\, {\\left(r^{4} - r s^{3} - 3 \\, r s^{2} - 3 \\, r^{2} + 3 \\, {\\left(r^{2} + r + 1\\right)} s - 3 \\, r\\right)} \\cos\\left({\\theta}\\right)}{9 \\, {\\left({\\left(r^{2} - 1\\right)} s^{2} + r^{2} + 2 \\, {\\left(r^{2} - 1\\right)} s - 1\\right)}} \\mathrm{d} {\\phi}\\otimes \\mathrm{d} {\\tau} + \\frac{2 \\, {\\left(8 \\, {\\left(r^{4} - r s^{3} - 3 \\, r s^{2} - 3 \\, r^{2} + 3 \\, {\\left(r^{2} + r + 1\\right)} s - 3 \\, r\\right)} \\cos\\left({\\theta}\\right)^{2} + 3 \\, {\\left(r^{4} - 2 \\, r^{2} + {\\left(r^{4} - 2 \\, r^{2} + 1\\right)} s + 1\\right)} \\sin\\left({\\theta}\\right)^{2}\\right)}}{9 \\, {\\left({\\left(r^{2} - 1\\right)} s^{2} + r^{2} + 2 \\, {\\left(r^{2} - 1\\right)} s - 1\\right)}} \\mathrm{d} {\\phi}\\otimes \\mathrm{d} {\\phi}\n",
       "\\end{math}"
      ],
      "text/plain": [
       "g' = (r^2 - 1)/(r^4 + 3*r^2*(s - 1) - (s^3 + 3*(s - 1)*s + 3)*r + 3*s) dr*dr + 4/9*(r^4 + 3*r^2*(s - 1) - (s^3 + 3*(s - 1)*s + 3)*r + 3*s)/((r^2 - 1)*(s + 1)^2) dtau*dtau - 8/9*(r^4 - r*s^3 - 3*r*s^2 - 3*r^2 + 3*(r^2 + r + 1)*s - 3*r)*cos(th)/((r^2 - 1)*s^2 + r^2 + 2*(r^2 - 1)*s - 1) dtau*dph + 2/3*(r^2 - 1)/(s + 1) dth*dth - 8/9*(r^4 - r*s^3 - 3*r*s^2 - 3*r^2 + 3*(r^2 + r + 1)*s - 3*r)*cos(th)/((r^2 - 1)*s^2 + r^2 + 2*(r^2 - 1)*s - 1) dph*dtau + 2/9*(8*(r^4 - r*s^3 - 3*r*s^2 - 3*r^2 + 3*(r^2 + r + 1)*s - 3*r)*cos(th)^2 + 3*(r^4 - 2*r^2 + (r^4 - 2*r^2 + 1)*s + 1)*sin(th)^2)/((r^2 - 1)*s^2 + r^2 + 2*(r^2 - 1)*s - 1) dph*dph"
      ]
     },
     "execution_count": 126,
     "metadata": {},
     "output_type": "execute_result"
    }
   ],
   "source": [
    "#c=2/(3*(s+1))\n",
    "#P=r^4+(2/c-6)*r^2+(2/c-3)+(-s^3+(6-2/c)*s+(3-2/c)/s)*r\n",
    "#gpp=M.metric(\"g'\")\n",
    "#gpptensor=(r^2-1)/P*X1[0]*X1[0]+P/(r^2-1)*c^2*(X1[1]-2*a)*(X1[1]-2*a)+(r^2-1)*c*(X1[2]*X1[2]+sin(th)^2*X1[3]*X1[3])\n",
    "#gpp[0,0]=gpptensor[0,0]\n",
    "#gpp[1,1]=gpptensor[1,1]\n",
    "#gpp[2,2]=gpptensor[2,2]\n",
    "#gpp[3,3]=gpptensor[3,3]\n",
    "#gpp[1,3]=gpptensor[1,3]\n",
    "#gpp[3,1]=gpptensor[3,1]\n",
    "#gpp.display()"
   ]
  },
  {
   "cell_type": "code",
   "execution_count": 127,
   "id": "alive-pottery",
   "metadata": {},
   "outputs": [
    {
     "data": {
      "text/html": [
       "<html><script type=\"math/tex; mode=display\">\\newcommand{\\Bold}[1]{\\mathbf{#1}}\\mathrm{Ric}\\left(g'\\right) = \\left( -\\frac{3 \\, {\\left(r^{2} - 1\\right)}}{r^{4} - r s^{3} - 3 \\, r s^{2} - 3 \\, r^{2} + 3 \\, {\\left(r^{2} + r + 1\\right)} s - 3 \\, r} \\right) \\mathrm{d} r\\otimes \\mathrm{d} r -\\frac{4 \\, {\\left(r^{4} - r s^{3} - 3 \\, r s^{2} - 3 \\, r^{2} + 3 \\, {\\left(r^{2} + r + 1\\right)} s - 3 \\, r\\right)}}{3 \\, {\\left({\\left(r^{2} - 1\\right)} s^{2} + r^{2} + 2 \\, {\\left(r^{2} - 1\\right)} s - 1\\right)}} \\mathrm{d} {\\tau}\\otimes \\mathrm{d} {\\tau} + \\frac{8 \\, {\\left(r^{4} - r s^{3} - 3 \\, r s^{2} - 3 \\, r^{2} + 3 \\, {\\left(r^{2} + r + 1\\right)} s - 3 \\, r\\right)} \\cos\\left({\\theta}\\right)}{3 \\, {\\left({\\left(r^{2} - 1\\right)} s^{2} + r^{2} + 2 \\, {\\left(r^{2} - 1\\right)} s - 1\\right)}} \\mathrm{d} {\\tau}\\otimes \\mathrm{d} {\\phi} + \\left( -\\frac{2 \\, r^{2} + s - 1}{s + 1} \\right) \\mathrm{d} {\\theta}\\otimes \\mathrm{d} {\\theta} + \\frac{8 \\, {\\left(r^{4} - r s^{3} - 3 \\, r s^{2} - 3 \\, r^{2} + 3 \\, {\\left(r^{2} + r + 1\\right)} s - 3 \\, r\\right)} \\cos\\left({\\theta}\\right)}{3 \\, {\\left({\\left(r^{2} - 1\\right)} s^{2} + r^{2} + 2 \\, {\\left(r^{2} - 1\\right)} s - 1\\right)}} \\mathrm{d} {\\phi}\\otimes \\mathrm{d} {\\tau} + \\left( -\\frac{6 \\, r^{4} + 3 \\, {\\left(r^{2} - 1\\right)} s^{2} + {\\left(10 \\, r^{4} - 16 \\, r s^{3} - 3 \\, {\\left(r^{2} + 16 \\, r - 1\\right)} s^{2} - 39 \\, r^{2} - 6 \\, {\\left(r^{4} - 9 \\, r^{2} - 8 \\, r - 8\\right)} s - 48 \\, r - 3\\right)} \\cos\\left({\\theta}\\right)^{2} - 9 \\, r^{2} + 6 \\, {\\left(r^{4} - r^{2}\\right)} s + 3}{3 \\, {\\left({\\left(r^{2} - 1\\right)} s^{2} + r^{2} + 2 \\, {\\left(r^{2} - 1\\right)} s - 1\\right)}} \\right) \\mathrm{d} {\\phi}\\otimes \\mathrm{d} {\\phi}</script></html>"
      ],
      "text/latex": [
       "\\begin{math}\n",
       "\\newcommand{\\Bold}[1]{\\mathbf{#1}}\\mathrm{Ric}\\left(g'\\right) = \\left( -\\frac{3 \\, {\\left(r^{2} - 1\\right)}}{r^{4} - r s^{3} - 3 \\, r s^{2} - 3 \\, r^{2} + 3 \\, {\\left(r^{2} + r + 1\\right)} s - 3 \\, r} \\right) \\mathrm{d} r\\otimes \\mathrm{d} r -\\frac{4 \\, {\\left(r^{4} - r s^{3} - 3 \\, r s^{2} - 3 \\, r^{2} + 3 \\, {\\left(r^{2} + r + 1\\right)} s - 3 \\, r\\right)}}{3 \\, {\\left({\\left(r^{2} - 1\\right)} s^{2} + r^{2} + 2 \\, {\\left(r^{2} - 1\\right)} s - 1\\right)}} \\mathrm{d} {\\tau}\\otimes \\mathrm{d} {\\tau} + \\frac{8 \\, {\\left(r^{4} - r s^{3} - 3 \\, r s^{2} - 3 \\, r^{2} + 3 \\, {\\left(r^{2} + r + 1\\right)} s - 3 \\, r\\right)} \\cos\\left({\\theta}\\right)}{3 \\, {\\left({\\left(r^{2} - 1\\right)} s^{2} + r^{2} + 2 \\, {\\left(r^{2} - 1\\right)} s - 1\\right)}} \\mathrm{d} {\\tau}\\otimes \\mathrm{d} {\\phi} + \\left( -\\frac{2 \\, r^{2} + s - 1}{s + 1} \\right) \\mathrm{d} {\\theta}\\otimes \\mathrm{d} {\\theta} + \\frac{8 \\, {\\left(r^{4} - r s^{3} - 3 \\, r s^{2} - 3 \\, r^{2} + 3 \\, {\\left(r^{2} + r + 1\\right)} s - 3 \\, r\\right)} \\cos\\left({\\theta}\\right)}{3 \\, {\\left({\\left(r^{2} - 1\\right)} s^{2} + r^{2} + 2 \\, {\\left(r^{2} - 1\\right)} s - 1\\right)}} \\mathrm{d} {\\phi}\\otimes \\mathrm{d} {\\tau} + \\left( -\\frac{6 \\, r^{4} + 3 \\, {\\left(r^{2} - 1\\right)} s^{2} + {\\left(10 \\, r^{4} - 16 \\, r s^{3} - 3 \\, {\\left(r^{2} + 16 \\, r - 1\\right)} s^{2} - 39 \\, r^{2} - 6 \\, {\\left(r^{4} - 9 \\, r^{2} - 8 \\, r - 8\\right)} s - 48 \\, r - 3\\right)} \\cos\\left({\\theta}\\right)^{2} - 9 \\, r^{2} + 6 \\, {\\left(r^{4} - r^{2}\\right)} s + 3}{3 \\, {\\left({\\left(r^{2} - 1\\right)} s^{2} + r^{2} + 2 \\, {\\left(r^{2} - 1\\right)} s - 1\\right)}} \\right) \\mathrm{d} {\\phi}\\otimes \\mathrm{d} {\\phi}\n",
       "\\end{math}"
      ],
      "text/plain": [
       "Ric(g') = -3*(r^2 - 1)/(r^4 - r*s^3 - 3*r*s^2 - 3*r^2 + 3*(r^2 + r + 1)*s - 3*r) dr*dr - 4/3*(r^4 - r*s^3 - 3*r*s^2 - 3*r^2 + 3*(r^2 + r + 1)*s - 3*r)/((r^2 - 1)*s^2 + r^2 + 2*(r^2 - 1)*s - 1) dtau*dtau + 8/3*(r^4 - r*s^3 - 3*r*s^2 - 3*r^2 + 3*(r^2 + r + 1)*s - 3*r)*cos(th)/((r^2 - 1)*s^2 + r^2 + 2*(r^2 - 1)*s - 1) dtau*dph - (2*r^2 + s - 1)/(s + 1) dth*dth + 8/3*(r^4 - r*s^3 - 3*r*s^2 - 3*r^2 + 3*(r^2 + r + 1)*s - 3*r)*cos(th)/((r^2 - 1)*s^2 + r^2 + 2*(r^2 - 1)*s - 1) dph*dtau - 1/3*(6*r^4 + 3*(r^2 - 1)*s^2 + (10*r^4 - 16*r*s^3 - 3*(r^2 + 16*r - 1)*s^2 - 39*r^2 - 6*(r^4 - 9*r^2 - 8*r - 8)*s - 48*r - 3)*cos(th)^2 - 9*r^2 + 6*(r^4 - r^2)*s + 3)/((r^2 - 1)*s^2 + r^2 + 2*(r^2 - 1)*s - 1) dph*dph"
      ]
     },
     "execution_count": 127,
     "metadata": {},
     "output_type": "execute_result"
    }
   ],
   "source": [
    "#Ricpp=gpp.ricci()\n",
    "#Ricpp.display()"
   ]
  },
  {
   "cell_type": "code",
   "execution_count": 129,
   "id": "atmospheric-elevation",
   "metadata": {},
   "outputs": [
    {
     "data": {
      "text/html": [
       "<html><script type=\"math/tex; mode=display\">\\newcommand{\\Bold}[1]{\\mathbf{#1}}\\mathrm{False}</script></html>"
      ],
      "text/latex": [
       "\\begin{math}\n",
       "\\newcommand{\\Bold}[1]{\\mathbf{#1}}\\mathrm{False}\n",
       "\\end{math}"
      ],
      "text/plain": [
       "False"
      ]
     },
     "execution_count": 129,
     "metadata": {},
     "output_type": "execute_result"
    }
   ],
   "source": [
    "#scalpp=g.ricci_scalar()\n",
    "#Ricpp-scalpp/4*gpp==0"
   ]
  },
  {
   "cell_type": "code",
   "execution_count": 135,
   "id": "offensive-grass",
   "metadata": {},
   "outputs": [
    {
     "data": {
      "text/html": [
       "<html><script type=\"math/tex; mode=display\">\\newcommand{\\Bold}[1]{\\mathbf{#1}}\\mathrm{True}</script></html>"
      ],
      "text/latex": [
       "\\begin{math}\n",
       "\\newcommand{\\Bold}[1]{\\mathbf{#1}}\\mathrm{True}\n",
       "\\end{math}"
      ],
      "text/plain": [
       "True"
      ]
     },
     "execution_count": 135,
     "metadata": {},
     "output_type": "execute_result"
    }
   ],
   "source": [
    "c=2/(3*(s+1))\n",
    "P=r^4+(2/c-6)*r^2+(2/c-3)+(-s^3+(6-2/c)*s+(3-2/c)/s)*r\n",
    "gpp=M.metric(\"g'\")\n",
    "gpptensor=(r^2-1)/P*X1[0]*X1[0]+P/(r^2-1)*c^2*(X1[1]+a)*(X1[1]+a)+(r^2-1)*c/2*(X1[2]*X1[2]+sin(th)^2*X1[3]*X1[3])\n",
    "gpp[0,0]=gpptensor[0,0]\n",
    "gpp[1,1]=gpptensor[1,1]\n",
    "gpp[2,2]=gpptensor[2,2]\n",
    "gpp[3,3]=gpptensor[3,3]\n",
    "gpp[1,3]=gpptensor[1,3]\n",
    "gpp[3,1]=gpptensor[3,1]\n",
    "Ricpp=gpp.ricci()\n",
    "scalpp=g.ricci_scalar()\n",
    "Ricpp-scalpp/4*gpp==0"
   ]
  },
  {
   "cell_type": "code",
   "execution_count": 147,
   "id": "wrong-bruce",
   "metadata": {},
   "outputs": [
    {
     "data": {
      "text/html": [
       "<html><script type=\"math/tex; mode=display\">\\newcommand{\\Bold}[1]{\\mathbf{#1}}g-g' = \\left( -\\frac{3 \\, r s^{4} + r^{4} + 8 \\, r s^{3} - 3 \\, {\\left(3 \\, r^{2} + 4 \\, r + 3\\right)} s^{2} - 3 \\, r^{2} - 3 \\, {\\left(r^{4} - 4 \\, r^{2} - 4 \\, r - 1\\right)} s - 3 \\, r}{9 \\, {\\left({\\left(r^{2} - 1\\right)} s^{2} + r^{2} + 2 \\, {\\left(r^{2} - 1\\right)} s - 1\\right)}} \\right) \\mathrm{d} {\\tau}\\otimes \\mathrm{d} {\\tau} + \\left( -\\frac{2 \\, {\\left(2 \\, {\\left(\\sqrt{3} r^{4} - \\sqrt{3} r s^{3} - 3 \\, \\sqrt{3} r s^{2} - 3 \\, \\sqrt{3} r^{2} + 3 \\, {\\left(\\sqrt{3} r^{2} + \\sqrt{3} r + \\sqrt{3}\\right)} s - 3 \\, \\sqrt{3} r\\right)} \\sqrt{s + 1} \\cos\\left({\\theta}\\right) + 3 \\, {\\left(r s^{4} - r^{4} + 4 \\, r s^{3} - 3 \\, {\\left(r^{2} + 1\\right)} s^{2} + 3 \\, r^{2} - {\\left(r^{4} + 3\\right)} s + 3 \\, r\\right)} \\cos\\left({\\theta}\\right)\\right)}}{9 \\, {\\left({\\left(\\sqrt{3} r^{2} - \\sqrt{3}\\right)} s^{2} + \\sqrt{3} r^{2} + 2 \\, {\\left(\\sqrt{3} r^{2} - \\sqrt{3}\\right)} s - \\sqrt{3}\\right)} \\sqrt{s + 1}} \\right) \\mathrm{d} {\\tau}\\otimes \\mathrm{d} {\\phi} + \\left( -\\frac{2 \\, {\\left(2 \\, {\\left(\\sqrt{3} r^{4} - \\sqrt{3} r s^{3} - 3 \\, \\sqrt{3} r s^{2} - 3 \\, \\sqrt{3} r^{2} + 3 \\, {\\left(\\sqrt{3} r^{2} + \\sqrt{3} r + \\sqrt{3}\\right)} s - 3 \\, \\sqrt{3} r\\right)} \\sqrt{s + 1} \\cos\\left({\\theta}\\right) + 3 \\, {\\left(r s^{4} - r^{4} + 4 \\, r s^{3} - 3 \\, {\\left(r^{2} + 1\\right)} s^{2} + 3 \\, r^{2} - {\\left(r^{4} + 3\\right)} s + 3 \\, r\\right)} \\cos\\left({\\theta}\\right)\\right)}}{9 \\, {\\left({\\left(\\sqrt{3} r^{2} - \\sqrt{3}\\right)} s^{2} + \\sqrt{3} r^{2} + 2 \\, {\\left(\\sqrt{3} r^{2} - \\sqrt{3}\\right)} s - \\sqrt{3}\\right)} \\sqrt{s + 1}} \\right) \\mathrm{d} {\\phi}\\otimes \\mathrm{d} {\\tau}</script></html>"
      ],
      "text/latex": [
       "\\begin{math}\n",
       "\\newcommand{\\Bold}[1]{\\mathbf{#1}}g-g' = \\left( -\\frac{3 \\, r s^{4} + r^{4} + 8 \\, r s^{3} - 3 \\, {\\left(3 \\, r^{2} + 4 \\, r + 3\\right)} s^{2} - 3 \\, r^{2} - 3 \\, {\\left(r^{4} - 4 \\, r^{2} - 4 \\, r - 1\\right)} s - 3 \\, r}{9 \\, {\\left({\\left(r^{2} - 1\\right)} s^{2} + r^{2} + 2 \\, {\\left(r^{2} - 1\\right)} s - 1\\right)}} \\right) \\mathrm{d} {\\tau}\\otimes \\mathrm{d} {\\tau} + \\left( -\\frac{2 \\, {\\left(2 \\, {\\left(\\sqrt{3} r^{4} - \\sqrt{3} r s^{3} - 3 \\, \\sqrt{3} r s^{2} - 3 \\, \\sqrt{3} r^{2} + 3 \\, {\\left(\\sqrt{3} r^{2} + \\sqrt{3} r + \\sqrt{3}\\right)} s - 3 \\, \\sqrt{3} r\\right)} \\sqrt{s + 1} \\cos\\left({\\theta}\\right) + 3 \\, {\\left(r s^{4} - r^{4} + 4 \\, r s^{3} - 3 \\, {\\left(r^{2} + 1\\right)} s^{2} + 3 \\, r^{2} - {\\left(r^{4} + 3\\right)} s + 3 \\, r\\right)} \\cos\\left({\\theta}\\right)\\right)}}{9 \\, {\\left({\\left(\\sqrt{3} r^{2} - \\sqrt{3}\\right)} s^{2} + \\sqrt{3} r^{2} + 2 \\, {\\left(\\sqrt{3} r^{2} - \\sqrt{3}\\right)} s - \\sqrt{3}\\right)} \\sqrt{s + 1}} \\right) \\mathrm{d} {\\tau}\\otimes \\mathrm{d} {\\phi} + \\left( -\\frac{2 \\, {\\left(2 \\, {\\left(\\sqrt{3} r^{4} - \\sqrt{3} r s^{3} - 3 \\, \\sqrt{3} r s^{2} - 3 \\, \\sqrt{3} r^{2} + 3 \\, {\\left(\\sqrt{3} r^{2} + \\sqrt{3} r + \\sqrt{3}\\right)} s - 3 \\, \\sqrt{3} r\\right)} \\sqrt{s + 1} \\cos\\left({\\theta}\\right) + 3 \\, {\\left(r s^{4} - r^{4} + 4 \\, r s^{3} - 3 \\, {\\left(r^{2} + 1\\right)} s^{2} + 3 \\, r^{2} - {\\left(r^{4} + 3\\right)} s + 3 \\, r\\right)} \\cos\\left({\\theta}\\right)\\right)}}{9 \\, {\\left({\\left(\\sqrt{3} r^{2} - \\sqrt{3}\\right)} s^{2} + \\sqrt{3} r^{2} + 2 \\, {\\left(\\sqrt{3} r^{2} - \\sqrt{3}\\right)} s - \\sqrt{3}\\right)} \\sqrt{s + 1}} \\right) \\mathrm{d} {\\phi}\\otimes \\mathrm{d} {\\tau}\n",
       "\\end{math}"
      ],
      "text/plain": [
       "g-g' = -1/9*(3*r*s^4 + r^4 + 8*r*s^3 - 3*(3*r^2 + 4*r + 3)*s^2 - 3*r^2 - 3*(r^4 - 4*r^2 - 4*r - 1)*s - 3*r)/((r^2 - 1)*s^2 + r^2 + 2*(r^2 - 1)*s - 1) dtau*dtau - 2/9*(2*(sqrt(3)*r^4 - sqrt(3)*r*s^3 - 3*sqrt(3)*r*s^2 - 3*sqrt(3)*r^2 + 3*(sqrt(3)*r^2 + sqrt(3)*r + sqrt(3))*s - 3*sqrt(3)*r)*sqrt(s + 1)*cos(th) + 3*(r*s^4 - r^4 + 4*r*s^3 - 3*(r^2 + 1)*s^2 + 3*r^2 - (r^4 + 3)*s + 3*r)*cos(th))/(((sqrt(3)*r^2 - sqrt(3))*s^2 + sqrt(3)*r^2 + 2*(sqrt(3)*r^2 - sqrt(3))*s - sqrt(3))*sqrt(s + 1)) dtau*dph - 2/9*(2*(sqrt(3)*r^4 - sqrt(3)*r*s^3 - 3*sqrt(3)*r*s^2 - 3*sqrt(3)*r^2 + 3*(sqrt(3)*r^2 + sqrt(3)*r + sqrt(3))*s - 3*sqrt(3)*r)*sqrt(s + 1)*cos(th) + 3*(r*s^4 - r^4 + 4*r*s^3 - 3*(r^2 + 1)*s^2 + 3*r^2 - (r^4 + 3)*s + 3*r)*cos(th))/(((sqrt(3)*r^2 - sqrt(3))*s^2 + sqrt(3)*r^2 + 2*(sqrt(3)*r^2 - sqrt(3))*s - sqrt(3))*sqrt(s + 1)) dph*dtau"
      ]
     },
     "execution_count": 147,
     "metadata": {},
     "output_type": "execute_result"
    }
   ],
   "source": [
    "(g-gpp).display()"
   ]
  },
  {
   "cell_type": "code",
   "execution_count": null,
   "id": "employed-halifax",
   "metadata": {},
   "outputs": [],
   "source": []
  }
 ],
 "metadata": {
  "kernelspec": {
   "display_name": "SageMath 9.2",
   "language": "sage",
   "name": "sagemath"
  },
  "language_info": {
   "codemirror_mode": {
    "name": "ipython",
    "version": 3
   },
   "file_extension": ".py",
   "mimetype": "text/x-python",
   "name": "python",
   "nbconvert_exporter": "python",
   "pygments_lexer": "ipython3",
   "version": "3.9.2"
  }
 },
 "nbformat": 4,
 "nbformat_minor": 5
}
