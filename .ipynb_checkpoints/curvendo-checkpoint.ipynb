{
 "cells": [
  {
   "cell_type": "code",
   "execution_count": 2,
   "id": "encouraging-admission",
   "metadata": {},
   "outputs": [],
   "source": [
    "#Input: Matrix of curvature operator wrt basis of Lambda²T*\n",
    "%display latex\n",
    "dim=10\n",
    "dimLam2=dim*(dim-1)/2\n",
    "Vect=FiniteRankFreeModule(QQ, dim, name='T')\n",
    "Dual=Vect.dual()\n",
    "e=Vect.basis('e')\n",
    "ed=e.dual_basis()#ed[1](e[1])=1\n",
    "#TODO: Fix dualizing issue!\n",
    "g=load(\"g\")#diagonal matrix since basis is orthogonal\n",
    "#Normalizing the basis would result in irrational coefficients\n",
    "ginv=g.inverse()\n",
    "gtensor=Vect.tensor((0,2))\n",
    "gtensor[:]=g\n",
    "ginvtensor=Vect.tensor((2,0))\n",
    "ginvtensor[:]=ginv\n",
    "wedge2basis=[0 for n in range(0,dimLam2)]\n",
    "wedge2g=matrix(QQ,dimLam2)\n",
    "for i in range(0,dim):\n",
    "    for j in range(i+1,dim):\n",
    "        ijindex=(dim-1)*i-i*(i+1)/2+j-1\n",
    "        wedge2basis[ijindex]=e[i].wedge(e[j])\n",
    "        wedge2g[ijindex,ijindex]=g[i,i]*g[j,j]\n",
    "wedge2ginv=wedge2g.inverse()\n",
    "Rsparse=load(\"Rsparse\")"
   ]
  },
  {
   "cell_type": "code",
   "execution_count": 3,
   "id": "large-criminal",
   "metadata": {},
   "outputs": [
    {
     "data": {
      "text/html": [
       "<html><script type=\"math/tex; mode=display\">\\newcommand{\\Bold}[1]{\\mathbf{#1}}e_{1}\\wedge e_{2}</script></html>"
      ],
      "text/latex": [
       "\\begin{math}\n",
       "\\newcommand{\\Bold}[1]{\\mathbf{#1}}e_{1}\\wedge e_{2}\n",
       "\\end{math}"
      ],
      "text/plain": [
       "Alternating contravariant tensor e_1/\\e_2 of degree 2 on the 10-dimensional vector space T over the Rational Field"
      ]
     },
     "execution_count": 3,
     "metadata": {},
     "output_type": "execute_result"
    }
   ],
   "source": [
    "a=e[1].wedge(e[2])\n",
    "v=e[1]+e[2]\n",
    "b=ed[1]\n",
    "a"
   ]
  },
  {
   "cell_type": "code",
   "execution_count": 4,
   "id": "behavioral-tackle",
   "metadata": {},
   "outputs": [
    {
     "data": {
      "text/html": [
       "<html><script type=\"math/tex; mode=display\">\\newcommand{\\Bold}[1]{\\mathbf{#1}}-48 e_{1}\\otimes e^{2} + 16 e_{2}\\otimes e^{1}</script></html>"
      ],
      "text/latex": [
       "\\begin{math}\n",
       "\\newcommand{\\Bold}[1]{\\mathbf{#1}}-48 e_{1}\\otimes e^{2} + 16 e_{2}\\otimes e^{1}\n",
       "\\end{math}"
      ],
      "text/plain": [
       "-48 e_1*e^2 + 16 e_2*e^1"
      ]
     },
     "execution_count": 4,
     "metadata": {},
     "output_type": "execute_result"
    }
   ],
   "source": [
    "#(1,1)-tensor out of COVARIANT 2-form\n",
    "def so(twoform):\n",
    "    #F=Vect.tensor((1,1))\n",
    "    #F[e,:]=twoform[e,:].transpose()\n",
    "    return twoform.contract(0,gtensor)\n",
    "sobasis=[so(x) for x in wedge2basis]\n",
    "#covariant action: so(a).contract(1,v)\n",
    "#contravariant action: -so(a).contract(0,b)\n",
    "so(a).display()"
   ]
  },
  {
   "cell_type": "code",
   "execution_count": 60,
   "id": "front-complexity",
   "metadata": {},
   "outputs": [],
   "source": [
    "from sage.tensor.modules.tensor_with_indices import TensorWithIndices\n",
    "def derivation(twoform,tensor):\n",
    "    covrank=tensor.tensor_type()[0]\n",
    "    contrank=tensor.tensor_type()[1]\n",
    "    endo=so(twoform)\n",
    "    result=0\n",
    "    indstr=''\n",
    "    for i in range(0,covrank):\n",
    "        indstr+='.'\n",
    "    if contrank>0:\n",
    "        indstr+='_'    \n",
    "    for j in range(0,contrank):\n",
    "        indstr+='.'\n",
    "    #tensor must be sorted: covariant, then contravariant\n",
    "    for i in range(0,covrank):\n",
    "        #[1,...,i,0]\n",
    "        cycle=[n for n in range(1,i+1)]+[0]\n",
    "        result+=endo.contract(1,tensor,i)[indstr].permute_indices(cycle)._tensor\n",
    "    for j in range(0,contrank):\n",
    "        #[0,1,...,covrank-1,covrank+1,...,covrank+j,covrank]\n",
    "        cycle=[n for n in range(0,covrank)]+[n for n in range(covrank+1,covrank+j+1)]+[covrank]\n",
    "        result-=endo.contract(0,tensor,covrank+j)[indstr].permute_indices(cycle)._tensor\n",
    "    return result\n",
    "def derivation2(twoform,tensor):\n",
    "    #works for covariant tensors of rank 2 and is quicker\n",
    "    endo=so(twoform)\n",
    "    return endo.contract(1,tensor,0)+tensor.contract(1,endo,1)"
   ]
  },
  {
   "cell_type": "code",
   "execution_count": 6,
   "id": "improving-region",
   "metadata": {},
   "outputs": [],
   "source": [
    "def Rtransform(Rmatrix,lam2list):\n",
    "    result=[0 for n in range(0,dimLam2)]\n",
    "    for i in range(0,dimLam2):\n",
    "        for j in range(0,dimLam2):\n",
    "            result[i]+=Rmatrix[i,j]*lam2list[j]\n",
    "    return result\n",
    "def qR(Rmatrix,tensor):\n",
    "    result=0\n",
    "    Rwedge2basis=Rtransform(Rmatrix,wedge2basis)\n",
    "    for i in range(0,dimLam2):\n",
    "        result-=wedge2ginv[i,i]*derivation(wedge2basis[i],derivation(Rwedge2basis[i],tensor))\n",
    "    return result\n",
    "def qR2(Rmatrix,tensor):\n",
    "    #only for rank 2 tensors\n",
    "    result=0\n",
    "    Rwedge2basis=Rtransform(Rmatrix,wedge2basis)\n",
    "    for i in range(0,dimLam2):\n",
    "        result-=wedge2ginv[i,i]*derivation2(wedge2basis[i],derivation2(Rwedge2basis[i],tensor))\n",
    "    return result\n",
    "#def qRlog(Rmatrix,tensor):\n",
    "#    so far only works for rank 2\n",
    "#    fix derivation\n",
    "#    result=0\n",
    "#    Rwedge2basis=Rtransform(Rmatrix,wedge2basis)\n",
    "#    for i in range(0,dimLam2):\n",
    "#        subtr=wedge2ginv[i,i]*derivation2(wedge2basis[i],derivation2(Rwedge2basis[i],tensor))\n",
    "#        result-=subtr\n",
    "#        print(subtr.display())\n",
    "#    return result"
   ]
  },
  {
   "cell_type": "code",
   "execution_count": 7,
   "id": "directed-carol",
   "metadata": {},
   "outputs": [
    {
     "data": {
      "text/html": [
       "<html><script type=\"math/tex; mode=display\">\\newcommand{\\Bold}[1]{\\mathbf{#1}}-16 e_{0}\\otimes e^{1} -96 e_{0}\\otimes e^{2} + 16 e_{1}\\otimes e^{0} + 32 e_{2}\\otimes e^{0}</script></html>"
      ],
      "text/latex": [
       "\\begin{math}\n",
       "\\newcommand{\\Bold}[1]{\\mathbf{#1}}-16 e_{0}\\otimes e^{1} -96 e_{0}\\otimes e^{2} + 16 e_{1}\\otimes e^{0} + 32 e_{2}\\otimes e^{0}\n",
       "\\end{math}"
      ],
      "text/plain": [
       "-16 e_0*e^1 - 96 e_0*e^2 + 16 e_1*e^0 + 32 e_2*e^0"
      ]
     },
     "execution_count": 7,
     "metadata": {},
     "output_type": "execute_result"
    }
   ],
   "source": [
    "A=matrix.identity(QQ,dimLam2)\n",
    "A[0,1]=2\n",
    "Rtransform(A,sobasis)[0].display()"
   ]
  },
  {
   "cell_type": "code",
   "execution_count": 8,
   "id": "liberal-crack",
   "metadata": {},
   "outputs": [
    {
     "data": {
      "text/html": [
       "<html><script type=\"math/tex; mode=display\">\\newcommand{\\Bold}[1]{\\mathbf{#1}}-48 e_{1}\\otimes e_{1}\\otimes e^{1} + 48 e_{1}\\otimes e_{2}\\otimes e^{2} + 16 e_{2}\\otimes e_{2}\\otimes e^{1}</script></html>"
      ],
      "text/latex": [
       "\\begin{math}\n",
       "\\newcommand{\\Bold}[1]{\\mathbf{#1}}-48 e_{1}\\otimes e_{1}\\otimes e^{1} + 48 e_{1}\\otimes e_{2}\\otimes e^{2} + 16 e_{2}\\otimes e_{2}\\otimes e^{1}\n",
       "\\end{math}"
      ],
      "text/plain": [
       "-48 e_1*e_1*e^1 + 48 e_1*e_2*e^2 + 16 e_2*e_2*e^1"
      ]
     },
     "execution_count": 8,
     "metadata": {},
     "output_type": "execute_result"
    }
   ],
   "source": [
    "test=e[1]*e[2]*ed[1]\n",
    "derivation(a,test).display()"
   ]
  },
  {
   "cell_type": "code",
   "execution_count": 189,
   "id": "accurate-massachusetts",
   "metadata": {},
   "outputs": [
    {
     "name": "stdout",
     "output_type": "stream",
     "text": [
      "i= 0  | j= 1\n",
      "i= 0  | j= 2\n",
      "i= 0  | j= 3\n",
      "i= 0  | j= 4\n",
      "i= 0  | j= 5\n",
      "i= 0  | j= 6\n",
      "i= 0  | j= 7\n",
      "i= 0  | j= 8\n",
      "i= 0  | j= 9\n",
      "i= 1  | j= 2\n",
      "i= 1  | j= 3\n",
      "i= 1  | j= 4\n",
      "i= 1  | j= 5\n",
      "i= 1  | j= 6\n",
      "i= 1  | j= 7\n",
      "i= 1  | j= 8\n",
      "i= 1  | j= 9\n",
      "i= 2  | j= 3\n",
      "i= 2  | j= 4\n",
      "i= 2  | j= 5\n",
      "i= 2  | j= 6\n",
      "i= 2  | j= 7\n",
      "i= 2  | j= 8\n",
      "i= 2  | j= 9\n",
      "i= 3  | j= 4\n",
      "i= 3  | j= 5\n",
      "i= 3  | j= 6\n",
      "i= 3  | j= 7\n",
      "i= 3  | j= 8\n",
      "i= 3  | j= 9\n",
      "i= 4  | j= 5\n",
      "i= 4  | j= 6\n",
      "i= 4  | j= 7\n",
      "i= 4  | j= 8\n",
      "i= 4  | j= 9\n",
      "i= 5  | j= 6\n",
      "i= 5  | j= 7\n",
      "i= 5  | j= 8\n",
      "i= 5  | j= 9\n",
      "i= 6  | j= 7\n",
      "i= 6  | j= 8\n",
      "i= 6  | j= 9\n",
      "i= 7  | j= 8\n",
      "i= 7  | j= 9\n",
      "i= 8  | j= 9\n"
     ]
    },
    {
     "data": {
      "text/html": [
       "<html><script type=\"math/tex; mode=display\">\\newcommand{\\Bold}[1]{\\mathbf{#1}}\\left\\{\\left(0, 0\\right) : \\frac{1}{8}, \\left(0, 39\\right) : \\frac{1}{8}, \\left(0, 44\\right) : -\\frac{1}{8}, \\left(1, 1\\right) : \\frac{11}{24}, \\left(1, 10\\right) : -\\frac{1}{4}, \\left(1, 31\\right) : -\\frac{1}{16}, \\left(1, 36\\right) : -\\frac{1}{16}, \\left(2, 2\\right) : \\frac{11}{24}, \\left(2, 9\\right) : \\frac{1}{4}, \\left(2, 32\\right) : -\\frac{1}{16}, \\left(2, 35\\right) : \\frac{1}{16}, \\left(3, 3\\right) : \\frac{11}{24}, \\left(3, 20\\right) : \\frac{1}{16}, \\left(3, 27\\right) : \\frac{1}{16}, \\left(4, 4\\right) : \\frac{11}{24}, \\left(4, 21\\right) : \\frac{1}{16}, \\left(4, 26\\right) : -\\frac{1}{16}, \\left(5, 5\\right) : \\frac{11}{16}, \\left(5, 14\\right) : \\frac{1}{16}, \\left(5, 18\\right) : -\\frac{1}{24}, \\left(5, 25\\right) : \\frac{1}{24}, \\left(6, 6\\right) : \\frac{11}{16}, \\left(6, 13\\right) : -\\frac{1}{16}, \\left(6, 19\\right) : -\\frac{1}{24}, \\left(6, 24\\right) : -\\frac{1}{24}, \\left(7, 7\\right) : \\frac{13}{16}, \\left(8, 8\\right) : \\frac{13}{16}, \\left(9, 2\\right) : \\frac{1}{4}, \\left(9, 9\\right) : \\frac{11}{24}, \\left(9, 32\\right) : \\frac{1}{16}, \\left(9, 35\\right) : -\\frac{1}{16}, \\left(10, 1\\right) : -\\frac{1}{4}, \\left(10, 10\\right) : \\frac{11}{24}, \\left(10, 31\\right) : -\\frac{1}{16}, \\left(10, 36\\right) : -\\frac{1}{16}, \\left(11, 11\\right) : \\frac{11}{24}, \\left(11, 21\\right) : -\\frac{1}{16}, \\left(11, 26\\right) : \\frac{1}{16}, \\left(12, 12\\right) : \\frac{11}{24}, \\left(12, 20\\right) : \\frac{1}{16}, \\left(12, 27\\right) : \\frac{1}{16}, \\left(13, 6\\right) : -\\frac{1}{16}, \\left(13, 13\\right) : \\frac{11}{16}, \\left(13, 19\\right) : -\\frac{1}{24}, \\left(13, 24\\right) : -\\frac{1}{24}, \\left(14, 5\\right) : \\frac{1}{16}, \\left(14, 14\\right) : \\frac{11}{16}, \\left(14, 18\\right) : \\frac{1}{24}, \\left(14, 25\\right) : -\\frac{1}{24}, \\left(15, 15\\right) : \\frac{13}{16}, \\left(16, 16\\right) : \\frac{13}{16}, \\left(17, 17\\right) : \\frac{1}{8}, \\left(17, 30\\right) : \\frac{1}{8}, \\left(17, 44\\right) : -\\frac{3}{8}, \\left(18, 5\\right) : -\\frac{3}{8}, \\left(18, 14\\right) : \\frac{3}{8}, \\left(18, 18\\right) : \\frac{17}{48}, \\left(18, 25\\right) : -\\frac{13}{48}, \\left(19, 6\\right) : -\\frac{3}{8}, \\left(19, 13\\right) : -\\frac{3}{8}, \\left(19, 19\\right) : \\frac{17}{48}, \\left(19, 24\\right) : \\frac{13}{48}, \\left(20, 3\\right) : \\frac{1}{16}, \\left(20, 12\\right) : \\frac{1}{16}, \\left(20, 20\\right) : \\frac{11}{24}, \\left(21, 4\\right) : \\frac{1}{16}, \\left(21, 11\\right) : -\\frac{1}{16}, \\left(21, 21\\right) : \\frac{11}{24}, \\left(22, 22\\right) : \\frac{31}{48}, \\left(23, 23\\right) : \\frac{31}{48}, \\left(24, 6\\right) : -\\frac{3}{8}, \\left(24, 13\\right) : -\\frac{3}{8}, \\left(24, 19\\right) : \\frac{13}{48}, \\left(24, 24\\right) : \\frac{17}{48}, \\left(25, 5\\right) : \\frac{3}{8}, \\left(25, 14\\right) : -\\frac{3}{8}, \\left(25, 18\\right) : -\\frac{13}{48}, \\left(25, 25\\right) : \\frac{17}{48}, \\left(26, 4\\right) : -\\frac{1}{16}, \\left(26, 11\\right) : \\frac{1}{16}, \\left(26, 26\\right) : \\frac{11}{24}, \\left(27, 3\\right) : \\frac{1}{16}, \\left(27, 12\\right) : \\frac{1}{16}, \\left(27, 27\\right) : \\frac{11}{24}, \\left(28, 28\\right) : \\frac{31}{48}, \\left(29, 29\\right) : \\frac{31}{48}, \\left(30, 17\\right) : \\frac{1}{8}, \\left(30, 30\\right) : \\frac{1}{8}, \\left(30, 44\\right) : -\\frac{3}{8}, \\left(31, 1\\right) : -\\frac{1}{16}, \\left(31, 10\\right) : -\\frac{1}{16}, \\left(31, 31\\right) : \\frac{11}{24}, \\left(31, 36\\right) : -\\frac{1}{4}, \\left(32, 2\\right) : -\\frac{1}{16}, \\left(32, 9\\right) : \\frac{1}{16}, \\left(32, 32\\right) : \\frac{11}{24}, \\left(32, 35\\right) : \\frac{1}{4}, \\left(33, 33\\right) : \\frac{31}{48}, \\left(34, 34\\right) : \\frac{31}{48}, \\left(35, 2\\right) : \\frac{1}{16}, \\left(35, 9\\right) : -\\frac{1}{16}, \\left(35, 32\\right) : \\frac{1}{4}, \\left(35, 35\\right) : \\frac{11}{24}, \\left(36, 1\\right) : -\\frac{1}{16}, \\left(36, 10\\right) : -\\frac{1}{16}, \\left(36, 31\\right) : -\\frac{1}{4}, \\left(36, 36\\right) : \\frac{11}{24}, \\left(37, 37\\right) : \\frac{31}{48}, \\left(38, 38\\right) : \\frac{31}{48}, \\left(39, 0\\right) : \\frac{1}{8}, \\left(39, 39\\right) : \\frac{1}{8}, \\left(39, 44\\right) : -\\frac{1}{8}, \\left(40, 40\\right) : \\frac{13}{16}, \\left(41, 41\\right) : \\frac{13}{16}, \\left(42, 42\\right) : \\frac{13}{16}, \\left(43, 43\\right) : \\frac{13}{16}, \\left(44, 0\\right) : -\\frac{1}{2}, \\left(44, 17\\right) : -\\frac{1}{6}, \\left(44, 30\\right) : -\\frac{1}{6}, \\left(44, 39\\right) : -\\frac{1}{2}, \\left(44, 44\\right) : 1\\right\\}</script></html>"
      ],
      "text/latex": [
       "\\begin{math}\n",
       "\\newcommand{\\Bold}[1]{\\mathbf{#1}}\\left\\{\\left(0, 0\\right) : \\frac{1}{8}, \\left(0, 39\\right) : \\frac{1}{8}, \\left(0, 44\\right) : -\\frac{1}{8}, \\left(1, 1\\right) : \\frac{11}{24}, \\left(1, 10\\right) : -\\frac{1}{4}, \\left(1, 31\\right) : -\\frac{1}{16}, \\left(1, 36\\right) : -\\frac{1}{16}, \\left(2, 2\\right) : \\frac{11}{24}, \\left(2, 9\\right) : \\frac{1}{4}, \\left(2, 32\\right) : -\\frac{1}{16}, \\left(2, 35\\right) : \\frac{1}{16}, \\left(3, 3\\right) : \\frac{11}{24}, \\left(3, 20\\right) : \\frac{1}{16}, \\left(3, 27\\right) : \\frac{1}{16}, \\left(4, 4\\right) : \\frac{11}{24}, \\left(4, 21\\right) : \\frac{1}{16}, \\left(4, 26\\right) : -\\frac{1}{16}, \\left(5, 5\\right) : \\frac{11}{16}, \\left(5, 14\\right) : \\frac{1}{16}, \\left(5, 18\\right) : -\\frac{1}{24}, \\left(5, 25\\right) : \\frac{1}{24}, \\left(6, 6\\right) : \\frac{11}{16}, \\left(6, 13\\right) : -\\frac{1}{16}, \\left(6, 19\\right) : -\\frac{1}{24}, \\left(6, 24\\right) : -\\frac{1}{24}, \\left(7, 7\\right) : \\frac{13}{16}, \\left(8, 8\\right) : \\frac{13}{16}, \\left(9, 2\\right) : \\frac{1}{4}, \\left(9, 9\\right) : \\frac{11}{24}, \\left(9, 32\\right) : \\frac{1}{16}, \\left(9, 35\\right) : -\\frac{1}{16}, \\left(10, 1\\right) : -\\frac{1}{4}, \\left(10, 10\\right) : \\frac{11}{24}, \\left(10, 31\\right) : -\\frac{1}{16}, \\left(10, 36\\right) : -\\frac{1}{16}, \\left(11, 11\\right) : \\frac{11}{24}, \\left(11, 21\\right) : -\\frac{1}{16}, \\left(11, 26\\right) : \\frac{1}{16}, \\left(12, 12\\right) : \\frac{11}{24}, \\left(12, 20\\right) : \\frac{1}{16}, \\left(12, 27\\right) : \\frac{1}{16}, \\left(13, 6\\right) : -\\frac{1}{16}, \\left(13, 13\\right) : \\frac{11}{16}, \\left(13, 19\\right) : -\\frac{1}{24}, \\left(13, 24\\right) : -\\frac{1}{24}, \\left(14, 5\\right) : \\frac{1}{16}, \\left(14, 14\\right) : \\frac{11}{16}, \\left(14, 18\\right) : \\frac{1}{24}, \\left(14, 25\\right) : -\\frac{1}{24}, \\left(15, 15\\right) : \\frac{13}{16}, \\left(16, 16\\right) : \\frac{13}{16}, \\left(17, 17\\right) : \\frac{1}{8}, \\left(17, 30\\right) : \\frac{1}{8}, \\left(17, 44\\right) : -\\frac{3}{8}, \\left(18, 5\\right) : -\\frac{3}{8}, \\left(18, 14\\right) : \\frac{3}{8}, \\left(18, 18\\right) : \\frac{17}{48}, \\left(18, 25\\right) : -\\frac{13}{48}, \\left(19, 6\\right) : -\\frac{3}{8}, \\left(19, 13\\right) : -\\frac{3}{8}, \\left(19, 19\\right) : \\frac{17}{48}, \\left(19, 24\\right) : \\frac{13}{48}, \\left(20, 3\\right) : \\frac{1}{16}, \\left(20, 12\\right) : \\frac{1}{16}, \\left(20, 20\\right) : \\frac{11}{24}, \\left(21, 4\\right) : \\frac{1}{16}, \\left(21, 11\\right) : -\\frac{1}{16}, \\left(21, 21\\right) : \\frac{11}{24}, \\left(22, 22\\right) : \\frac{31}{48}, \\left(23, 23\\right) : \\frac{31}{48}, \\left(24, 6\\right) : -\\frac{3}{8}, \\left(24, 13\\right) : -\\frac{3}{8}, \\left(24, 19\\right) : \\frac{13}{48}, \\left(24, 24\\right) : \\frac{17}{48}, \\left(25, 5\\right) : \\frac{3}{8}, \\left(25, 14\\right) : -\\frac{3}{8}, \\left(25, 18\\right) : -\\frac{13}{48}, \\left(25, 25\\right) : \\frac{17}{48}, \\left(26, 4\\right) : -\\frac{1}{16}, \\left(26, 11\\right) : \\frac{1}{16}, \\left(26, 26\\right) : \\frac{11}{24}, \\left(27, 3\\right) : \\frac{1}{16}, \\left(27, 12\\right) : \\frac{1}{16}, \\left(27, 27\\right) : \\frac{11}{24}, \\left(28, 28\\right) : \\frac{31}{48}, \\left(29, 29\\right) : \\frac{31}{48}, \\left(30, 17\\right) : \\frac{1}{8}, \\left(30, 30\\right) : \\frac{1}{8}, \\left(30, 44\\right) : -\\frac{3}{8}, \\left(31, 1\\right) : -\\frac{1}{16}, \\left(31, 10\\right) : -\\frac{1}{16}, \\left(31, 31\\right) : \\frac{11}{24}, \\left(31, 36\\right) : -\\frac{1}{4}, \\left(32, 2\\right) : -\\frac{1}{16}, \\left(32, 9\\right) : \\frac{1}{16}, \\left(32, 32\\right) : \\frac{11}{24}, \\left(32, 35\\right) : \\frac{1}{4}, \\left(33, 33\\right) : \\frac{31}{48}, \\left(34, 34\\right) : \\frac{31}{48}, \\left(35, 2\\right) : \\frac{1}{16}, \\left(35, 9\\right) : -\\frac{1}{16}, \\left(35, 32\\right) : \\frac{1}{4}, \\left(35, 35\\right) : \\frac{11}{24}, \\left(36, 1\\right) : -\\frac{1}{16}, \\left(36, 10\\right) : -\\frac{1}{16}, \\left(36, 31\\right) : -\\frac{1}{4}, \\left(36, 36\\right) : \\frac{11}{24}, \\left(37, 37\\right) : \\frac{31}{48}, \\left(38, 38\\right) : \\frac{31}{48}, \\left(39, 0\\right) : \\frac{1}{8}, \\left(39, 39\\right) : \\frac{1}{8}, \\left(39, 44\\right) : -\\frac{1}{8}, \\left(40, 40\\right) : \\frac{13}{16}, \\left(41, 41\\right) : \\frac{13}{16}, \\left(42, 42\\right) : \\frac{13}{16}, \\left(43, 43\\right) : \\frac{13}{16}, \\left(44, 0\\right) : -\\frac{1}{2}, \\left(44, 17\\right) : -\\frac{1}{6}, \\left(44, 30\\right) : -\\frac{1}{6}, \\left(44, 39\\right) : -\\frac{1}{2}, \\left(44, 44\\right) : 1\\right\\}\n",
       "\\end{math}"
      ],
      "text/plain": [
       "{(0, 0): 1/8,\n",
       " (0, 39): 1/8,\n",
       " (0, 44): -1/8,\n",
       " (1, 1): 11/24,\n",
       " (1, 10): -1/4,\n",
       " (1, 31): -1/16,\n",
       " (1, 36): -1/16,\n",
       " (2, 2): 11/24,\n",
       " (2, 9): 1/4,\n",
       " (2, 32): -1/16,\n",
       " (2, 35): 1/16,\n",
       " (3, 3): 11/24,\n",
       " (3, 20): 1/16,\n",
       " (3, 27): 1/16,\n",
       " (4, 4): 11/24,\n",
       " (4, 21): 1/16,\n",
       " (4, 26): -1/16,\n",
       " (5, 5): 11/16,\n",
       " (5, 14): 1/16,\n",
       " (5, 18): -1/24,\n",
       " (5, 25): 1/24,\n",
       " (6, 6): 11/16,\n",
       " (6, 13): -1/16,\n",
       " (6, 19): -1/24,\n",
       " (6, 24): -1/24,\n",
       " (7, 7): 13/16,\n",
       " (8, 8): 13/16,\n",
       " (9, 2): 1/4,\n",
       " (9, 9): 11/24,\n",
       " (9, 32): 1/16,\n",
       " (9, 35): -1/16,\n",
       " (10, 1): -1/4,\n",
       " (10, 10): 11/24,\n",
       " (10, 31): -1/16,\n",
       " (10, 36): -1/16,\n",
       " (11, 11): 11/24,\n",
       " (11, 21): -1/16,\n",
       " (11, 26): 1/16,\n",
       " (12, 12): 11/24,\n",
       " (12, 20): 1/16,\n",
       " (12, 27): 1/16,\n",
       " (13, 6): -1/16,\n",
       " (13, 13): 11/16,\n",
       " (13, 19): -1/24,\n",
       " (13, 24): -1/24,\n",
       " (14, 5): 1/16,\n",
       " (14, 14): 11/16,\n",
       " (14, 18): 1/24,\n",
       " (14, 25): -1/24,\n",
       " (15, 15): 13/16,\n",
       " (16, 16): 13/16,\n",
       " (17, 17): 1/8,\n",
       " (17, 30): 1/8,\n",
       " (17, 44): -3/8,\n",
       " (18, 5): -3/8,\n",
       " (18, 14): 3/8,\n",
       " (18, 18): 17/48,\n",
       " (18, 25): -13/48,\n",
       " (19, 6): -3/8,\n",
       " (19, 13): -3/8,\n",
       " (19, 19): 17/48,\n",
       " (19, 24): 13/48,\n",
       " (20, 3): 1/16,\n",
       " (20, 12): 1/16,\n",
       " (20, 20): 11/24,\n",
       " (21, 4): 1/16,\n",
       " (21, 11): -1/16,\n",
       " (21, 21): 11/24,\n",
       " (22, 22): 31/48,\n",
       " (23, 23): 31/48,\n",
       " (24, 6): -3/8,\n",
       " (24, 13): -3/8,\n",
       " (24, 19): 13/48,\n",
       " (24, 24): 17/48,\n",
       " (25, 5): 3/8,\n",
       " (25, 14): -3/8,\n",
       " (25, 18): -13/48,\n",
       " (25, 25): 17/48,\n",
       " (26, 4): -1/16,\n",
       " (26, 11): 1/16,\n",
       " (26, 26): 11/24,\n",
       " (27, 3): 1/16,\n",
       " (27, 12): 1/16,\n",
       " (27, 27): 11/24,\n",
       " (28, 28): 31/48,\n",
       " (29, 29): 31/48,\n",
       " (30, 17): 1/8,\n",
       " (30, 30): 1/8,\n",
       " (30, 44): -3/8,\n",
       " (31, 1): -1/16,\n",
       " (31, 10): -1/16,\n",
       " (31, 31): 11/24,\n",
       " (31, 36): -1/4,\n",
       " (32, 2): -1/16,\n",
       " (32, 9): 1/16,\n",
       " (32, 32): 11/24,\n",
       " (32, 35): 1/4,\n",
       " (33, 33): 31/48,\n",
       " (34, 34): 31/48,\n",
       " (35, 2): 1/16,\n",
       " (35, 9): -1/16,\n",
       " (35, 32): 1/4,\n",
       " (35, 35): 11/24,\n",
       " (36, 1): -1/16,\n",
       " (36, 10): -1/16,\n",
       " (36, 31): -1/4,\n",
       " (36, 36): 11/24,\n",
       " (37, 37): 31/48,\n",
       " (38, 38): 31/48,\n",
       " (39, 0): 1/8,\n",
       " (39, 39): 1/8,\n",
       " (39, 44): -1/8,\n",
       " (40, 40): 13/16,\n",
       " (41, 41): 13/16,\n",
       " (42, 42): 13/16,\n",
       " (43, 43): 13/16,\n",
       " (44, 0): -1/2,\n",
       " (44, 17): -1/6,\n",
       " (44, 30): -1/6,\n",
       " (44, 39): -1/2,\n",
       " (44, 44): 1}"
      ]
     },
     "execution_count": 189,
     "metadata": {},
     "output_type": "execute_result"
    }
   ],
   "source": [
    "qRL2=matrix(QQ,dimLam2)\n",
    "for i in range(0,dim):\n",
    "    for j in range(i+1,dim):\n",
    "        ijindex=(dim-1)*i-i*(i+1)/2+j-1\n",
    "        qRij=qR2(Rsparse,e[i].wedge(e[j]))\n",
    "        print(\"i=\",i,\" | j=\",j)\n",
    "        for k in range(0,dim):\n",
    "            for l in range(k+1,dim):\n",
    "                klindex=(dim-1)*k-k*(k+1)/2+l-1\n",
    "                qRL2[ijindex,klindex]=qRij.comp()[k,l]\n",
    "qRL2sparse=qRL2.sparse_matrix()\n",
    "qRL2sparse.dict()"
   ]
  },
  {
   "cell_type": "code",
   "execution_count": 103,
   "id": "broke-projector",
   "metadata": {},
   "outputs": [],
   "source": [
    "#def inprod(x,y):\n",
    "#    covrank=x.tensor_type()[0]\n",
    "#    contrank=x.tensor_type()[1]\n",
    "#    rank=covrank+contrank\n",
    "#    #x and y must have same type\n",
    "#    result=x*y\n",
    "#    for i in range(0,covrank):\n",
    "#        result=###\n",
    "#    for j in range(0,contrank):\n",
    "#        result=###\n",
    "#    return result\n",
    "#inprod(test,test)"
   ]
  },
  {
   "cell_type": "code",
   "execution_count": 190,
   "id": "missing-fairy",
   "metadata": {},
   "outputs": [
    {
     "data": {
      "text/html": [
       "<html><script type=\"math/tex; mode=display\">\\newcommand{\\Bold}[1]{\\mathbf{#1}}\\left[\\frac{5}{4}, \\frac{1}{4}, \\frac{7}{8}, \\frac{7}{8}, \\frac{3}{4}, \\frac{3}{4}, \\frac{7}{12}, \\frac{7}{12}, \\frac{3}{8}, \\frac{3}{8}, 0, 0, 0, \\frac{17}{24}, \\frac{17}{24}, \\frac{17}{24}, \\frac{17}{24}, \\frac{11}{24}, \\frac{11}{24}, \\frac{11}{24}, \\frac{11}{24}, \\frac{1}{3}, \\frac{1}{3}, \\frac{1}{3}, \\frac{1}{3}, \\frac{1}{12}, \\frac{1}{12}, \\frac{1}{12}, \\frac{1}{12}, \\frac{13}{16}, \\frac{13}{16}, \\frac{13}{16}, \\frac{13}{16}, \\frac{13}{16}, \\frac{13}{16}, \\frac{13}{16}, \\frac{13}{16}, \\frac{31}{48}, \\frac{31}{48}, \\frac{31}{48}, \\frac{31}{48}, \\frac{31}{48}, \\frac{31}{48}, \\frac{31}{48}, \\frac{31}{48}\\right]</script></html>"
      ],
      "text/latex": [
       "\\begin{math}\n",
       "\\newcommand{\\Bold}[1]{\\mathbf{#1}}\\left[\\frac{5}{4}, \\frac{1}{4}, \\frac{7}{8}, \\frac{7}{8}, \\frac{3}{4}, \\frac{3}{4}, \\frac{7}{12}, \\frac{7}{12}, \\frac{3}{8}, \\frac{3}{8}, 0, 0, 0, \\frac{17}{24}, \\frac{17}{24}, \\frac{17}{24}, \\frac{17}{24}, \\frac{11}{24}, \\frac{11}{24}, \\frac{11}{24}, \\frac{11}{24}, \\frac{1}{3}, \\frac{1}{3}, \\frac{1}{3}, \\frac{1}{3}, \\frac{1}{12}, \\frac{1}{12}, \\frac{1}{12}, \\frac{1}{12}, \\frac{13}{16}, \\frac{13}{16}, \\frac{13}{16}, \\frac{13}{16}, \\frac{13}{16}, \\frac{13}{16}, \\frac{13}{16}, \\frac{13}{16}, \\frac{31}{48}, \\frac{31}{48}, \\frac{31}{48}, \\frac{31}{48}, \\frac{31}{48}, \\frac{31}{48}, \\frac{31}{48}, \\frac{31}{48}\\right]\n",
       "\\end{math}"
      ],
      "text/plain": [
       "[5/4, 1/4, 7/8, 7/8, 3/4, 3/4, 7/12, 7/12, 3/8, 3/8, 0, 0, 0, 17/24, 17/24, 17/24, 17/24, 11/24, 11/24, 11/24, 11/24, 1/3, 1/3, 1/3, 1/3, 1/12, 1/12, 1/12, 1/12, 13/16, 13/16, 13/16, 13/16, 13/16, 13/16, 13/16, 13/16, 31/48, 31/48, 31/48, 31/48, 31/48, 31/48, 31/48, 31/48]"
      ]
     },
     "execution_count": 190,
     "metadata": {},
     "output_type": "execute_result"
    }
   ],
   "source": [
    "qRL2sparse.eigenvalues()"
   ]
  },
  {
   "cell_type": "code",
   "execution_count": 9,
   "id": "through-founder",
   "metadata": {},
   "outputs": [
    {
     "data": {
      "text/html": [
       "<html><script type=\"math/tex; mode=display\">\\newcommand{\\Bold}[1]{\\mathbf{#1}}16 e_{0}\\otimes e_{2} -16 e_{2}\\otimes e_{0}</script></html>"
      ],
      "text/latex": [
       "\\begin{math}\n",
       "\\newcommand{\\Bold}[1]{\\mathbf{#1}}16 e_{0}\\otimes e_{2} -16 e_{2}\\otimes e_{0}\n",
       "\\end{math}"
      ],
      "text/plain": [
       "16 e_0*e_2 - 16 e_2*e_0"
      ]
     },
     "execution_count": 9,
     "metadata": {},
     "output_type": "execute_result"
    }
   ],
   "source": [
    "derivation2(a,e[0].wedge(e[1])).display()"
   ]
  },
  {
   "cell_type": "code",
   "execution_count": 10,
   "id": "expressed-looking",
   "metadata": {},
   "outputs": [
    {
     "data": {
      "text/html": [
       "<html><script type=\"math/tex; mode=display\">\\newcommand{\\Bold}[1]{\\mathbf{#1}}e_{2}\\otimes e_{1}\\otimes e^{1}</script></html>"
      ],
      "text/latex": [
       "\\begin{math}\n",
       "\\newcommand{\\Bold}[1]{\\mathbf{#1}}e_{2}\\otimes e_{1}\\otimes e^{1}\n",
       "\\end{math}"
      ],
      "text/plain": [
       "e_2*e_1*e^1"
      ]
     },
     "execution_count": 10,
     "metadata": {},
     "output_type": "execute_result"
    }
   ],
   "source": [
    "test=e[1]*e[2]*ed[1]\n",
    "test.set_name('t')\n",
    "from sage.tensor.modules.tensor_with_indices import TensorWithIndices\n",
    "T=TensorWithIndices(test,'ij_k')\n",
    "U=T.permute_indices([1,0])\n",
    "#test['ij_k']+test['ji_k']\n",
    "U._tensor.display()"
   ]
  },
  {
   "cell_type": "code",
   "execution_count": 62,
   "id": "current-oliver",
   "metadata": {},
   "outputs": [
    {
     "data": {
      "text/html": [
       "<html><script type=\"math/tex; mode=display\">\\newcommand{\\Bold}[1]{\\mathbf{#1}}-48 e_{3}\\otimes e_{1}\\otimes e_{1} + 16 e_{3}\\otimes e_{2}\\otimes e_{2}</script></html>"
      ],
      "text/latex": [
       "\\begin{math}\n",
       "\\newcommand{\\Bold}[1]{\\mathbf{#1}}-48 e_{3}\\otimes e_{1}\\otimes e_{1} + 16 e_{3}\\otimes e_{2}\\otimes e_{2}\n",
       "\\end{math}"
      ],
      "text/plain": [
       "-48 e_3*e_1*e_1 + 16 e_3*e_2*e_2"
      ]
     },
     "execution_count": 62,
     "metadata": {},
     "output_type": "execute_result"
    }
   ],
   "source": [
    "test2=e[3]*e[1]*e[2]\n",
    "derivation(a,test2).display()"
   ]
  },
  {
   "cell_type": "code",
   "execution_count": 55,
   "id": "finnish-simon",
   "metadata": {},
   "outputs": [
    {
     "data": {
      "text/html": [
       "<html><script type=\"math/tex; mode=display\">\\newcommand{\\Bold}[1]{\\mathbf{#1}}-48 e_{3}\\otimes e_{1}\\otimes e_{2}\\otimes e^{3}\\otimes e^{2}</script></html>"
      ],
      "text/latex": [
       "\\begin{math}\n",
       "\\newcommand{\\Bold}[1]{\\mathbf{#1}}-48 e_{3}\\otimes e_{1}\\otimes e_{2}\\otimes e^{3}\\otimes e^{2}\n",
       "\\end{math}"
      ],
      "text/plain": [
       "-48 e_3*e_1*e_2*e^3*e^2"
      ]
     },
     "execution_count": 55,
     "metadata": {},
     "output_type": "execute_result"
    }
   ],
   "source": [
    "test3=e[3]*e[1]*e[2]*ed[3]*ed[1]*ed[2]*ed[3]\n",
    "so(a).contract(0,test3,4)['..._..'].permute_indices([0,1,2,4,3])._tensor.display()\n",
    "#0,1,...,covrank-1,covrank+1,...,covrank+contrank,covrank"
   ]
  },
  {
   "cell_type": "code",
   "execution_count": 61,
   "id": "fancy-laundry",
   "metadata": {},
   "outputs": [
    {
     "data": {
      "text/html": [
       "<html><script type=\"math/tex; mode=display\">\\newcommand{\\Bold}[1]{\\mathbf{#1}}-48 e_{3}\\otimes e_{1}\\otimes e_{1}\\otimes e^{3}\\otimes e^{1} + 48 e_{3}\\otimes e_{1}\\otimes e_{2}\\otimes e^{3}\\otimes e^{2} + 16 e_{3}\\otimes e_{2}\\otimes e_{2}\\otimes e^{3}\\otimes e^{1}</script></html>"
      ],
      "text/latex": [
       "\\begin{math}\n",
       "\\newcommand{\\Bold}[1]{\\mathbf{#1}}-48 e_{3}\\otimes e_{1}\\otimes e_{1}\\otimes e^{3}\\otimes e^{1} + 48 e_{3}\\otimes e_{1}\\otimes e_{2}\\otimes e^{3}\\otimes e^{2} + 16 e_{3}\\otimes e_{2}\\otimes e_{2}\\otimes e^{3}\\otimes e^{1}\n",
       "\\end{math}"
      ],
      "text/plain": [
       "-48 e_3*e_1*e_1*e^3*e^1 + 48 e_3*e_1*e_2*e^3*e^2 + 16 e_3*e_2*e_2*e^3*e^1"
      ]
     },
     "execution_count": 61,
     "metadata": {},
     "output_type": "execute_result"
    }
   ],
   "source": [
    "test3=e[3]*e[1]*e[2]*ed[3]*ed[1]\n",
    "derivation(a,test3).display()"
   ]
  },
  {
   "cell_type": "code",
   "execution_count": 63,
   "id": "permanent-british",
   "metadata": {},
   "outputs": [
    {
     "data": {
      "text/html": [
       "<html><script type=\"math/tex; mode=display\">\\newcommand{\\Bold}[1]{\\mathbf{#1}}-48 e_{1}\\otimes e^{2} + 16 e_{2}\\otimes e^{1}</script></html>"
      ],
      "text/latex": [
       "\\begin{math}\n",
       "\\newcommand{\\Bold}[1]{\\mathbf{#1}}-48 e_{1}\\otimes e^{2} + 16 e_{2}\\otimes e^{1}\n",
       "\\end{math}"
      ],
      "text/plain": [
       "-48 e_1*e^2 + 16 e_2*e^1"
      ]
     },
     "execution_count": 63,
     "metadata": {},
     "output_type": "execute_result"
    }
   ],
   "source": [
    "so(a).display()"
   ]
  },
  {
   "cell_type": "code",
   "execution_count": null,
   "id": "verified-revelation",
   "metadata": {},
   "outputs": [],
   "source": []
  }
 ],
 "metadata": {
  "kernelspec": {
   "display_name": "SageMath 9.2",
   "language": "sage",
   "name": "sagemath"
  },
  "language_info": {
   "codemirror_mode": {
    "name": "ipython",
    "version": 3
   },
   "file_extension": ".py",
   "mimetype": "text/x-python",
   "name": "python",
   "nbconvert_exporter": "python",
   "pygments_lexer": "ipython3",
   "version": "3.9.2"
  }
 },
 "nbformat": 4,
 "nbformat_minor": 5
}
