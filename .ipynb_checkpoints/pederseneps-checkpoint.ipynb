{
 "cells": [
  {
   "cell_type": "code",
   "execution_count": 20,
   "id": "floral-rogers",
   "metadata": {},
   "outputs": [],
   "source": [
    "%display latex\n",
    "M=Manifold(4,'M')\n",
    "X.<rho,th,ph,ps> = M.chart(r\"rho:(0,+oo):\\rho th:(0,pi):\\theta ph:(0,2*pi):\\phi ps:(0,4*pi):\\psi\")\n",
    "dX=X.coframe()\n",
    "s1=1/2*(sin(ps)*dX[1]-sin(th)*cos(ps)*dX[2])\n",
    "s2=1/2*(-cos(ps)*dX[1]-sin(th)*sin(ps)*dX[2])\n",
    "s3=1/2*(dX[3]+cos(th)*dX[2])\n",
    "eps=var('epsilon')\n",
    "assume(eps>0)\n",
    "gtensor=(1-rho^2)^(-2)*((1+eps*rho^2)/(1+eps*rho^4)*dX[0]*dX[0]+rho^2*(1+eps*rho^2)*(s1*s1+s2*s2)+rho^2*(1+eps*rho^4)/(1+eps*rho^2)*s3*s3)\n",
    "g=M.metric('g')\n",
    "g[:]=gtensor[:]\n",
    "Weyl=g.weyl()\n",
    "Weylup=Weyl.up(g,2)\n",
    "Riem=g.riemann()\n",
    "Riemup=Riem.up(g,2)\n",
    "L2basis=[]\n",
    "for i in range(0,4):\n",
    "    for j in range(i+1,4):\n",
    "        L2basis+=[dX[i].wedge(dX[j])]\n",
    "L2basis\n",
    "L2plus=[x+x.hodge_dual(g) for x in L2basis]\n",
    "L2minus=[x-x.hodge_dual(g) for x in L2basis]\n",
    "#it suffices to take a basis of the form pr_{+-}(drho ^ dx)\n",
    "L2plus3=L2plus[0:3]\n",
    "L2minus3=L2minus[0:3]\n",
    "WL2plus3=[Weylup.contract(0,1,x,0,1) for x in L2plus3]\n",
    "WL2minus3=[Weylup.contract(0,1,x,0,1) for x in L2minus3]\n",
    "RL2plus3=[Riemup.contract(0,1,x,0,1) for x in L2plus3]\n",
    "RL2minus3=[Riemup.contract(0,1,x,0,1) for x in L2minus3]\n",
    "Rplus3list=[]\n",
    "for x in RL2plus3:\n",
    "    xcolumn=[]\n",
    "    for i in range(0,3):\n",
    "        xcolumn+=[x[0,i+1]]\n",
    "    Rplus3list+=[xcolumn]\n",
    "Rminus3list=[]\n",
    "for x in RL2minus3:\n",
    "    xcolumn=[]\n",
    "    for i in range(0,3):\n",
    "        xcolumn+=[x[0,i+1]]\n",
    "    Rminus3list+=[xcolumn]\n",
    "Wplus3list=[]\n",
    "for x in WL2plus3:\n",
    "    xcolumn=[]\n",
    "    for i in range(0,3):\n",
    "        xcolumn+=[x[0,i+1]]\n",
    "    Wplus3list+=[xcolumn]\n",
    "Wminus3list=[]\n",
    "for x in WL2minus3:\n",
    "    xcolumn=[]\n",
    "    for i in range(0,3):\n",
    "        xcolumn+=[x[0,i+1]]\n",
    "    Wminus3list+=[xcolumn]\n",
    "Wplus3matrix=matrix(Wplus3list).transpose()\n",
    "Wminus3matrix=matrix(Wminus3list).transpose()\n",
    "Rplus3matrix=matrix(Rplus3list).transpose()\n",
    "Rminus3matrix=matrix(Rminus3list).transpose()\n",
    "det=Rminus3matrix.det()"
   ]
  },
  {
   "cell_type": "code",
   "execution_count": 2,
   "id": "pregnant-mailman",
   "metadata": {},
   "outputs": [
    {
     "data": {
      "text/html": [
       "<html><script type=\"math/tex; mode=display\">\\newcommand{\\Bold}[1]{\\mathbf{#1}}-\\frac{32 \\, {\\left({\\left(2 \\, \\epsilon^{10} - 3 \\, \\epsilon^{6} + 2 \\, \\epsilon^{4}\\right)} {\\rho}^{23} + 2 \\, {\\left(10 \\, \\epsilon^{9} + 9 \\, \\epsilon^{6} - 6 \\, \\epsilon^{5} - 9 \\, \\epsilon^{4} + \\epsilon^{3}\\right)} {\\rho}^{21} + 9 \\, {\\left(10 \\, \\epsilon^{8} - 5 \\, \\epsilon^{6} + 8 \\, \\epsilon^{5} + 6 \\, \\epsilon^{4} - 2 \\, \\epsilon^{3}\\right)} {\\rho}^{19} + 60 \\, {\\left(4 \\, \\epsilon^{7} + \\epsilon^{6} - 3 \\, \\epsilon^{5} - \\epsilon^{4} + \\epsilon^{3}\\right)} {\\rho}^{17} + 3 \\, {\\left(125 \\, \\epsilon^{6} + 80 \\, \\epsilon^{5} - 6 \\, \\epsilon^{4} - 32 \\, \\epsilon^{3} - \\epsilon^{2}\\right)} {\\rho}^{15} + 18 \\, {\\left(\\epsilon^{6} + 18 \\, \\epsilon^{5} + 6 \\, \\epsilon^{4} + 4 \\, \\epsilon^{3} + \\epsilon^{2}\\right)} {\\rho}^{13} - 3 \\, {\\left(\\epsilon^{6} - 24 \\, \\epsilon^{5} - 106 \\, \\epsilon^{4} + 4 \\, \\epsilon^{3} + 15 \\, \\epsilon^{2}\\right)} {\\rho}^{11} - 12 \\, {\\left(\\epsilon^{5} - 3 \\, \\epsilon^{4} - 19 \\, \\epsilon^{3} - 5 \\, \\epsilon^{2}\\right)} {\\rho}^{9} + 45 \\, \\epsilon^{2} {\\rho}^{7} - 2 \\, {\\left(\\epsilon^{4} - 3 \\, \\epsilon^{3} - 9 \\, \\epsilon^{2} - 10 \\, \\epsilon\\right)} {\\rho}^{5} - {\\left(2 \\, \\epsilon^{3} + 3 \\, \\epsilon^{2} - 2\\right)} {\\rho}^{3} - {\\left({\\left(3 \\, \\epsilon^{5} - 2 \\, \\epsilon^{3}\\right)} {\\rho}^{18} - 9 \\, {\\left(2 \\, \\epsilon^{5} - \\epsilon^{4} - 2 \\, \\epsilon^{3}\\right)} {\\rho}^{16} + 9 \\, {\\left(5 \\, \\epsilon^{5} - 6 \\, \\epsilon^{4} - 7 \\, \\epsilon^{3}\\right)} {\\rho}^{14} - 3 \\, {\\left(20 \\, \\epsilon^{5} - 45 \\, \\epsilon^{4} - 38 \\, \\epsilon^{3} - \\epsilon^{2}\\right)} {\\rho}^{12} + 9 \\, {\\left(5 \\, \\epsilon^{5} - 20 \\, \\epsilon^{4} - 13 \\, \\epsilon^{3} - 2 \\, \\epsilon^{2}\\right)} {\\rho}^{10} - 9 \\, {\\left(2 \\, \\epsilon^{5} - 15 \\, \\epsilon^{4} - 8 \\, \\epsilon^{3} - 5 \\, \\epsilon^{2}\\right)} {\\rho}^{8} + 3 \\, {\\left(\\epsilon^{5} - 18 \\, \\epsilon^{4} - 11 \\, \\epsilon^{3} - 20 \\, \\epsilon^{2}\\right)} {\\rho}^{6} + 9 \\, {\\left(\\epsilon^{4} + 2 \\, \\epsilon^{3} + 5 \\, \\epsilon^{2}\\right)} {\\rho}^{4} + 2 \\, \\epsilon^{3} - 9 \\, {\\left(\\epsilon^{3} + 2 \\, \\epsilon^{2}\\right)} {\\rho}^{2} + 3 \\, \\epsilon^{2}\\right)} {\\left| \\epsilon {\\rho}^{5} + {\\rho}^{3} \\right|}\\right)}}{\\epsilon^{10} {\\rho}^{23} + 10 \\, \\epsilon^{9} {\\rho}^{21} + 45 \\, \\epsilon^{8} {\\rho}^{19} + 120 \\, \\epsilon^{7} {\\rho}^{17} + 210 \\, \\epsilon^{6} {\\rho}^{15} + 252 \\, \\epsilon^{5} {\\rho}^{13} + 210 \\, \\epsilon^{4} {\\rho}^{11} + 120 \\, \\epsilon^{3} {\\rho}^{9} + 45 \\, \\epsilon^{2} {\\rho}^{7} + 10 \\, \\epsilon {\\rho}^{5} + {\\rho}^{3}}</script></html>"
      ],
      "text/latex": [
       "\\begin{math}\n",
       "\\newcommand{\\Bold}[1]{\\mathbf{#1}}-\\frac{32 \\, {\\left({\\left(2 \\, \\epsilon^{10} - 3 \\, \\epsilon^{6} + 2 \\, \\epsilon^{4}\\right)} {\\rho}^{23} + 2 \\, {\\left(10 \\, \\epsilon^{9} + 9 \\, \\epsilon^{6} - 6 \\, \\epsilon^{5} - 9 \\, \\epsilon^{4} + \\epsilon^{3}\\right)} {\\rho}^{21} + 9 \\, {\\left(10 \\, \\epsilon^{8} - 5 \\, \\epsilon^{6} + 8 \\, \\epsilon^{5} + 6 \\, \\epsilon^{4} - 2 \\, \\epsilon^{3}\\right)} {\\rho}^{19} + 60 \\, {\\left(4 \\, \\epsilon^{7} + \\epsilon^{6} - 3 \\, \\epsilon^{5} - \\epsilon^{4} + \\epsilon^{3}\\right)} {\\rho}^{17} + 3 \\, {\\left(125 \\, \\epsilon^{6} + 80 \\, \\epsilon^{5} - 6 \\, \\epsilon^{4} - 32 \\, \\epsilon^{3} - \\epsilon^{2}\\right)} {\\rho}^{15} + 18 \\, {\\left(\\epsilon^{6} + 18 \\, \\epsilon^{5} + 6 \\, \\epsilon^{4} + 4 \\, \\epsilon^{3} + \\epsilon^{2}\\right)} {\\rho}^{13} - 3 \\, {\\left(\\epsilon^{6} - 24 \\, \\epsilon^{5} - 106 \\, \\epsilon^{4} + 4 \\, \\epsilon^{3} + 15 \\, \\epsilon^{2}\\right)} {\\rho}^{11} - 12 \\, {\\left(\\epsilon^{5} - 3 \\, \\epsilon^{4} - 19 \\, \\epsilon^{3} - 5 \\, \\epsilon^{2}\\right)} {\\rho}^{9} + 45 \\, \\epsilon^{2} {\\rho}^{7} - 2 \\, {\\left(\\epsilon^{4} - 3 \\, \\epsilon^{3} - 9 \\, \\epsilon^{2} - 10 \\, \\epsilon\\right)} {\\rho}^{5} - {\\left(2 \\, \\epsilon^{3} + 3 \\, \\epsilon^{2} - 2\\right)} {\\rho}^{3} - {\\left({\\left(3 \\, \\epsilon^{5} - 2 \\, \\epsilon^{3}\\right)} {\\rho}^{18} - 9 \\, {\\left(2 \\, \\epsilon^{5} - \\epsilon^{4} - 2 \\, \\epsilon^{3}\\right)} {\\rho}^{16} + 9 \\, {\\left(5 \\, \\epsilon^{5} - 6 \\, \\epsilon^{4} - 7 \\, \\epsilon^{3}\\right)} {\\rho}^{14} - 3 \\, {\\left(20 \\, \\epsilon^{5} - 45 \\, \\epsilon^{4} - 38 \\, \\epsilon^{3} - \\epsilon^{2}\\right)} {\\rho}^{12} + 9 \\, {\\left(5 \\, \\epsilon^{5} - 20 \\, \\epsilon^{4} - 13 \\, \\epsilon^{3} - 2 \\, \\epsilon^{2}\\right)} {\\rho}^{10} - 9 \\, {\\left(2 \\, \\epsilon^{5} - 15 \\, \\epsilon^{4} - 8 \\, \\epsilon^{3} - 5 \\, \\epsilon^{2}\\right)} {\\rho}^{8} + 3 \\, {\\left(\\epsilon^{5} - 18 \\, \\epsilon^{4} - 11 \\, \\epsilon^{3} - 20 \\, \\epsilon^{2}\\right)} {\\rho}^{6} + 9 \\, {\\left(\\epsilon^{4} + 2 \\, \\epsilon^{3} + 5 \\, \\epsilon^{2}\\right)} {\\rho}^{4} + 2 \\, \\epsilon^{3} - 9 \\, {\\left(\\epsilon^{3} + 2 \\, \\epsilon^{2}\\right)} {\\rho}^{2} + 3 \\, \\epsilon^{2}\\right)} {\\left| \\epsilon {\\rho}^{5} + {\\rho}^{3} \\right|}\\right)}}{\\epsilon^{10} {\\rho}^{23} + 10 \\, \\epsilon^{9} {\\rho}^{21} + 45 \\, \\epsilon^{8} {\\rho}^{19} + 120 \\, \\epsilon^{7} {\\rho}^{17} + 210 \\, \\epsilon^{6} {\\rho}^{15} + 252 \\, \\epsilon^{5} {\\rho}^{13} + 210 \\, \\epsilon^{4} {\\rho}^{11} + 120 \\, \\epsilon^{3} {\\rho}^{9} + 45 \\, \\epsilon^{2} {\\rho}^{7} + 10 \\, \\epsilon {\\rho}^{5} + {\\rho}^{3}}\n",
       "\\end{math}"
      ],
      "text/plain": [
       "-32*((2*epsilon^10 - 3*epsilon^6 + 2*epsilon^4)*rho^23 + 2*(10*epsilon^9 + 9*epsilon^6 - 6*epsilon^5 - 9*epsilon^4 + epsilon^3)*rho^21 + 9*(10*epsilon^8 - 5*epsilon^6 + 8*epsilon^5 + 6*epsilon^4 - 2*epsilon^3)*rho^19 + 60*(4*epsilon^7 + epsilon^6 - 3*epsilon^5 - epsilon^4 + epsilon^3)*rho^17 + 3*(125*epsilon^6 + 80*epsilon^5 - 6*epsilon^4 - 32*epsilon^3 - epsilon^2)*rho^15 + 18*(epsilon^6 + 18*epsilon^5 + 6*epsilon^4 + 4*epsilon^3 + epsilon^2)*rho^13 - 3*(epsilon^6 - 24*epsilon^5 - 106*epsilon^4 + 4*epsilon^3 + 15*epsilon^2)*rho^11 - 12*(epsilon^5 - 3*epsilon^4 - 19*epsilon^3 - 5*epsilon^2)*rho^9 + 45*epsilon^2*rho^7 - 2*(epsilon^4 - 3*epsilon^3 - 9*epsilon^2 - 10*epsilon)*rho^5 - (2*epsilon^3 + 3*epsilon^2 - 2)*rho^3 - ((3*epsilon^5 - 2*epsilon^3)*rho^18 - 9*(2*epsilon^5 - epsilon^4 - 2*epsilon^3)*rho^16 + 9*(5*epsilon^5 - 6*epsilon^4 - 7*epsilon^3)*rho^14 - 3*(20*epsilon^5 - 45*epsilon^4 - 38*epsilon^3 - epsilon^2)*rho^12 + 9*(5*epsilon^5 - 20*epsilon^4 - 13*epsilon^3 - 2*epsilon^2)*rho^10 - 9*(2*epsilon^5 - 15*epsilon^4 - 8*epsilon^3 - 5*epsilon^2)*rho^8 + 3*(epsilon^5 - 18*epsilon^4 - 11*epsilon^3 - 20*epsilon^2)*rho^6 + 9*(epsilon^4 + 2*epsilon^3 + 5*epsilon^2)*rho^4 + 2*epsilon^3 - 9*(epsilon^3 + 2*epsilon^2)*rho^2 + 3*epsilon^2)*abs(epsilon*rho^5 + rho^3))/(epsilon^10*rho^23 + 10*epsilon^9*rho^21 + 45*epsilon^8*rho^19 + 120*epsilon^7*rho^17 + 210*epsilon^6*rho^15 + 252*epsilon^5*rho^13 + 210*epsilon^4*rho^11 + 120*epsilon^3*rho^9 + 45*epsilon^2*rho^7 + 10*epsilon*rho^5 + rho^3)"
      ]
     },
     "execution_count": 2,
     "metadata": {},
     "output_type": "execute_result"
    }
   ],
   "source": [
    "det"
   ]
  },
  {
   "cell_type": "code",
   "execution_count": 19,
   "id": "third-occasions",
   "metadata": {},
   "outputs": [
    {
     "data": {
      "text/html": [
       "<html><script type=\"math/tex; mode=display\">\\newcommand{\\Bold}[1]{\\mathbf{#1}}0</script></html>"
      ],
      "text/latex": [
       "\\begin{math}\n",
       "\\newcommand{\\Bold}[1]{\\mathbf{#1}}0\n",
       "\\end{math}"
      ],
      "text/plain": [
       "0"
      ]
     },
     "execution_count": 19,
     "metadata": {},
     "output_type": "execute_result"
    }
   ],
   "source": [
    "limit(det.expr().substitute(epsilon=1/2),rho=0)"
   ]
  },
  {
   "cell_type": "code",
   "execution_count": 8,
   "id": "extensive-corpus",
   "metadata": {},
   "outputs": [
    {
     "data": {
      "text/html": [
       "<html><script type=\"math/tex; mode=display\">\\newcommand{\\Bold}[1]{\\mathbf{#1}}\\left(\\begin{array}{rrr}\n",
       "\\frac{2 \\, {\\left(\\epsilon^{2} {\\rho}^{11} - {\\left(3 \\, \\epsilon^{2} - \\epsilon\\right)} {\\rho}^{9} + 3 \\, {\\left(\\epsilon^{2} - \\epsilon\\right)} {\\rho}^{7} - {\\left(\\epsilon^{2} - 3 \\, \\epsilon\\right)} {\\rho}^{5} - \\epsilon {\\rho}^{3} - {\\left(\\epsilon {\\rho}^{6} - 3 \\, \\epsilon {\\rho}^{4} + 3 \\, \\epsilon {\\rho}^{2} - \\epsilon\\right)} {\\left| \\epsilon {\\rho}^{5} + {\\rho}^{3} \\right|}\\right)}}{\\epsilon^{4} {\\rho}^{11} + 4 \\, \\epsilon^{3} {\\rho}^{9} + 6 \\, \\epsilon^{2} {\\rho}^{7} + 4 \\, \\epsilon {\\rho}^{5} + {\\rho}^{3}} & 0 & 0 \\\\\n",
       "0 & \\frac{2 \\, {\\left(\\epsilon^{2} {\\rho}^{11} - {\\left(3 \\, \\epsilon^{2} - \\epsilon\\right)} {\\rho}^{9} + 3 \\, {\\left(\\epsilon^{2} - \\epsilon\\right)} {\\rho}^{7} - {\\left(\\epsilon^{2} - 3 \\, \\epsilon\\right)} {\\rho}^{5} - \\epsilon {\\rho}^{3} - {\\left(\\epsilon {\\rho}^{6} - 3 \\, \\epsilon {\\rho}^{4} + 3 \\, \\epsilon {\\rho}^{2} - \\epsilon\\right)} {\\left| \\epsilon {\\rho}^{5} + {\\rho}^{3} \\right|}\\right)}}{\\epsilon^{4} {\\rho}^{11} + 4 \\, \\epsilon^{3} {\\rho}^{9} + 6 \\, \\epsilon^{2} {\\rho}^{7} + 4 \\, \\epsilon {\\rho}^{5} + {\\rho}^{3}} & -\\frac{6 \\, {\\left(\\epsilon^{2} {\\rho}^{11} - {\\left(3 \\, \\epsilon^{2} - \\epsilon\\right)} {\\rho}^{9} + 3 \\, {\\left(\\epsilon^{2} - \\epsilon\\right)} {\\rho}^{7} - {\\left(\\epsilon^{2} - 3 \\, \\epsilon\\right)} {\\rho}^{5} - \\epsilon {\\rho}^{3} - {\\left(\\epsilon {\\rho}^{6} - 3 \\, \\epsilon {\\rho}^{4} + 3 \\, \\epsilon {\\rho}^{2} - \\epsilon\\right)} {\\left| \\epsilon {\\rho}^{5} + {\\rho}^{3} \\right|}\\right)} \\cos\\left({\\theta}\\right)}{\\epsilon^{4} {\\rho}^{11} + 4 \\, \\epsilon^{3} {\\rho}^{9} + 6 \\, \\epsilon^{2} {\\rho}^{7} + 4 \\, \\epsilon {\\rho}^{5} + {\\rho}^{3}} \\\\\n",
       "0 & 0 & -\\frac{4 \\, {\\left(\\epsilon^{2} {\\rho}^{11} - {\\left(3 \\, \\epsilon^{2} - \\epsilon\\right)} {\\rho}^{9} + 3 \\, {\\left(\\epsilon^{2} - \\epsilon\\right)} {\\rho}^{7} - {\\left(\\epsilon^{2} - 3 \\, \\epsilon\\right)} {\\rho}^{5} - \\epsilon {\\rho}^{3} - {\\left(\\epsilon {\\rho}^{6} - 3 \\, \\epsilon {\\rho}^{4} + 3 \\, \\epsilon {\\rho}^{2} - \\epsilon\\right)} {\\left| \\epsilon {\\rho}^{5} + {\\rho}^{3} \\right|}\\right)}}{\\epsilon^{4} {\\rho}^{11} + 4 \\, \\epsilon^{3} {\\rho}^{9} + 6 \\, \\epsilon^{2} {\\rho}^{7} + 4 \\, \\epsilon {\\rho}^{5} + {\\rho}^{3}}\n",
       "\\end{array}\\right)</script></html>"
      ],
      "text/latex": [
       "\\begin{math}\n",
       "\\newcommand{\\Bold}[1]{\\mathbf{#1}}\\left(\\begin{array}{rrr}\n",
       "\\frac{2 \\, {\\left(\\epsilon^{2} {\\rho}^{11} - {\\left(3 \\, \\epsilon^{2} - \\epsilon\\right)} {\\rho}^{9} + 3 \\, {\\left(\\epsilon^{2} - \\epsilon\\right)} {\\rho}^{7} - {\\left(\\epsilon^{2} - 3 \\, \\epsilon\\right)} {\\rho}^{5} - \\epsilon {\\rho}^{3} - {\\left(\\epsilon {\\rho}^{6} - 3 \\, \\epsilon {\\rho}^{4} + 3 \\, \\epsilon {\\rho}^{2} - \\epsilon\\right)} {\\left| \\epsilon {\\rho}^{5} + {\\rho}^{3} \\right|}\\right)}}{\\epsilon^{4} {\\rho}^{11} + 4 \\, \\epsilon^{3} {\\rho}^{9} + 6 \\, \\epsilon^{2} {\\rho}^{7} + 4 \\, \\epsilon {\\rho}^{5} + {\\rho}^{3}} & 0 & 0 \\\\\n",
       "0 & \\frac{2 \\, {\\left(\\epsilon^{2} {\\rho}^{11} - {\\left(3 \\, \\epsilon^{2} - \\epsilon\\right)} {\\rho}^{9} + 3 \\, {\\left(\\epsilon^{2} - \\epsilon\\right)} {\\rho}^{7} - {\\left(\\epsilon^{2} - 3 \\, \\epsilon\\right)} {\\rho}^{5} - \\epsilon {\\rho}^{3} - {\\left(\\epsilon {\\rho}^{6} - 3 \\, \\epsilon {\\rho}^{4} + 3 \\, \\epsilon {\\rho}^{2} - \\epsilon\\right)} {\\left| \\epsilon {\\rho}^{5} + {\\rho}^{3} \\right|}\\right)}}{\\epsilon^{4} {\\rho}^{11} + 4 \\, \\epsilon^{3} {\\rho}^{9} + 6 \\, \\epsilon^{2} {\\rho}^{7} + 4 \\, \\epsilon {\\rho}^{5} + {\\rho}^{3}} & -\\frac{6 \\, {\\left(\\epsilon^{2} {\\rho}^{11} - {\\left(3 \\, \\epsilon^{2} - \\epsilon\\right)} {\\rho}^{9} + 3 \\, {\\left(\\epsilon^{2} - \\epsilon\\right)} {\\rho}^{7} - {\\left(\\epsilon^{2} - 3 \\, \\epsilon\\right)} {\\rho}^{5} - \\epsilon {\\rho}^{3} - {\\left(\\epsilon {\\rho}^{6} - 3 \\, \\epsilon {\\rho}^{4} + 3 \\, \\epsilon {\\rho}^{2} - \\epsilon\\right)} {\\left| \\epsilon {\\rho}^{5} + {\\rho}^{3} \\right|}\\right)} \\cos\\left({\\theta}\\right)}{\\epsilon^{4} {\\rho}^{11} + 4 \\, \\epsilon^{3} {\\rho}^{9} + 6 \\, \\epsilon^{2} {\\rho}^{7} + 4 \\, \\epsilon {\\rho}^{5} + {\\rho}^{3}} \\\\\n",
       "0 & 0 & -\\frac{4 \\, {\\left(\\epsilon^{2} {\\rho}^{11} - {\\left(3 \\, \\epsilon^{2} - \\epsilon\\right)} {\\rho}^{9} + 3 \\, {\\left(\\epsilon^{2} - \\epsilon\\right)} {\\rho}^{7} - {\\left(\\epsilon^{2} - 3 \\, \\epsilon\\right)} {\\rho}^{5} - \\epsilon {\\rho}^{3} - {\\left(\\epsilon {\\rho}^{6} - 3 \\, \\epsilon {\\rho}^{4} + 3 \\, \\epsilon {\\rho}^{2} - \\epsilon\\right)} {\\left| \\epsilon {\\rho}^{5} + {\\rho}^{3} \\right|}\\right)}}{\\epsilon^{4} {\\rho}^{11} + 4 \\, \\epsilon^{3} {\\rho}^{9} + 6 \\, \\epsilon^{2} {\\rho}^{7} + 4 \\, \\epsilon {\\rho}^{5} + {\\rho}^{3}}\n",
       "\\end{array}\\right)\n",
       "\\end{math}"
      ],
      "text/plain": [
       "[         2*(epsilon^2*rho^11 - (3*epsilon^2 - epsilon)*rho^9 + 3*(epsilon^2 - epsilon)*rho^7 - (epsilon^2 - 3*epsilon)*rho^5 - epsilon*rho^3 - (epsilon*rho^6 - 3*epsilon*rho^4 + 3*epsilon*rho^2 - epsilon)*abs(epsilon*rho^5 + rho^3))/(epsilon^4*rho^11 + 4*epsilon^3*rho^9 + 6*epsilon^2*rho^7 + 4*epsilon*rho^5 + rho^3)                                                                                                                                                                                                                                                                                                                             0                                                                                                                                                                                                                                                                                                                             0]\n",
       "[                                                                                                                                                                                                                                                                                                                            0          2*(epsilon^2*rho^11 - (3*epsilon^2 - epsilon)*rho^9 + 3*(epsilon^2 - epsilon)*rho^7 - (epsilon^2 - 3*epsilon)*rho^5 - epsilon*rho^3 - (epsilon*rho^6 - 3*epsilon*rho^4 + 3*epsilon*rho^2 - epsilon)*abs(epsilon*rho^5 + rho^3))/(epsilon^4*rho^11 + 4*epsilon^3*rho^9 + 6*epsilon^2*rho^7 + 4*epsilon*rho^5 + rho^3) -6*(epsilon^2*rho^11 - (3*epsilon^2 - epsilon)*rho^9 + 3*(epsilon^2 - epsilon)*rho^7 - (epsilon^2 - 3*epsilon)*rho^5 - epsilon*rho^3 - (epsilon*rho^6 - 3*epsilon*rho^4 + 3*epsilon*rho^2 - epsilon)*abs(epsilon*rho^5 + rho^3))*cos(th)/(epsilon^4*rho^11 + 4*epsilon^3*rho^9 + 6*epsilon^2*rho^7 + 4*epsilon*rho^5 + rho^3)]\n",
       "[                                                                                                                                                                                                                                                                                                                            0                                                                                                                                                                                                                                                                                                                             0         -4*(epsilon^2*rho^11 - (3*epsilon^2 - epsilon)*rho^9 + 3*(epsilon^2 - epsilon)*rho^7 - (epsilon^2 - 3*epsilon)*rho^5 - epsilon*rho^3 - (epsilon*rho^6 - 3*epsilon*rho^4 + 3*epsilon*rho^2 - epsilon)*abs(epsilon*rho^5 + rho^3))/(epsilon^4*rho^11 + 4*epsilon^3*rho^9 + 6*epsilon^2*rho^7 + 4*epsilon*rho^5 + rho^3)]"
      ]
     },
     "execution_count": 8,
     "metadata": {},
     "output_type": "execute_result"
    }
   ],
   "source": [
    "Wplus3matrix"
   ]
  },
  {
   "cell_type": "code",
   "execution_count": 17,
   "id": "swedish-approach",
   "metadata": {},
   "outputs": [
    {
     "data": {
      "text/html": [
       "<html><script type=\"math/tex; mode=display\">\\newcommand{\\Bold}[1]{\\mathbf{#1}}\\left(\\begin{array}{rrr}\n",
       "\\frac{8 \\, {\\left({\\rho}^{11} - {\\rho}^{9} - 3 \\, {\\rho}^{7} + 5 \\, {\\rho}^{5} - 2 \\, {\\rho}^{3} - {\\left({\\rho}^{6} - 3 \\, {\\rho}^{4} + 3 \\, {\\rho}^{2} - 1\\right)} {\\left({\\rho}^{5} + 2 \\, {\\rho}^{3}\\right)}\\right)}}{{\\rho}^{11} + 8 \\, {\\rho}^{9} + 24 \\, {\\rho}^{7} + 32 \\, {\\rho}^{5} + 16 \\, {\\rho}^{3}} & 0 & 0 \\\\\n",
       "0 & \\frac{8 \\, {\\left({\\rho}^{11} - {\\rho}^{9} - 3 \\, {\\rho}^{7} + 5 \\, {\\rho}^{5} - 2 \\, {\\rho}^{3} - {\\left({\\rho}^{6} - 3 \\, {\\rho}^{4} + 3 \\, {\\rho}^{2} - 1\\right)} {\\left({\\rho}^{5} + 2 \\, {\\rho}^{3}\\right)}\\right)}}{{\\rho}^{11} + 8 \\, {\\rho}^{9} + 24 \\, {\\rho}^{7} + 32 \\, {\\rho}^{5} + 16 \\, {\\rho}^{3}} & -\\frac{24 \\, {\\left({\\rho}^{11} - {\\rho}^{9} - 3 \\, {\\rho}^{7} + 5 \\, {\\rho}^{5} - 2 \\, {\\rho}^{3} - {\\left({\\rho}^{6} - 3 \\, {\\rho}^{4} + 3 \\, {\\rho}^{2} - 1\\right)} {\\left({\\rho}^{5} + 2 \\, {\\rho}^{3}\\right)}\\right)} \\cos\\left({\\theta}\\right)}{{\\rho}^{11} + 8 \\, {\\rho}^{9} + 24 \\, {\\rho}^{7} + 32 \\, {\\rho}^{5} + 16 \\, {\\rho}^{3}} \\\\\n",
       "0 & 0 & -\\frac{16 \\, {\\left({\\rho}^{11} - {\\rho}^{9} - 3 \\, {\\rho}^{7} + 5 \\, {\\rho}^{5} - 2 \\, {\\rho}^{3} - {\\left({\\rho}^{6} - 3 \\, {\\rho}^{4} + 3 \\, {\\rho}^{2} - 1\\right)} {\\left({\\rho}^{5} + 2 \\, {\\rho}^{3}\\right)}\\right)}}{{\\rho}^{11} + 8 \\, {\\rho}^{9} + 24 \\, {\\rho}^{7} + 32 \\, {\\rho}^{5} + 16 \\, {\\rho}^{3}}\n",
       "\\end{array}\\right)</script></html>"
      ],
      "text/latex": [
       "\\begin{math}\n",
       "\\newcommand{\\Bold}[1]{\\mathbf{#1}}\\left(\\begin{array}{rrr}\n",
       "\\frac{8 \\, {\\left({\\rho}^{11} - {\\rho}^{9} - 3 \\, {\\rho}^{7} + 5 \\, {\\rho}^{5} - 2 \\, {\\rho}^{3} - {\\left({\\rho}^{6} - 3 \\, {\\rho}^{4} + 3 \\, {\\rho}^{2} - 1\\right)} {\\left({\\rho}^{5} + 2 \\, {\\rho}^{3}\\right)}\\right)}}{{\\rho}^{11} + 8 \\, {\\rho}^{9} + 24 \\, {\\rho}^{7} + 32 \\, {\\rho}^{5} + 16 \\, {\\rho}^{3}} & 0 & 0 \\\\\n",
       "0 & \\frac{8 \\, {\\left({\\rho}^{11} - {\\rho}^{9} - 3 \\, {\\rho}^{7} + 5 \\, {\\rho}^{5} - 2 \\, {\\rho}^{3} - {\\left({\\rho}^{6} - 3 \\, {\\rho}^{4} + 3 \\, {\\rho}^{2} - 1\\right)} {\\left({\\rho}^{5} + 2 \\, {\\rho}^{3}\\right)}\\right)}}{{\\rho}^{11} + 8 \\, {\\rho}^{9} + 24 \\, {\\rho}^{7} + 32 \\, {\\rho}^{5} + 16 \\, {\\rho}^{3}} & -\\frac{24 \\, {\\left({\\rho}^{11} - {\\rho}^{9} - 3 \\, {\\rho}^{7} + 5 \\, {\\rho}^{5} - 2 \\, {\\rho}^{3} - {\\left({\\rho}^{6} - 3 \\, {\\rho}^{4} + 3 \\, {\\rho}^{2} - 1\\right)} {\\left({\\rho}^{5} + 2 \\, {\\rho}^{3}\\right)}\\right)} \\cos\\left({\\theta}\\right)}{{\\rho}^{11} + 8 \\, {\\rho}^{9} + 24 \\, {\\rho}^{7} + 32 \\, {\\rho}^{5} + 16 \\, {\\rho}^{3}} \\\\\n",
       "0 & 0 & -\\frac{16 \\, {\\left({\\rho}^{11} - {\\rho}^{9} - 3 \\, {\\rho}^{7} + 5 \\, {\\rho}^{5} - 2 \\, {\\rho}^{3} - {\\left({\\rho}^{6} - 3 \\, {\\rho}^{4} + 3 \\, {\\rho}^{2} - 1\\right)} {\\left({\\rho}^{5} + 2 \\, {\\rho}^{3}\\right)}\\right)}}{{\\rho}^{11} + 8 \\, {\\rho}^{9} + 24 \\, {\\rho}^{7} + 32 \\, {\\rho}^{5} + 16 \\, {\\rho}^{3}}\n",
       "\\end{array}\\right)\n",
       "\\end{math}"
      ],
      "text/plain": [
       "[          8*(rho^11 - rho^9 - 3*rho^7 + 5*rho^5 - 2*rho^3 - (rho^6 - 3*rho^4 + 3*rho^2 - 1)*(rho^5 + 2*rho^3))/(rho^11 + 8*rho^9 + 24*rho^7 + 32*rho^5 + 16*rho^3)                                                                                                                                                                  0                                                                                                                                                                  0]\n",
       "[                                                                                                                                                                 0           8*(rho^11 - rho^9 - 3*rho^7 + 5*rho^5 - 2*rho^3 - (rho^6 - 3*rho^4 + 3*rho^2 - 1)*(rho^5 + 2*rho^3))/(rho^11 + 8*rho^9 + 24*rho^7 + 32*rho^5 + 16*rho^3) -24*(rho^11 - rho^9 - 3*rho^7 + 5*rho^5 - 2*rho^3 - (rho^6 - 3*rho^4 + 3*rho^2 - 1)*(rho^5 + 2*rho^3))*cos(th)/(rho^11 + 8*rho^9 + 24*rho^7 + 32*rho^5 + 16*rho^3)]\n",
       "[                                                                                                                                                                 0                                                                                                                                                                  0         -16*(rho^11 - rho^9 - 3*rho^7 + 5*rho^5 - 2*rho^3 - (rho^6 - 3*rho^4 + 3*rho^2 - 1)*(rho^5 + 2*rho^3))/(rho^11 + 8*rho^9 + 24*rho^7 + 32*rho^5 + 16*rho^3)]"
      ]
     },
     "execution_count": 17,
     "metadata": {},
     "output_type": "execute_result"
    }
   ],
   "source": [
    "matrix([[x.expr() for x in y] for y in Wplus3list]).transpose().substitute(epsilon=1/2)\n",
    "#why is this not 0?\n",
    "#something wrong with the coframe?"
   ]
  },
  {
   "cell_type": "code",
   "execution_count": null,
   "id": "appointed-vienna",
   "metadata": {},
   "outputs": [],
   "source": []
  }
 ],
 "metadata": {
  "kernelspec": {
   "display_name": "SageMath 9.2",
   "language": "sage",
   "name": "sagemath"
  },
  "language_info": {
   "codemirror_mode": {
    "name": "ipython",
    "version": 3
   },
   "file_extension": ".py",
   "mimetype": "text/x-python",
   "name": "python",
   "nbconvert_exporter": "python",
   "pygments_lexer": "ipython3",
   "version": "3.9.2"
  }
 },
 "nbformat": 4,
 "nbformat_minor": 5
}
